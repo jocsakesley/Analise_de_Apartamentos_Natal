{
  "nbformat": 4,
  "nbformat_minor": 0,
  "metadata": {
    "colab": {
      "name": "Analise_apartamentos_Natal.ipynb",
      "provenance": [],
      "collapsed_sections": [],
      "toc_visible": true,
      "mount_file_id": "1V3KJU1syPeZY8WbxlUwcwmMzYPsbV4fM",
      "authorship_tag": "ABX9TyP3oQo7C2CuCyElk8iHGLn6",
      "include_colab_link": true
    },
    "kernelspec": {
      "name": "python3",
      "display_name": "Python 3"
    }
  },
  "cells": [
    {
      "cell_type": "markdown",
      "metadata": {
        "id": "view-in-github",
        "colab_type": "text"
      },
      "source": [
        "<a href=\"https://colab.research.google.com/github/jocsakesley/Analise_de_Apartamentos_Natal/blob/master/Analise_apartamentos_Natal.ipynb\" target=\"_parent\"><img src=\"https://colab.research.google.com/assets/colab-badge.svg\" alt=\"Open In Colab\"/></a>"
      ]
    },
    {
      "cell_type": "code",
      "metadata": {
        "id": "v0P9MGdp0RUA",
        "colab_type": "code",
        "colab": {
          "base_uri": "https://localhost:8080/",
          "height": 72
        },
        "outputId": "5bc0ab6d-1a80-419e-df3f-4c73e4c30cde"
      },
      "source": [
        "#importando as bibliotecas\n",
        "import pandas as pd\n",
        "import numpy as np\n",
        "import matplotlib.pyplot as plt\n",
        "import seaborn as sns\n",
        "from sklearn import preprocessing\n",
        "from sklearn.model_selection import train_test_split\n",
        "from sklearn.linear_model import LinearRegression\n",
        "from sklearn.metrics import mean_squared_error, r2_score\n",
        "from sklearn.preprocessing import StandardScaler\n",
        "from math import sqrt"
      ],
      "execution_count": 1,
      "outputs": [
        {
          "output_type": "stream",
          "text": [
            "/usr/local/lib/python3.6/dist-packages/statsmodels/tools/_testing.py:19: FutureWarning: pandas.util.testing is deprecated. Use the functions in the public API at pandas.testing instead.\n",
            "  import pandas.util.testing as tm\n"
          ],
          "name": "stderr"
        }
      ]
    },
    {
      "cell_type": "code",
      "metadata": {
        "id": "282r1CTf0cHg",
        "colab_type": "code",
        "colab": {}
      },
      "source": [
        "#lendo o arquivo csv\n",
        "df = pd.read_csv(\"/content/drive/My Drive/Webscreping_vivareal/apartamentos_natal.csv\")"
      ],
      "execution_count": 2,
      "outputs": []
    },
    {
      "cell_type": "markdown",
      "metadata": {
        "id": "bTaldE9rDxdq",
        "colab_type": "text"
      },
      "source": [
        "#Tratando colunas com valores numéricos"
      ]
    },
    {
      "cell_type": "code",
      "metadata": {
        "id": "Pi78zHuDFVtb",
        "colab_type": "code",
        "colab": {
          "base_uri": "https://localhost:8080/",
          "height": 1000
        },
        "outputId": "0719cf11-43da-42ae-e034-7574254faba8"
      },
      "source": [
        "#removendo caracteres das strings para converter em valores numéricos\n",
        "df['aluguel'] = df['aluguel'].str.lstrip('R$ ').str.rstrip(' ').str.replace(\".\",\"\")\n",
        "df['condominio'] = df['condominio'].str.lstrip('R$ ').str.rstrip(' ').str.replace(\".\",\"\")\n",
        "df['iptu'] = df['iptu'].str.lstrip('R$ ').str.rstrip(' ').str.replace(\".\",\"\")\n",
        "df['suite'] = df['suite'].str.rstrip(' suíte')\n",
        "df"
      ],
      "execution_count": 3,
      "outputs": [
        {
          "output_type": "execute_result",
          "data": {
            "text/html": [
              "<div>\n",
              "<style scoped>\n",
              "    .dataframe tbody tr th:only-of-type {\n",
              "        vertical-align: middle;\n",
              "    }\n",
              "\n",
              "    .dataframe tbody tr th {\n",
              "        vertical-align: top;\n",
              "    }\n",
              "\n",
              "    .dataframe thead th {\n",
              "        text-align: right;\n",
              "    }\n",
              "</style>\n",
              "<table border=\"1\" class=\"dataframe\">\n",
              "  <thead>\n",
              "    <tr style=\"text-align: right;\">\n",
              "      <th></th>\n",
              "      <th>links</th>\n",
              "      <th>endereco</th>\n",
              "      <th>aluguel</th>\n",
              "      <th>tipo_aluguel</th>\n",
              "      <th>condominio</th>\n",
              "      <th>iptu</th>\n",
              "      <th>area</th>\n",
              "      <th>quartos</th>\n",
              "      <th>banheiros</th>\n",
              "      <th>suite</th>\n",
              "      <th>vagas</th>\n",
              "    </tr>\n",
              "  </thead>\n",
              "  <tbody>\n",
              "    <tr>\n",
              "      <th>0</th>\n",
              "      <td>https://www.vivareal.com.br/imovel/apartamento...</td>\n",
              "      <td>Rua Professor Arthéphio Bezerra, 210 - Lagoa N...</td>\n",
              "      <td>1450</td>\n",
              "      <td>/Mês</td>\n",
              "      <td>NaN</td>\n",
              "      <td>NaN</td>\n",
              "      <td>110.0</td>\n",
              "      <td>4.0</td>\n",
              "      <td>3.0</td>\n",
              "      <td>1</td>\n",
              "      <td>2.0</td>\n",
              "    </tr>\n",
              "    <tr>\n",
              "      <th>1</th>\n",
              "      <td>https://www.vivareal.com.br/imovel/apartamento...</td>\n",
              "      <td>Rua Tenente Olávo Francisco dos Santos, 98 - V...</td>\n",
              "      <td>2700</td>\n",
              "      <td>/Mês</td>\n",
              "      <td>NaN</td>\n",
              "      <td>NaN</td>\n",
              "      <td>110.0</td>\n",
              "      <td>3.0</td>\n",
              "      <td>3.0</td>\n",
              "      <td>3</td>\n",
              "      <td>2.0</td>\n",
              "    </tr>\n",
              "    <tr>\n",
              "      <th>2</th>\n",
              "      <td>https://www.vivareal.com.br/imovel/apartamento...</td>\n",
              "      <td>Avenida das Brancas Dunas, 65 - Candelária, Na...</td>\n",
              "      <td>1500</td>\n",
              "      <td>/Mês</td>\n",
              "      <td>NaN</td>\n",
              "      <td>NaN</td>\n",
              "      <td>57.0</td>\n",
              "      <td>2.0</td>\n",
              "      <td>2.0</td>\n",
              "      <td>1</td>\n",
              "      <td>1.0</td>\n",
              "    </tr>\n",
              "    <tr>\n",
              "      <th>3</th>\n",
              "      <td>https://www.vivareal.com.br/imovel/apartamento...</td>\n",
              "      <td>Avenida Deputado Antônio Florêncio de Queiroz,...</td>\n",
              "      <td>2500</td>\n",
              "      <td>/Mês</td>\n",
              "      <td>NaN</td>\n",
              "      <td>NaN</td>\n",
              "      <td>79.0</td>\n",
              "      <td>3.0</td>\n",
              "      <td>2.0</td>\n",
              "      <td>1</td>\n",
              "      <td>2.0</td>\n",
              "    </tr>\n",
              "    <tr>\n",
              "      <th>4</th>\n",
              "      <td>https://www.vivareal.com.br/imovel/apartamento...</td>\n",
              "      <td>Rua Vereador Manoel Coringa de Lemos, 259 - Po...</td>\n",
              "      <td>850</td>\n",
              "      <td>/Mês</td>\n",
              "      <td>NaN</td>\n",
              "      <td>NaN</td>\n",
              "      <td>40.0</td>\n",
              "      <td>1.0</td>\n",
              "      <td>1.0</td>\n",
              "      <td>1</td>\n",
              "      <td>1.0</td>\n",
              "    </tr>\n",
              "    <tr>\n",
              "      <th>...</th>\n",
              "      <td>...</td>\n",
              "      <td>...</td>\n",
              "      <td>...</td>\n",
              "      <td>...</td>\n",
              "      <td>...</td>\n",
              "      <td>...</td>\n",
              "      <td>...</td>\n",
              "      <td>...</td>\n",
              "      <td>...</td>\n",
              "      <td>...</td>\n",
              "      <td>...</td>\n",
              "    </tr>\n",
              "    <tr>\n",
              "      <th>1917</th>\n",
              "      <td>https://www.vivareal.com.br/imovel/apartamento...</td>\n",
              "      <td>Avenida Estrela do Mar, 2215 - Ponta Negra, Na...</td>\n",
              "      <td>1500</td>\n",
              "      <td>/Mês</td>\n",
              "      <td>385</td>\n",
              "      <td>1500</td>\n",
              "      <td>60.0</td>\n",
              "      <td>2.0</td>\n",
              "      <td>1.0</td>\n",
              "      <td>1</td>\n",
              "      <td>1.0</td>\n",
              "    </tr>\n",
              "    <tr>\n",
              "      <th>1918</th>\n",
              "      <td>https://www.vivareal.com.br/imovel/apartamento...</td>\n",
              "      <td>Ponta Negra, Natal - RN</td>\n",
              "      <td>1800</td>\n",
              "      <td>/Mês</td>\n",
              "      <td>NaN</td>\n",
              "      <td>NaN</td>\n",
              "      <td>52.0</td>\n",
              "      <td>2.0</td>\n",
              "      <td>1.0</td>\n",
              "      <td>NaN</td>\n",
              "      <td>1.0</td>\n",
              "    </tr>\n",
              "    <tr>\n",
              "      <th>1919</th>\n",
              "      <td>https://www.vivareal.com.br/imovel/apartamento...</td>\n",
              "      <td>Areia Preta, Natal - RN</td>\n",
              "      <td>8500</td>\n",
              "      <td>/Mês</td>\n",
              "      <td>NaN</td>\n",
              "      <td>NaN</td>\n",
              "      <td>424.0</td>\n",
              "      <td>4.0</td>\n",
              "      <td>5.0</td>\n",
              "      <td>4</td>\n",
              "      <td>5.0</td>\n",
              "    </tr>\n",
              "    <tr>\n",
              "      <th>1920</th>\n",
              "      <td>https://www.vivareal.com.br/imovel/apartamento...</td>\n",
              "      <td>Avenida dos Caiapós, 121 - Pitimbu, Natal - RN</td>\n",
              "      <td>1200</td>\n",
              "      <td>/Mês</td>\n",
              "      <td>NaN</td>\n",
              "      <td>NaN</td>\n",
              "      <td>49.0</td>\n",
              "      <td>2.0</td>\n",
              "      <td>1.0</td>\n",
              "      <td>NaN</td>\n",
              "      <td>1.0</td>\n",
              "    </tr>\n",
              "    <tr>\n",
              "      <th>1921</th>\n",
              "      <td>https://www.vivareal.com.br/imovel/apartamento...</td>\n",
              "      <td>Rua Alexandre Câmara, 1756 - Capim Macio, Nata...</td>\n",
              "      <td>1100</td>\n",
              "      <td>/Mês</td>\n",
              "      <td>NaN</td>\n",
              "      <td>NaN</td>\n",
              "      <td>74.0</td>\n",
              "      <td>3.0</td>\n",
              "      <td>2.0</td>\n",
              "      <td>1</td>\n",
              "      <td>1.0</td>\n",
              "    </tr>\n",
              "  </tbody>\n",
              "</table>\n",
              "<p>1922 rows × 11 columns</p>\n",
              "</div>"
            ],
            "text/plain": [
              "                                                  links  ... vagas\n",
              "0     https://www.vivareal.com.br/imovel/apartamento...  ...   2.0\n",
              "1     https://www.vivareal.com.br/imovel/apartamento...  ...   2.0\n",
              "2     https://www.vivareal.com.br/imovel/apartamento...  ...   1.0\n",
              "3     https://www.vivareal.com.br/imovel/apartamento...  ...   2.0\n",
              "4     https://www.vivareal.com.br/imovel/apartamento...  ...   1.0\n",
              "...                                                 ...  ...   ...\n",
              "1917  https://www.vivareal.com.br/imovel/apartamento...  ...   1.0\n",
              "1918  https://www.vivareal.com.br/imovel/apartamento...  ...   1.0\n",
              "1919  https://www.vivareal.com.br/imovel/apartamento...  ...   5.0\n",
              "1920  https://www.vivareal.com.br/imovel/apartamento...  ...   1.0\n",
              "1921  https://www.vivareal.com.br/imovel/apartamento...  ...   1.0\n",
              "\n",
              "[1922 rows x 11 columns]"
            ]
          },
          "metadata": {
            "tags": []
          },
          "execution_count": 3
        }
      ]
    },
    {
      "cell_type": "code",
      "metadata": {
        "id": "VtIESH2qLp-3",
        "colab_type": "code",
        "colab": {
          "base_uri": "https://localhost:8080/",
          "height": 1000
        },
        "outputId": "f7bfe342-05a3-45df-d928-cfcbdf151779"
      },
      "source": [
        "#transformando as colunas numéricas que estão como string, em valores numéricos\n",
        "df['aluguel'] = pd.to_numeric(df['aluguel'])\n",
        "df['condominio'] = pd.to_numeric(df['condominio'])\n",
        "df['iptu'] = pd.to_numeric(df['iptu'])\n",
        "df['suite'] = pd.to_numeric(df['suite'])\n",
        "df"
      ],
      "execution_count": 4,
      "outputs": [
        {
          "output_type": "execute_result",
          "data": {
            "text/html": [
              "<div>\n",
              "<style scoped>\n",
              "    .dataframe tbody tr th:only-of-type {\n",
              "        vertical-align: middle;\n",
              "    }\n",
              "\n",
              "    .dataframe tbody tr th {\n",
              "        vertical-align: top;\n",
              "    }\n",
              "\n",
              "    .dataframe thead th {\n",
              "        text-align: right;\n",
              "    }\n",
              "</style>\n",
              "<table border=\"1\" class=\"dataframe\">\n",
              "  <thead>\n",
              "    <tr style=\"text-align: right;\">\n",
              "      <th></th>\n",
              "      <th>links</th>\n",
              "      <th>endereco</th>\n",
              "      <th>aluguel</th>\n",
              "      <th>tipo_aluguel</th>\n",
              "      <th>condominio</th>\n",
              "      <th>iptu</th>\n",
              "      <th>area</th>\n",
              "      <th>quartos</th>\n",
              "      <th>banheiros</th>\n",
              "      <th>suite</th>\n",
              "      <th>vagas</th>\n",
              "    </tr>\n",
              "  </thead>\n",
              "  <tbody>\n",
              "    <tr>\n",
              "      <th>0</th>\n",
              "      <td>https://www.vivareal.com.br/imovel/apartamento...</td>\n",
              "      <td>Rua Professor Arthéphio Bezerra, 210 - Lagoa N...</td>\n",
              "      <td>1450.0</td>\n",
              "      <td>/Mês</td>\n",
              "      <td>NaN</td>\n",
              "      <td>NaN</td>\n",
              "      <td>110.0</td>\n",
              "      <td>4.0</td>\n",
              "      <td>3.0</td>\n",
              "      <td>1.0</td>\n",
              "      <td>2.0</td>\n",
              "    </tr>\n",
              "    <tr>\n",
              "      <th>1</th>\n",
              "      <td>https://www.vivareal.com.br/imovel/apartamento...</td>\n",
              "      <td>Rua Tenente Olávo Francisco dos Santos, 98 - V...</td>\n",
              "      <td>2700.0</td>\n",
              "      <td>/Mês</td>\n",
              "      <td>NaN</td>\n",
              "      <td>NaN</td>\n",
              "      <td>110.0</td>\n",
              "      <td>3.0</td>\n",
              "      <td>3.0</td>\n",
              "      <td>3.0</td>\n",
              "      <td>2.0</td>\n",
              "    </tr>\n",
              "    <tr>\n",
              "      <th>2</th>\n",
              "      <td>https://www.vivareal.com.br/imovel/apartamento...</td>\n",
              "      <td>Avenida das Brancas Dunas, 65 - Candelária, Na...</td>\n",
              "      <td>1500.0</td>\n",
              "      <td>/Mês</td>\n",
              "      <td>NaN</td>\n",
              "      <td>NaN</td>\n",
              "      <td>57.0</td>\n",
              "      <td>2.0</td>\n",
              "      <td>2.0</td>\n",
              "      <td>1.0</td>\n",
              "      <td>1.0</td>\n",
              "    </tr>\n",
              "    <tr>\n",
              "      <th>3</th>\n",
              "      <td>https://www.vivareal.com.br/imovel/apartamento...</td>\n",
              "      <td>Avenida Deputado Antônio Florêncio de Queiroz,...</td>\n",
              "      <td>2500.0</td>\n",
              "      <td>/Mês</td>\n",
              "      <td>NaN</td>\n",
              "      <td>NaN</td>\n",
              "      <td>79.0</td>\n",
              "      <td>3.0</td>\n",
              "      <td>2.0</td>\n",
              "      <td>1.0</td>\n",
              "      <td>2.0</td>\n",
              "    </tr>\n",
              "    <tr>\n",
              "      <th>4</th>\n",
              "      <td>https://www.vivareal.com.br/imovel/apartamento...</td>\n",
              "      <td>Rua Vereador Manoel Coringa de Lemos, 259 - Po...</td>\n",
              "      <td>850.0</td>\n",
              "      <td>/Mês</td>\n",
              "      <td>NaN</td>\n",
              "      <td>NaN</td>\n",
              "      <td>40.0</td>\n",
              "      <td>1.0</td>\n",
              "      <td>1.0</td>\n",
              "      <td>1.0</td>\n",
              "      <td>1.0</td>\n",
              "    </tr>\n",
              "    <tr>\n",
              "      <th>...</th>\n",
              "      <td>...</td>\n",
              "      <td>...</td>\n",
              "      <td>...</td>\n",
              "      <td>...</td>\n",
              "      <td>...</td>\n",
              "      <td>...</td>\n",
              "      <td>...</td>\n",
              "      <td>...</td>\n",
              "      <td>...</td>\n",
              "      <td>...</td>\n",
              "      <td>...</td>\n",
              "    </tr>\n",
              "    <tr>\n",
              "      <th>1917</th>\n",
              "      <td>https://www.vivareal.com.br/imovel/apartamento...</td>\n",
              "      <td>Avenida Estrela do Mar, 2215 - Ponta Negra, Na...</td>\n",
              "      <td>1500.0</td>\n",
              "      <td>/Mês</td>\n",
              "      <td>385.0</td>\n",
              "      <td>1500.0</td>\n",
              "      <td>60.0</td>\n",
              "      <td>2.0</td>\n",
              "      <td>1.0</td>\n",
              "      <td>1.0</td>\n",
              "      <td>1.0</td>\n",
              "    </tr>\n",
              "    <tr>\n",
              "      <th>1918</th>\n",
              "      <td>https://www.vivareal.com.br/imovel/apartamento...</td>\n",
              "      <td>Ponta Negra, Natal - RN</td>\n",
              "      <td>1800.0</td>\n",
              "      <td>/Mês</td>\n",
              "      <td>NaN</td>\n",
              "      <td>NaN</td>\n",
              "      <td>52.0</td>\n",
              "      <td>2.0</td>\n",
              "      <td>1.0</td>\n",
              "      <td>NaN</td>\n",
              "      <td>1.0</td>\n",
              "    </tr>\n",
              "    <tr>\n",
              "      <th>1919</th>\n",
              "      <td>https://www.vivareal.com.br/imovel/apartamento...</td>\n",
              "      <td>Areia Preta, Natal - RN</td>\n",
              "      <td>8500.0</td>\n",
              "      <td>/Mês</td>\n",
              "      <td>NaN</td>\n",
              "      <td>NaN</td>\n",
              "      <td>424.0</td>\n",
              "      <td>4.0</td>\n",
              "      <td>5.0</td>\n",
              "      <td>4.0</td>\n",
              "      <td>5.0</td>\n",
              "    </tr>\n",
              "    <tr>\n",
              "      <th>1920</th>\n",
              "      <td>https://www.vivareal.com.br/imovel/apartamento...</td>\n",
              "      <td>Avenida dos Caiapós, 121 - Pitimbu, Natal - RN</td>\n",
              "      <td>1200.0</td>\n",
              "      <td>/Mês</td>\n",
              "      <td>NaN</td>\n",
              "      <td>NaN</td>\n",
              "      <td>49.0</td>\n",
              "      <td>2.0</td>\n",
              "      <td>1.0</td>\n",
              "      <td>NaN</td>\n",
              "      <td>1.0</td>\n",
              "    </tr>\n",
              "    <tr>\n",
              "      <th>1921</th>\n",
              "      <td>https://www.vivareal.com.br/imovel/apartamento...</td>\n",
              "      <td>Rua Alexandre Câmara, 1756 - Capim Macio, Nata...</td>\n",
              "      <td>1100.0</td>\n",
              "      <td>/Mês</td>\n",
              "      <td>NaN</td>\n",
              "      <td>NaN</td>\n",
              "      <td>74.0</td>\n",
              "      <td>3.0</td>\n",
              "      <td>2.0</td>\n",
              "      <td>1.0</td>\n",
              "      <td>1.0</td>\n",
              "    </tr>\n",
              "  </tbody>\n",
              "</table>\n",
              "<p>1922 rows × 11 columns</p>\n",
              "</div>"
            ],
            "text/plain": [
              "                                                  links  ... vagas\n",
              "0     https://www.vivareal.com.br/imovel/apartamento...  ...   2.0\n",
              "1     https://www.vivareal.com.br/imovel/apartamento...  ...   2.0\n",
              "2     https://www.vivareal.com.br/imovel/apartamento...  ...   1.0\n",
              "3     https://www.vivareal.com.br/imovel/apartamento...  ...   2.0\n",
              "4     https://www.vivareal.com.br/imovel/apartamento...  ...   1.0\n",
              "...                                                 ...  ...   ...\n",
              "1917  https://www.vivareal.com.br/imovel/apartamento...  ...   1.0\n",
              "1918  https://www.vivareal.com.br/imovel/apartamento...  ...   1.0\n",
              "1919  https://www.vivareal.com.br/imovel/apartamento...  ...   5.0\n",
              "1920  https://www.vivareal.com.br/imovel/apartamento...  ...   1.0\n",
              "1921  https://www.vivareal.com.br/imovel/apartamento...  ...   1.0\n",
              "\n",
              "[1922 rows x 11 columns]"
            ]
          },
          "metadata": {
            "tags": []
          },
          "execution_count": 4
        }
      ]
    },
    {
      "cell_type": "code",
      "metadata": {
        "id": "dgAzfOzpLG3F",
        "colab_type": "code",
        "colab": {
          "base_uri": "https://localhost:8080/",
          "height": 334
        },
        "outputId": "63c9a3dd-5cac-4038-c5aa-35dc0dd5cf3e"
      },
      "source": [
        "#Verificando os tipos de dados após conversão\n",
        "df.info()"
      ],
      "execution_count": 5,
      "outputs": [
        {
          "output_type": "stream",
          "text": [
            "<class 'pandas.core.frame.DataFrame'>\n",
            "RangeIndex: 1922 entries, 0 to 1921\n",
            "Data columns (total 11 columns):\n",
            " #   Column        Non-Null Count  Dtype  \n",
            "---  ------        --------------  -----  \n",
            " 0   links         1922 non-null   object \n",
            " 1   endereco      1903 non-null   object \n",
            " 2   aluguel       1903 non-null   float64\n",
            " 3   tipo_aluguel  1898 non-null   object \n",
            " 4   condominio    569 non-null    float64\n",
            " 5   iptu          332 non-null    float64\n",
            " 6   area          1903 non-null   float64\n",
            " 7   quartos       1901 non-null   float64\n",
            " 8   banheiros     1900 non-null   float64\n",
            " 9   suite         1563 non-null   float64\n",
            " 10  vagas         1763 non-null   float64\n",
            "dtypes: float64(8), object(3)\n",
            "memory usage: 165.3+ KB\n"
          ],
          "name": "stdout"
        }
      ]
    },
    {
      "cell_type": "markdown",
      "metadata": {
        "id": "T1G93__aDlKU",
        "colab_type": "text"
      },
      "source": [
        "#Tratando valores nulos e excluindo linhas"
      ]
    },
    {
      "cell_type": "code",
      "metadata": {
        "id": "HWlWiZdzAHBI",
        "colab_type": "code",
        "colab": {
          "base_uri": "https://localhost:8080/",
          "height": 228
        },
        "outputId": "fe50de95-1839-42a2-cc92-2d52b95f3bfc"
      },
      "source": [
        "# Verificando os valores nulos\n",
        "df.isna().sum()"
      ],
      "execution_count": 6,
      "outputs": [
        {
          "output_type": "execute_result",
          "data": {
            "text/plain": [
              "links              0\n",
              "endereco          19\n",
              "aluguel           19\n",
              "tipo_aluguel      24\n",
              "condominio      1353\n",
              "iptu            1590\n",
              "area              19\n",
              "quartos           21\n",
              "banheiros         22\n",
              "suite            359\n",
              "vagas            159\n",
              "dtype: int64"
            ]
          },
          "metadata": {
            "tags": []
          },
          "execution_count": 6
        }
      ]
    },
    {
      "cell_type": "code",
      "metadata": {
        "id": "tLmm_nae7O2k",
        "colab_type": "code",
        "colab": {
          "base_uri": "https://localhost:8080/",
          "height": 228
        },
        "outputId": "708718d4-9ae7-480c-b840-d4b7212c2229"
      },
      "source": [
        "#removendo todas as linhas em que o endereço é nulo\n",
        "df.dropna(subset=['endereco'], inplace=True)\n",
        "df.isna().sum()"
      ],
      "execution_count": 7,
      "outputs": [
        {
          "output_type": "execute_result",
          "data": {
            "text/plain": [
              "links              0\n",
              "endereco           0\n",
              "aluguel            0\n",
              "tipo_aluguel       5\n",
              "condominio      1334\n",
              "iptu            1571\n",
              "area               0\n",
              "quartos            2\n",
              "banheiros          3\n",
              "suite            340\n",
              "vagas            140\n",
              "dtype: int64"
            ]
          },
          "metadata": {
            "tags": []
          },
          "execution_count": 7
        }
      ]
    },
    {
      "cell_type": "code",
      "metadata": {
        "id": "ydCcaLWDBUSw",
        "colab_type": "code",
        "colab": {
          "base_uri": "https://localhost:8080/",
          "height": 87
        },
        "outputId": "7b7cb817-4d9d-44e0-add6-b059e9918109"
      },
      "source": [
        "# verificando a periodicidade do aluguel\n",
        "df['tipo_aluguel'].value_counts()"
      ],
      "execution_count": 8,
      "outputs": [
        {
          "output_type": "execute_result",
          "data": {
            "text/plain": [
              "/Mês       1853\n",
              "/Dia         44\n",
              "/Semana       1\n",
              "Name: tipo_aluguel, dtype: int64"
            ]
          },
          "metadata": {
            "tags": []
          },
          "execution_count": 8
        }
      ]
    },
    {
      "cell_type": "code",
      "metadata": {
        "id": "7qKLLAZeBzxZ",
        "colab_type": "code",
        "colab": {
          "base_uri": "https://localhost:8080/",
          "height": 52
        },
        "outputId": "e3cf22de-6eb2-4eea-dbde-faced0f5c97d"
      },
      "source": [
        "# removendo as linhas em que o periodo de pagamento é diferente de /Mês\n",
        "df.drop(df[df['tipo_aluguel'] != \"/Mês\"].index, inplace=True)\n",
        "df['tipo_aluguel'].value_counts()"
      ],
      "execution_count": 9,
      "outputs": [
        {
          "output_type": "execute_result",
          "data": {
            "text/plain": [
              "/Mês    1853\n",
              "Name: tipo_aluguel, dtype: int64"
            ]
          },
          "metadata": {
            "tags": []
          },
          "execution_count": 9
        }
      ]
    },
    {
      "cell_type": "code",
      "metadata": {
        "id": "DMub2-d3EWbp",
        "colab_type": "code",
        "colab": {
          "base_uri": "https://localhost:8080/",
          "height": 228
        },
        "outputId": "fc051ac8-76c2-4531-8083-b92bea78c290"
      },
      "source": [
        "# Preenchendo os valores nulos das colunas \"condominio\", \"iptu\", \"suite\" e \"vagas\", com \"0\", considerando que se o valor não foi atribuído é mais provável que não possua\n",
        "df['condominio'].fillna(0, inplace=True)\n",
        "df['iptu'].fillna(0, inplace=True)\n",
        "df['suite'].fillna(0, inplace=True)\n",
        "df['vagas'].fillna(0, inplace=True)\n",
        "df.isna().sum()"
      ],
      "execution_count": 10,
      "outputs": [
        {
          "output_type": "execute_result",
          "data": {
            "text/plain": [
              "links           0\n",
              "endereco        0\n",
              "aluguel         0\n",
              "tipo_aluguel    0\n",
              "condominio      0\n",
              "iptu            0\n",
              "area            0\n",
              "quartos         2\n",
              "banheiros       3\n",
              "suite           0\n",
              "vagas           0\n",
              "dtype: int64"
            ]
          },
          "metadata": {
            "tags": []
          },
          "execution_count": 10
        }
      ]
    },
    {
      "cell_type": "code",
      "metadata": {
        "id": "0Vw2NmjvFLNK",
        "colab_type": "code",
        "colab": {
          "base_uri": "https://localhost:8080/",
          "height": 228
        },
        "outputId": "18ce3c85-9397-4d47-a642-5c90021a4c58"
      },
      "source": [
        "# Preenchendo os valores nulos de \"quartos\" e \"banheiros\", com a média, considerando que é improvável que um apartamento não possua esses cômodos  \n",
        "df['quartos'].fillna(int(df['quartos'].mean()), inplace=True)\n",
        "df['banheiros'].fillna(int(df['banheiros'].mean()), inplace=True)\n",
        "df.isna().sum()"
      ],
      "execution_count": 11,
      "outputs": [
        {
          "output_type": "execute_result",
          "data": {
            "text/plain": [
              "links           0\n",
              "endereco        0\n",
              "aluguel         0\n",
              "tipo_aluguel    0\n",
              "condominio      0\n",
              "iptu            0\n",
              "area            0\n",
              "quartos         0\n",
              "banheiros       0\n",
              "suite           0\n",
              "vagas           0\n",
              "dtype: int64"
            ]
          },
          "metadata": {
            "tags": []
          },
          "execution_count": 11
        }
      ]
    },
    {
      "cell_type": "markdown",
      "metadata": {
        "id": "xID-Oa_3GDUW",
        "colab_type": "text"
      },
      "source": [
        "#Removendo outliers"
      ]
    },
    {
      "cell_type": "code",
      "metadata": {
        "id": "PQBfa1jqvuzV",
        "colab_type": "code",
        "colab": {
          "base_uri": "https://localhost:8080/",
          "height": 294
        },
        "outputId": "88f2188a-4bd5-42ec-a74a-15ebdddf7653"
      },
      "source": [
        "# verificando possíveis outliers em colunas da mesma escala (R$)\n",
        "sns.boxplot(data=df, order=['aluguel', 'condominio', 'iptu'])"
      ],
      "execution_count": 12,
      "outputs": [
        {
          "output_type": "execute_result",
          "data": {
            "text/plain": [
              "<matplotlib.axes._subplots.AxesSubplot at 0x7f7a2ff39c50>"
            ]
          },
          "metadata": {
            "tags": []
          },
          "execution_count": 12
        },
        {
          "output_type": "display_data",
          "data": {
            "image/png": "[encoded data removed]",
            "text/plain": [
              "<Figure size 432x288 with 1 Axes>"
            ]
          },
          "metadata": {
            "tags": [],
            "needs_background": "light"
          }
        }
      ]
    },
    {
      "cell_type": "code",
      "metadata": {
        "id": "2Mtw3ktRJCIN",
        "colab_type": "code",
        "colab": {
          "base_uri": "https://localhost:8080/",
          "height": 52
        },
        "outputId": "2a47a36b-60ad-4ee0-9593-43403d4ff3f9"
      },
      "source": [
        "# Verificando o intervalo que exclui os outliers da coluna aluguel,  em percentil. Os valores muito altos provavelmente referem-se a valor de venda.\n",
        "q00 = df[\"aluguel\"].quantile(.0)\n",
        "q89 = df[\"aluguel\"].quantile(.89)\n",
        "print(q00)\n",
        "print(q89)\n"
      ],
      "execution_count": 13,
      "outputs": [
        {
          "output_type": "stream",
          "text": [
            "330.0\n",
            "7279.999999999973\n"
          ],
          "name": "stdout"
        }
      ]
    },
    {
      "cell_type": "code",
      "metadata": {
        "id": "Mc3PTGYsoW3p",
        "colab_type": "code",
        "colab": {
          "base_uri": "https://localhost:8080/",
          "height": 1000
        },
        "outputId": "958f098e-83d8-4b63-ede2-a165ac85a560"
      },
      "source": [
        "# fazendo a remoção das linhas que estão fora do intervalo\n",
        "df = df[df[\"aluguel\"].between(df[\"aluguel\"].quantile(.0), df[\"aluguel\"].quantile(.89))]\n",
        "df"
      ],
      "execution_count": 14,
      "outputs": [
        {
          "output_type": "execute_result",
          "data": {
            "text/html": [
              "<div>\n",
              "<style scoped>\n",
              "    .dataframe tbody tr th:only-of-type {\n",
              "        vertical-align: middle;\n",
              "    }\n",
              "\n",
              "    .dataframe tbody tr th {\n",
              "        vertical-align: top;\n",
              "    }\n",
              "\n",
              "    .dataframe thead th {\n",
              "        text-align: right;\n",
              "    }\n",
              "</style>\n",
              "<table border=\"1\" class=\"dataframe\">\n",
              "  <thead>\n",
              "    <tr style=\"text-align: right;\">\n",
              "      <th></th>\n",
              "      <th>links</th>\n",
              "      <th>endereco</th>\n",
              "      <th>aluguel</th>\n",
              "      <th>tipo_aluguel</th>\n",
              "      <th>condominio</th>\n",
              "      <th>iptu</th>\n",
              "      <th>area</th>\n",
              "      <th>quartos</th>\n",
              "      <th>banheiros</th>\n",
              "      <th>suite</th>\n",
              "      <th>vagas</th>\n",
              "    </tr>\n",
              "  </thead>\n",
              "  <tbody>\n",
              "    <tr>\n",
              "      <th>0</th>\n",
              "      <td>https://www.vivareal.com.br/imovel/apartamento...</td>\n",
              "      <td>Rua Professor Arthéphio Bezerra, 210 - Lagoa N...</td>\n",
              "      <td>1450.0</td>\n",
              "      <td>/Mês</td>\n",
              "      <td>0.0</td>\n",
              "      <td>0.0</td>\n",
              "      <td>110.0</td>\n",
              "      <td>4.0</td>\n",
              "      <td>3.0</td>\n",
              "      <td>1.0</td>\n",
              "      <td>2.0</td>\n",
              "    </tr>\n",
              "    <tr>\n",
              "      <th>1</th>\n",
              "      <td>https://www.vivareal.com.br/imovel/apartamento...</td>\n",
              "      <td>Rua Tenente Olávo Francisco dos Santos, 98 - V...</td>\n",
              "      <td>2700.0</td>\n",
              "      <td>/Mês</td>\n",
              "      <td>0.0</td>\n",
              "      <td>0.0</td>\n",
              "      <td>110.0</td>\n",
              "      <td>3.0</td>\n",
              "      <td>3.0</td>\n",
              "      <td>3.0</td>\n",
              "      <td>2.0</td>\n",
              "    </tr>\n",
              "    <tr>\n",
              "      <th>2</th>\n",
              "      <td>https://www.vivareal.com.br/imovel/apartamento...</td>\n",
              "      <td>Avenida das Brancas Dunas, 65 - Candelária, Na...</td>\n",
              "      <td>1500.0</td>\n",
              "      <td>/Mês</td>\n",
              "      <td>0.0</td>\n",
              "      <td>0.0</td>\n",
              "      <td>57.0</td>\n",
              "      <td>2.0</td>\n",
              "      <td>2.0</td>\n",
              "      <td>1.0</td>\n",
              "      <td>1.0</td>\n",
              "    </tr>\n",
              "    <tr>\n",
              "      <th>3</th>\n",
              "      <td>https://www.vivareal.com.br/imovel/apartamento...</td>\n",
              "      <td>Avenida Deputado Antônio Florêncio de Queiroz,...</td>\n",
              "      <td>2500.0</td>\n",
              "      <td>/Mês</td>\n",
              "      <td>0.0</td>\n",
              "      <td>0.0</td>\n",
              "      <td>79.0</td>\n",
              "      <td>3.0</td>\n",
              "      <td>2.0</td>\n",
              "      <td>1.0</td>\n",
              "      <td>2.0</td>\n",
              "    </tr>\n",
              "    <tr>\n",
              "      <th>4</th>\n",
              "      <td>https://www.vivareal.com.br/imovel/apartamento...</td>\n",
              "      <td>Rua Vereador Manoel Coringa de Lemos, 259 - Po...</td>\n",
              "      <td>850.0</td>\n",
              "      <td>/Mês</td>\n",
              "      <td>0.0</td>\n",
              "      <td>0.0</td>\n",
              "      <td>40.0</td>\n",
              "      <td>1.0</td>\n",
              "      <td>1.0</td>\n",
              "      <td>1.0</td>\n",
              "      <td>1.0</td>\n",
              "    </tr>\n",
              "    <tr>\n",
              "      <th>...</th>\n",
              "      <td>...</td>\n",
              "      <td>...</td>\n",
              "      <td>...</td>\n",
              "      <td>...</td>\n",
              "      <td>...</td>\n",
              "      <td>...</td>\n",
              "      <td>...</td>\n",
              "      <td>...</td>\n",
              "      <td>...</td>\n",
              "      <td>...</td>\n",
              "      <td>...</td>\n",
              "    </tr>\n",
              "    <tr>\n",
              "      <th>1916</th>\n",
              "      <td>https://www.vivareal.com.br/imovel/apartamento...</td>\n",
              "      <td>Rua Historiador Francisco Fausto de Souza, 885...</td>\n",
              "      <td>1500.0</td>\n",
              "      <td>/Mês</td>\n",
              "      <td>0.0</td>\n",
              "      <td>0.0</td>\n",
              "      <td>60.0</td>\n",
              "      <td>2.0</td>\n",
              "      <td>1.0</td>\n",
              "      <td>0.0</td>\n",
              "      <td>1.0</td>\n",
              "    </tr>\n",
              "    <tr>\n",
              "      <th>1917</th>\n",
              "      <td>https://www.vivareal.com.br/imovel/apartamento...</td>\n",
              "      <td>Avenida Estrela do Mar, 2215 - Ponta Negra, Na...</td>\n",
              "      <td>1500.0</td>\n",
              "      <td>/Mês</td>\n",
              "      <td>385.0</td>\n",
              "      <td>1500.0</td>\n",
              "      <td>60.0</td>\n",
              "      <td>2.0</td>\n",
              "      <td>1.0</td>\n",
              "      <td>1.0</td>\n",
              "      <td>1.0</td>\n",
              "    </tr>\n",
              "    <tr>\n",
              "      <th>1918</th>\n",
              "      <td>https://www.vivareal.com.br/imovel/apartamento...</td>\n",
              "      <td>Ponta Negra, Natal - RN</td>\n",
              "      <td>1800.0</td>\n",
              "      <td>/Mês</td>\n",
              "      <td>0.0</td>\n",
              "      <td>0.0</td>\n",
              "      <td>52.0</td>\n",
              "      <td>2.0</td>\n",
              "      <td>1.0</td>\n",
              "      <td>0.0</td>\n",
              "      <td>1.0</td>\n",
              "    </tr>\n",
              "    <tr>\n",
              "      <th>1920</th>\n",
              "      <td>https://www.vivareal.com.br/imovel/apartamento...</td>\n",
              "      <td>Avenida dos Caiapós, 121 - Pitimbu, Natal - RN</td>\n",
              "      <td>1200.0</td>\n",
              "      <td>/Mês</td>\n",
              "      <td>0.0</td>\n",
              "      <td>0.0</td>\n",
              "      <td>49.0</td>\n",
              "      <td>2.0</td>\n",
              "      <td>1.0</td>\n",
              "      <td>0.0</td>\n",
              "      <td>1.0</td>\n",
              "    </tr>\n",
              "    <tr>\n",
              "      <th>1921</th>\n",
              "      <td>https://www.vivareal.com.br/imovel/apartamento...</td>\n",
              "      <td>Rua Alexandre Câmara, 1756 - Capim Macio, Nata...</td>\n",
              "      <td>1100.0</td>\n",
              "      <td>/Mês</td>\n",
              "      <td>0.0</td>\n",
              "      <td>0.0</td>\n",
              "      <td>74.0</td>\n",
              "      <td>3.0</td>\n",
              "      <td>2.0</td>\n",
              "      <td>1.0</td>\n",
              "      <td>1.0</td>\n",
              "    </tr>\n",
              "  </tbody>\n",
              "</table>\n",
              "<p>1649 rows × 11 columns</p>\n",
              "</div>"
            ],
            "text/plain": [
              "                                                  links  ... vagas\n",
              "0     https://www.vivareal.com.br/imovel/apartamento...  ...   2.0\n",
              "1     https://www.vivareal.com.br/imovel/apartamento...  ...   2.0\n",
              "2     https://www.vivareal.com.br/imovel/apartamento...  ...   1.0\n",
              "3     https://www.vivareal.com.br/imovel/apartamento...  ...   2.0\n",
              "4     https://www.vivareal.com.br/imovel/apartamento...  ...   1.0\n",
              "...                                                 ...  ...   ...\n",
              "1916  https://www.vivareal.com.br/imovel/apartamento...  ...   1.0\n",
              "1917  https://www.vivareal.com.br/imovel/apartamento...  ...   1.0\n",
              "1918  https://www.vivareal.com.br/imovel/apartamento...  ...   1.0\n",
              "1920  https://www.vivareal.com.br/imovel/apartamento...  ...   1.0\n",
              "1921  https://www.vivareal.com.br/imovel/apartamento...  ...   1.0\n",
              "\n",
              "[1649 rows x 11 columns]"
            ]
          },
          "metadata": {
            "tags": []
          },
          "execution_count": 14
        }
      ]
    },
    {
      "cell_type": "code",
      "metadata": {
        "id": "dM36Zht9xXR5",
        "colab_type": "code",
        "colab": {
          "base_uri": "https://localhost:8080/",
          "height": 282
        },
        "outputId": "4a5b21c1-578d-4125-8a94-2464de6ec1f2"
      },
      "source": [
        "#verificando o gráfico após remoção de outliers\n",
        "sns.boxplot(data=df, order=['aluguel', 'condominio'])"
      ],
      "execution_count": 15,
      "outputs": [
        {
          "output_type": "execute_result",
          "data": {
            "text/plain": [
              "<matplotlib.axes._subplots.AxesSubplot at 0x7f7a2ff3fd68>"
            ]
          },
          "metadata": {
            "tags": []
          },
          "execution_count": 15
        },
        {
          "output_type": "display_data",
          "data": {
            "image/png": "[encoded data removed]",
            "text/plain": [
              "<Figure size 432x288 with 1 Axes>"
            ]
          },
          "metadata": {
            "tags": [],
            "needs_background": "light"
          }
        }
      ]
    },
    {
      "cell_type": "code",
      "metadata": {
        "id": "e0H9W8B81png",
        "colab_type": "code",
        "colab": {
          "base_uri": "https://localhost:8080/",
          "height": 282
        },
        "outputId": "c6ea4200-2bd2-4785-8196-c4768eb66f3c"
      },
      "source": [
        "#verificando possíveis outliers nas colunas da mesma escala\n",
        "sns.boxplot(data=df, order=['quartos', 'banheiros', 'suite', 'vagas'])"
      ],
      "execution_count": 16,
      "outputs": [
        {
          "output_type": "execute_result",
          "data": {
            "text/plain": [
              "<matplotlib.axes._subplots.AxesSubplot at 0x7f7a2f91f940>"
            ]
          },
          "metadata": {
            "tags": []
          },
          "execution_count": 16
        },
        {
          "output_type": "display_data",
          "data": {
            "image/png": "[encoded data removed]",
            "text/plain": [
              "<Figure size 432x288 with 1 Axes>"
            ]
          },
          "metadata": {
            "tags": [],
            "needs_background": "light"
          }
        }
      ]
    },
    {
      "cell_type": "code",
      "metadata": {
        "id": "6wliQuw7R88P",
        "colab_type": "code",
        "colab": {
          "base_uri": "https://localhost:8080/",
          "height": 297
        },
        "outputId": "3f38e83d-5cd6-4623-be4b-0fcb7f117846"
      },
      "source": [
        "#verificando outliers na coluna \"area\"\n",
        "sns.boxplot(df['area'])"
      ],
      "execution_count": 17,
      "outputs": [
        {
          "output_type": "execute_result",
          "data": {
            "text/plain": [
              "<matplotlib.axes._subplots.AxesSubplot at 0x7f7a2f8d2940>"
            ]
          },
          "metadata": {
            "tags": []
          },
          "execution_count": 17
        },
        {
          "output_type": "display_data",
          "data": {
            "image/png": "[encoded data removed]",
            "text/plain": [
              "<Figure size 432x288 with 1 Axes>"
            ]
          },
          "metadata": {
            "tags": [],
            "needs_background": "light"
          }
        }
      ]
    },
    {
      "cell_type": "code",
      "metadata": {
        "id": "Ju7vaIW8SGcY",
        "colab_type": "code",
        "colab": {
          "base_uri": "https://localhost:8080/",
          "height": 105
        },
        "outputId": "6ee7dd08-d720-4985-9c19-cef9118b8206"
      },
      "source": [
        "#Removendo linhas com valores de área maiores ou iguais a 150\n",
        "df.drop(df.loc[df['area'] >= 150].index, inplace=True)"
      ],
      "execution_count": 18,
      "outputs": [
        {
          "output_type": "stream",
          "text": [
            "/usr/local/lib/python3.6/dist-packages/pandas/core/frame.py:3997: SettingWithCopyWarning: \n",
            "A value is trying to be set on a copy of a slice from a DataFrame\n",
            "\n",
            "See the caveats in the documentation: https://pandas.pydata.org/pandas-docs/stable/user_guide/indexing.html#returning-a-view-versus-a-copy\n",
            "  errors=errors,\n"
          ],
          "name": "stderr"
        }
      ]
    },
    {
      "cell_type": "code",
      "metadata": {
        "id": "qd0DhBf5SXRE",
        "colab_type": "code",
        "colab": {
          "base_uri": "https://localhost:8080/",
          "height": 295
        },
        "outputId": "90d7a0f0-557d-43f4-ac7b-885373e724d5"
      },
      "source": [
        "#Verficando o gráfico após remoção\n",
        "sns.boxplot(df['area'])\n",
        "plt.title(\"Boxplot area\")\n",
        "plt.show()"
      ],
      "execution_count": 19,
      "outputs": [
        {
          "output_type": "display_data",
          "data": {
            "image/png": "[encoded data removed]",
            "text/plain": [
              "<Figure size 432x288 with 1 Axes>"
            ]
          },
          "metadata": {
            "tags": [],
            "needs_background": "light"
          }
        }
      ]
    },
    {
      "cell_type": "code",
      "metadata": {
        "id": "3LPQyLkhLr0C",
        "colab_type": "code",
        "colab": {
          "base_uri": "https://localhost:8080/",
          "height": 284
        },
        "outputId": "0da8da1a-e6f0-435c-d360-ed4a42ac152c"
      },
      "source": [
        "#verificando a tabela de estatísticas após tratamento dos dados numéricos\n",
        "df.describe()"
      ],
      "execution_count": 20,
      "outputs": [
        {
          "output_type": "execute_result",
          "data": {
            "text/html": [
              "<div>\n",
              "<style scoped>\n",
              "    .dataframe tbody tr th:only-of-type {\n",
              "        vertical-align: middle;\n",
              "    }\n",
              "\n",
              "    .dataframe tbody tr th {\n",
              "        vertical-align: top;\n",
              "    }\n",
              "\n",
              "    .dataframe thead th {\n",
              "        text-align: right;\n",
              "    }\n",
              "</style>\n",
              "<table border=\"1\" class=\"dataframe\">\n",
              "  <thead>\n",
              "    <tr style=\"text-align: right;\">\n",
              "      <th></th>\n",
              "      <th>aluguel</th>\n",
              "      <th>condominio</th>\n",
              "      <th>iptu</th>\n",
              "      <th>area</th>\n",
              "      <th>quartos</th>\n",
              "      <th>banheiros</th>\n",
              "      <th>suite</th>\n",
              "      <th>vagas</th>\n",
              "    </tr>\n",
              "  </thead>\n",
              "  <tbody>\n",
              "    <tr>\n",
              "      <th>count</th>\n",
              "      <td>1489.000000</td>\n",
              "      <td>1489.000000</td>\n",
              "      <td>1489.000000</td>\n",
              "      <td>1489.000000</td>\n",
              "      <td>1489.00000</td>\n",
              "      <td>1489.000000</td>\n",
              "      <td>1489.000000</td>\n",
              "      <td>1489.000000</td>\n",
              "    </tr>\n",
              "    <tr>\n",
              "      <th>mean</th>\n",
              "      <td>1718.124916</td>\n",
              "      <td>123.627267</td>\n",
              "      <td>514.554063</td>\n",
              "      <td>70.147079</td>\n",
              "      <td>2.26998</td>\n",
              "      <td>1.834788</td>\n",
              "      <td>0.982539</td>\n",
              "      <td>1.253190</td>\n",
              "    </tr>\n",
              "    <tr>\n",
              "      <th>std</th>\n",
              "      <td>733.865860</td>\n",
              "      <td>238.937188</td>\n",
              "      <td>2930.884613</td>\n",
              "      <td>25.469315</td>\n",
              "      <td>0.65144</td>\n",
              "      <td>0.817877</td>\n",
              "      <td>0.684676</td>\n",
              "      <td>0.683694</td>\n",
              "    </tr>\n",
              "    <tr>\n",
              "      <th>min</th>\n",
              "      <td>330.000000</td>\n",
              "      <td>0.000000</td>\n",
              "      <td>0.000000</td>\n",
              "      <td>10.000000</td>\n",
              "      <td>1.00000</td>\n",
              "      <td>1.000000</td>\n",
              "      <td>0.000000</td>\n",
              "      <td>0.000000</td>\n",
              "    </tr>\n",
              "    <tr>\n",
              "      <th>25%</th>\n",
              "      <td>1200.000000</td>\n",
              "      <td>0.000000</td>\n",
              "      <td>0.000000</td>\n",
              "      <td>55.000000</td>\n",
              "      <td>2.00000</td>\n",
              "      <td>1.000000</td>\n",
              "      <td>1.000000</td>\n",
              "      <td>1.000000</td>\n",
              "    </tr>\n",
              "    <tr>\n",
              "      <th>50%</th>\n",
              "      <td>1600.000000</td>\n",
              "      <td>0.000000</td>\n",
              "      <td>0.000000</td>\n",
              "      <td>60.000000</td>\n",
              "      <td>2.00000</td>\n",
              "      <td>2.000000</td>\n",
              "      <td>1.000000</td>\n",
              "      <td>1.000000</td>\n",
              "    </tr>\n",
              "    <tr>\n",
              "      <th>75%</th>\n",
              "      <td>2200.000000</td>\n",
              "      <td>70.000000</td>\n",
              "      <td>0.000000</td>\n",
              "      <td>89.000000</td>\n",
              "      <td>3.00000</td>\n",
              "      <td>2.000000</td>\n",
              "      <td>1.000000</td>\n",
              "      <td>2.000000</td>\n",
              "    </tr>\n",
              "    <tr>\n",
              "      <th>max</th>\n",
              "      <td>6000.000000</td>\n",
              "      <td>1670.000000</td>\n",
              "      <td>39145.000000</td>\n",
              "      <td>147.000000</td>\n",
              "      <td>4.00000</td>\n",
              "      <td>5.000000</td>\n",
              "      <td>4.000000</td>\n",
              "      <td>10.000000</td>\n",
              "    </tr>\n",
              "  </tbody>\n",
              "</table>\n",
              "</div>"
            ],
            "text/plain": [
              "           aluguel   condominio  ...        suite        vagas\n",
              "count  1489.000000  1489.000000  ...  1489.000000  1489.000000\n",
              "mean   1718.124916   123.627267  ...     0.982539     1.253190\n",
              "std     733.865860   238.937188  ...     0.684676     0.683694\n",
              "min     330.000000     0.000000  ...     0.000000     0.000000\n",
              "25%    1200.000000     0.000000  ...     1.000000     1.000000\n",
              "50%    1600.000000     0.000000  ...     1.000000     1.000000\n",
              "75%    2200.000000    70.000000  ...     1.000000     2.000000\n",
              "max    6000.000000  1670.000000  ...     4.000000    10.000000\n",
              "\n",
              "[8 rows x 8 columns]"
            ]
          },
          "metadata": {
            "tags": []
          },
          "execution_count": 20
        }
      ]
    },
    {
      "cell_type": "markdown",
      "metadata": {
        "id": "oJ2UaW7bZsrU",
        "colab_type": "text"
      },
      "source": [
        "É possivel verificar que após tratamento dos valores numéricos todas as colunas estão com valores preenchidos e com um total de 1489 instâncias. \n",
        "\n",
        "Pode-se observar que as colunas \"aluguel\", \"condominio\", \"iptu\" e \"area\" possuem um desvio padrão alto, o que significa que os valores monetários e de área estão mais dispersos que as demais colunas com valores inteiros que descrevem quantidade. \n",
        "\n",
        "As colunas \"condomínio\" e \"iptu\", possuem todas as ocorrências em \"0\" até a mediana, e a de \"iptu\" com \"0\" até o 3º quartil, porém com valores máximos muito altos, o que pode enviesar o modelo."
      ]
    },
    {
      "cell_type": "markdown",
      "metadata": {
        "id": "j0TzFjHWG5l0",
        "colab_type": "text"
      },
      "source": [
        "# Dividindo o endereço em colunas separadas"
      ]
    },
    {
      "cell_type": "code",
      "metadata": {
        "id": "zVm1bx81EGwW",
        "colab_type": "code",
        "colab": {
          "base_uri": "https://localhost:8080/",
          "height": 228
        },
        "outputId": "7027e910-acda-48db-c3f5-3de234564a41"
      },
      "source": [
        "#Dividindo a coluna de endereço pelo \"-\" e definindo como uma série pandas \"split_endereco\"\n",
        "split_endereco = df['endereco'].str.split(\"-\")\n",
        "split_endereco"
      ],
      "execution_count": 21,
      "outputs": [
        {
          "output_type": "execute_result",
          "data": {
            "text/plain": [
              "0       [Rua Professor Arthéphio Bezerra, 210 ,  Lagoa...\n",
              "1       [Rua Tenente Olávo Francisco dos Santos, 98 , ...\n",
              "2       [Avenida das Brancas Dunas, 65 ,  Candelária, ...\n",
              "3       [Avenida Deputado Antônio Florêncio de Queiroz...\n",
              "4       [Rua Vereador Manoel Coringa de Lemos, 259 ,  ...\n",
              "                              ...                        \n",
              "1916    [Rua Historiador Francisco Fausto de Souza, 88...\n",
              "1917    [Avenida Estrela do Mar, 2215 ,  Ponta Negra, ...\n",
              "1918                           [Ponta Negra, Natal ,  RN]\n",
              "1920    [Avenida dos Caiapós, 121 ,  Pitimbu, Natal , ...\n",
              "1921    [Rua Alexandre Câmara, 1756 ,  Capim Macio, Na...\n",
              "Name: endereco, Length: 1489, dtype: object"
            ]
          },
          "metadata": {
            "tags": []
          },
          "execution_count": 21
        }
      ]
    },
    {
      "cell_type": "code",
      "metadata": {
        "id": "361m364x4lyJ",
        "colab_type": "code",
        "colab": {
          "base_uri": "https://localhost:8080/",
          "height": 122
        },
        "outputId": "87610c01-34e3-4082-b4d3-1afa7e0c7492"
      },
      "source": [
        "# Pegando o último valor da lista criada para cada linha e definindo como a coluna 'estado'\n",
        "df['estado'] = split_endereco.str.get(-1)"
      ],
      "execution_count": 22,
      "outputs": [
        {
          "output_type": "stream",
          "text": [
            "/usr/local/lib/python3.6/dist-packages/ipykernel_launcher.py:2: SettingWithCopyWarning: \n",
            "A value is trying to be set on a copy of a slice from a DataFrame.\n",
            "Try using .loc[row_indexer,col_indexer] = value instead\n",
            "\n",
            "See the caveats in the documentation: https://pandas.pydata.org/pandas-docs/stable/user_guide/indexing.html#returning-a-view-versus-a-copy\n",
            "  \n"
          ],
          "name": "stderr"
        }
      ]
    },
    {
      "cell_type": "code",
      "metadata": {
        "id": "ozsR07oV78Ql",
        "colab_type": "code",
        "colab": {
          "base_uri": "https://localhost:8080/",
          "height": 228
        },
        "outputId": "cb375555-9586-465a-f56d-4ece28eaff8e"
      },
      "source": [
        "# Dividindo a penúltima posição da lista de cada linha por \",\" e definindo como uma série pandas \"bairro_cidade\"\n",
        "bairro_cidade = split_endereco.str.get(-2).str.split(\",\")\n",
        "bairro_cidade"
      ],
      "execution_count": 23,
      "outputs": [
        {
          "output_type": "execute_result",
          "data": {
            "text/plain": [
              "0                [ Lagoa Nova,  Natal ]\n",
              "1       [ Vila de Ponta Negra,  Natal ]\n",
              "2                [ Candelária,  Natal ]\n",
              "3               [ Ponta Negra,  Natal ]\n",
              "4               [ Ponta Negra,  Natal ]\n",
              "                     ...               \n",
              "1916            [ Capim Macio,  Natal ]\n",
              "1917            [ Ponta Negra,  Natal ]\n",
              "1918             [Ponta Negra,  Natal ]\n",
              "1920                [ Pitimbu,  Natal ]\n",
              "1921            [ Capim Macio,  Natal ]\n",
              "Name: endereco, Length: 1489, dtype: object"
            ]
          },
          "metadata": {
            "tags": []
          },
          "execution_count": 23
        }
      ]
    },
    {
      "cell_type": "code",
      "metadata": {
        "id": "F0W7nAcv8OYM",
        "colab_type": "code",
        "colab": {
          "base_uri": "https://localhost:8080/",
          "height": 122
        },
        "outputId": "d73bf793-6b27-41b9-9956-aeaa75afcac0"
      },
      "source": [
        "# Pegando o último valor da série pandas \"bairro_cidade\" criada para cada linha e definindo como a coluna 'cidade'\n",
        "df['cidade'] = bairro_cidade.str.get(-1)"
      ],
      "execution_count": 24,
      "outputs": [
        {
          "output_type": "stream",
          "text": [
            "/usr/local/lib/python3.6/dist-packages/ipykernel_launcher.py:2: SettingWithCopyWarning: \n",
            "A value is trying to be set on a copy of a slice from a DataFrame.\n",
            "Try using .loc[row_indexer,col_indexer] = value instead\n",
            "\n",
            "See the caveats in the documentation: https://pandas.pydata.org/pandas-docs/stable/user_guide/indexing.html#returning-a-view-versus-a-copy\n",
            "  \n"
          ],
          "name": "stderr"
        }
      ]
    },
    {
      "cell_type": "code",
      "metadata": {
        "id": "yT0LwfxV8men",
        "colab_type": "code",
        "colab": {
          "base_uri": "https://localhost:8080/",
          "height": 122
        },
        "outputId": "7c2fc3b2-1794-47b6-8cdf-b349c5f88ef2"
      },
      "source": [
        "#Removendo os espaços do inicio e do final da coluna \"cidade\"\n",
        "df['cidade'] = df['cidade'].str.strip()"
      ],
      "execution_count": 25,
      "outputs": [
        {
          "output_type": "stream",
          "text": [
            "/usr/local/lib/python3.6/dist-packages/ipykernel_launcher.py:2: SettingWithCopyWarning: \n",
            "A value is trying to be set on a copy of a slice from a DataFrame.\n",
            "Try using .loc[row_indexer,col_indexer] = value instead\n",
            "\n",
            "See the caveats in the documentation: https://pandas.pydata.org/pandas-docs/stable/user_guide/indexing.html#returning-a-view-versus-a-copy\n",
            "  \n"
          ],
          "name": "stderr"
        }
      ]
    },
    {
      "cell_type": "code",
      "metadata": {
        "id": "GjYUPr5x9WwW",
        "colab_type": "code",
        "colab": {
          "base_uri": "https://localhost:8080/",
          "height": 122
        },
        "outputId": "8ddb69c1-9f48-4f64-849b-4faa1319dd5e"
      },
      "source": [
        "#Pegando a primeira posição da série \"bairro_cidade\" e definindo como coluna \"bairro\"\n",
        "df['bairro'] = bairro_cidade.str.get(0)"
      ],
      "execution_count": 26,
      "outputs": [
        {
          "output_type": "stream",
          "text": [
            "/usr/local/lib/python3.6/dist-packages/ipykernel_launcher.py:2: SettingWithCopyWarning: \n",
            "A value is trying to be set on a copy of a slice from a DataFrame.\n",
            "Try using .loc[row_indexer,col_indexer] = value instead\n",
            "\n",
            "See the caveats in the documentation: https://pandas.pydata.org/pandas-docs/stable/user_guide/indexing.html#returning-a-view-versus-a-copy\n",
            "  \n"
          ],
          "name": "stderr"
        }
      ]
    },
    {
      "cell_type": "code",
      "metadata": {
        "id": "fq5zq0KG9-ZL",
        "colab_type": "code",
        "colab": {
          "base_uri": "https://localhost:8080/",
          "height": 122
        },
        "outputId": "c239d129-4895-488a-b26f-6ed6f9825c54"
      },
      "source": [
        "# Removendo os espaços do início e do final da coluna \"bairro\"\n",
        "df['bairro'] = df['bairro'].str.strip()"
      ],
      "execution_count": 27,
      "outputs": [
        {
          "output_type": "stream",
          "text": [
            "/usr/local/lib/python3.6/dist-packages/ipykernel_launcher.py:2: SettingWithCopyWarning: \n",
            "A value is trying to be set on a copy of a slice from a DataFrame.\n",
            "Try using .loc[row_indexer,col_indexer] = value instead\n",
            "\n",
            "See the caveats in the documentation: https://pandas.pydata.org/pandas-docs/stable/user_guide/indexing.html#returning-a-view-versus-a-copy\n",
            "  \n"
          ],
          "name": "stderr"
        }
      ]
    },
    {
      "cell_type": "code",
      "metadata": {
        "id": "vGM_djWRKgOM",
        "colab_type": "code",
        "colab": {
          "base_uri": "https://localhost:8080/",
          "height": 650
        },
        "outputId": "a88bd24d-7b6b-4895-de60-e56819ed988c"
      },
      "source": [
        "#Fazendo a contagem dos registros por bairro para verificar inconsistências\n",
        "df[\"bairro\"].value_counts()"
      ],
      "execution_count": 28,
      "outputs": [
        {
          "output_type": "execute_result",
          "data": {
            "text/plain": [
              "Ponta Negra                509\n",
              "Capim Macio                234\n",
              "Lagoa Nova                 179\n",
              "Tirol                      121\n",
              "Candelária                  89\n",
              "Pitimbu                     59\n",
              "Petrópolis                  55\n",
              "Neópolis                    46\n",
              "Barro Vermelho              29\n",
              "sept Rosado                 27\n",
              "Alecrim                     27\n",
              "Areia Preta                 17\n",
              "Cidade da Esperança         12\n",
              "Cidade Alta                  9\n",
              "Nossa Senhora de Nazaré      8\n",
              "Planalto                     6\n",
              "PARNAMIRIM                   6\n",
              "Lagoa Seca                   6\n",
              "Ribeira                      6\n",
              "Rocas                        5\n",
              "Cidade Satelite              5\n",
              "Igapó                        5\n",
              "Morro Branco                 5\n",
              "Vila de Ponta Negra          4\n",
              "Nova Descoberta              3\n",
              "Bom Pastor                   3\n",
              "Cidade Jardim                2\n",
              "Natal                        2\n",
              "Praia do Meio                2\n",
              "Mãe Luíza                    2\n",
              "Redinha                      2\n",
              "Conjunto ALAGAMAR            1\n",
              "C Alta                       1\n",
              "Felipe Camarão               1\n",
              "Pirangi                      1\n",
              "Name: bairro, dtype: int64"
            ]
          },
          "metadata": {
            "tags": []
          },
          "execution_count": 28
        }
      ]
    },
    {
      "cell_type": "code",
      "metadata": {
        "id": "A8a5HqPzA2N_",
        "colab_type": "code",
        "colab": {
          "base_uri": "https://localhost:8080/",
          "height": 122
        },
        "outputId": "7835e66c-46ad-4217-ba4a-e68f42dd2ab9"
      },
      "source": [
        "#Renomeando valor similar para um valor padrão\n",
        "df['bairro'] = df['bairro'].replace('C Alta', 'Cidade Alta')"
      ],
      "execution_count": 29,
      "outputs": [
        {
          "output_type": "stream",
          "text": [
            "/usr/local/lib/python3.6/dist-packages/ipykernel_launcher.py:2: SettingWithCopyWarning: \n",
            "A value is trying to be set on a copy of a slice from a DataFrame.\n",
            "Try using .loc[row_indexer,col_indexer] = value instead\n",
            "\n",
            "See the caveats in the documentation: https://pandas.pydata.org/pandas-docs/stable/user_guide/indexing.html#returning-a-view-versus-a-copy\n",
            "  \n"
          ],
          "name": "stderr"
        }
      ]
    },
    {
      "cell_type": "code",
      "metadata": {
        "id": "3Ardr5avAcnd",
        "colab_type": "code",
        "colab": {
          "base_uri": "https://localhost:8080/",
          "height": 294
        },
        "outputId": "ce893a5a-9e6c-42f0-9f3e-5279b4dc6d52"
      },
      "source": [
        "#Localizando instâncias em que o valor de \"bairro\" estava definido como nome da cidade\n",
        "df.loc[df['bairro'] == \"Natal\"]"
      ],
      "execution_count": 30,
      "outputs": [
        {
          "output_type": "execute_result",
          "data": {
            "text/html": [
              "<div>\n",
              "<style scoped>\n",
              "    .dataframe tbody tr th:only-of-type {\n",
              "        vertical-align: middle;\n",
              "    }\n",
              "\n",
              "    .dataframe tbody tr th {\n",
              "        vertical-align: top;\n",
              "    }\n",
              "\n",
              "    .dataframe thead th {\n",
              "        text-align: right;\n",
              "    }\n",
              "</style>\n",
              "<table border=\"1\" class=\"dataframe\">\n",
              "  <thead>\n",
              "    <tr style=\"text-align: right;\">\n",
              "      <th></th>\n",
              "      <th>links</th>\n",
              "      <th>endereco</th>\n",
              "      <th>aluguel</th>\n",
              "      <th>tipo_aluguel</th>\n",
              "      <th>condominio</th>\n",
              "      <th>iptu</th>\n",
              "      <th>area</th>\n",
              "      <th>quartos</th>\n",
              "      <th>banheiros</th>\n",
              "      <th>suite</th>\n",
              "      <th>vagas</th>\n",
              "      <th>estado</th>\n",
              "      <th>cidade</th>\n",
              "      <th>bairro</th>\n",
              "    </tr>\n",
              "  </thead>\n",
              "  <tbody>\n",
              "    <tr>\n",
              "      <th>89</th>\n",
              "      <td>https://www.vivareal.com.br/imovel/apartamento...</td>\n",
              "      <td>Rua Professora Francisca Ivone Cavalcanti, 35 ...</td>\n",
              "      <td>1980.0</td>\n",
              "      <td>/Mês</td>\n",
              "      <td>0.0</td>\n",
              "      <td>0.0</td>\n",
              "      <td>98.0</td>\n",
              "      <td>3.0</td>\n",
              "      <td>3.0</td>\n",
              "      <td>1.0</td>\n",
              "      <td>2.0</td>\n",
              "      <td>RN</td>\n",
              "      <td>Natal</td>\n",
              "      <td>Natal</td>\n",
              "    </tr>\n",
              "    <tr>\n",
              "      <th>622</th>\n",
              "      <td>https://www.vivareal.com.br/imovel/apartamento...</td>\n",
              "      <td>Rua Coronel Auris Coelho, 9700 - Natal - RN</td>\n",
              "      <td>1100.0</td>\n",
              "      <td>/Mês</td>\n",
              "      <td>0.0</td>\n",
              "      <td>0.0</td>\n",
              "      <td>80.0</td>\n",
              "      <td>2.0</td>\n",
              "      <td>2.0</td>\n",
              "      <td>1.0</td>\n",
              "      <td>1.0</td>\n",
              "      <td>RN</td>\n",
              "      <td>Natal</td>\n",
              "      <td>Natal</td>\n",
              "    </tr>\n",
              "  </tbody>\n",
              "</table>\n",
              "</div>"
            ],
            "text/plain": [
              "                                                 links  ... bairro\n",
              "89   https://www.vivareal.com.br/imovel/apartamento...  ...  Natal\n",
              "622  https://www.vivareal.com.br/imovel/apartamento...  ...  Natal\n",
              "\n",
              "[2 rows x 14 columns]"
            ]
          },
          "metadata": {
            "tags": []
          },
          "execution_count": 30
        }
      ]
    },
    {
      "cell_type": "code",
      "metadata": {
        "id": "vXoufiw6EMu4",
        "colab_type": "code",
        "colab": {
          "base_uri": "https://localhost:8080/",
          "height": 122
        },
        "outputId": "a93a8853-50b9-4f08-b5d0-6b9da1af65a2"
      },
      "source": [
        "#Após pesquisa pelo nome da rua e encontrado o bairro correto, o valor foi substituído\n",
        "df.loc[622, \"bairro\"] = \"Lagoa Nova\""
      ],
      "execution_count": 31,
      "outputs": [
        {
          "output_type": "stream",
          "text": [
            "/usr/local/lib/python3.6/dist-packages/pandas/core/indexing.py:966: SettingWithCopyWarning: \n",
            "A value is trying to be set on a copy of a slice from a DataFrame.\n",
            "Try using .loc[row_indexer,col_indexer] = value instead\n",
            "\n",
            "See the caveats in the documentation: https://pandas.pydata.org/pandas-docs/stable/user_guide/indexing.html#returning-a-view-versus-a-copy\n",
            "  self.obj[item] = s\n"
          ],
          "name": "stderr"
        }
      ]
    },
    {
      "cell_type": "code",
      "metadata": {
        "id": "S-ZOJrRVID4R",
        "colab_type": "code",
        "colab": {
          "base_uri": "https://localhost:8080/",
          "height": 122
        },
        "outputId": "01698421-15d1-4fb6-cd8c-5830153605ed"
      },
      "source": [
        "df.loc[89, \"bairro\"] = \"Vila de Ponta Negra\""
      ],
      "execution_count": 32,
      "outputs": [
        {
          "output_type": "stream",
          "text": [
            "/usr/local/lib/python3.6/dist-packages/pandas/core/indexing.py:966: SettingWithCopyWarning: \n",
            "A value is trying to be set on a copy of a slice from a DataFrame.\n",
            "Try using .loc[row_indexer,col_indexer] = value instead\n",
            "\n",
            "See the caveats in the documentation: https://pandas.pydata.org/pandas-docs/stable/user_guide/indexing.html#returning-a-view-versus-a-copy\n",
            "  self.obj[item] = s\n"
          ],
          "name": "stderr"
        }
      ]
    },
    {
      "cell_type": "code",
      "metadata": {
        "id": "mc8TWyvdH5tJ",
        "colab_type": "code",
        "colab": {
          "base_uri": "https://localhost:8080/",
          "height": 396
        },
        "outputId": "f040813f-9f6c-4cc6-ef53-6ad1f6bab536"
      },
      "source": [
        "#Localizando instâncias onde o bairro estava definido como \"PARNAMIRIM\"\n",
        "df.loc[df['bairro'] == 'PARNAMIRIM']"
      ],
      "execution_count": 33,
      "outputs": [
        {
          "output_type": "execute_result",
          "data": {
            "text/html": [
              "<div>\n",
              "<style scoped>\n",
              "    .dataframe tbody tr th:only-of-type {\n",
              "        vertical-align: middle;\n",
              "    }\n",
              "\n",
              "    .dataframe tbody tr th {\n",
              "        vertical-align: top;\n",
              "    }\n",
              "\n",
              "    .dataframe thead th {\n",
              "        text-align: right;\n",
              "    }\n",
              "</style>\n",
              "<table border=\"1\" class=\"dataframe\">\n",
              "  <thead>\n",
              "    <tr style=\"text-align: right;\">\n",
              "      <th></th>\n",
              "      <th>links</th>\n",
              "      <th>endereco</th>\n",
              "      <th>aluguel</th>\n",
              "      <th>tipo_aluguel</th>\n",
              "      <th>condominio</th>\n",
              "      <th>iptu</th>\n",
              "      <th>area</th>\n",
              "      <th>quartos</th>\n",
              "      <th>banheiros</th>\n",
              "      <th>suite</th>\n",
              "      <th>vagas</th>\n",
              "      <th>estado</th>\n",
              "      <th>cidade</th>\n",
              "      <th>bairro</th>\n",
              "    </tr>\n",
              "  </thead>\n",
              "  <tbody>\n",
              "    <tr>\n",
              "      <th>332</th>\n",
              "      <td>https://www.vivareal.com.br/imovel/apartamento...</td>\n",
              "      <td>PARNAMIRIM, Natal - RN</td>\n",
              "      <td>1600.0</td>\n",
              "      <td>/Mês</td>\n",
              "      <td>0.0</td>\n",
              "      <td>0.0</td>\n",
              "      <td>64.0</td>\n",
              "      <td>3.0</td>\n",
              "      <td>2.0</td>\n",
              "      <td>1.0</td>\n",
              "      <td>1.0</td>\n",
              "      <td>RN</td>\n",
              "      <td>Natal</td>\n",
              "      <td>PARNAMIRIM</td>\n",
              "    </tr>\n",
              "    <tr>\n",
              "      <th>552</th>\n",
              "      <td>https://www.vivareal.com.br/imovel/apartamento...</td>\n",
              "      <td>PARNAMIRIM, Natal - RN</td>\n",
              "      <td>1600.0</td>\n",
              "      <td>/Mês</td>\n",
              "      <td>0.0</td>\n",
              "      <td>0.0</td>\n",
              "      <td>64.0</td>\n",
              "      <td>3.0</td>\n",
              "      <td>2.0</td>\n",
              "      <td>1.0</td>\n",
              "      <td>1.0</td>\n",
              "      <td>RN</td>\n",
              "      <td>Natal</td>\n",
              "      <td>PARNAMIRIM</td>\n",
              "    </tr>\n",
              "    <tr>\n",
              "      <th>703</th>\n",
              "      <td>https://www.vivareal.com.br/imovel/apartamento...</td>\n",
              "      <td>PARNAMIRIM, Natal - RN</td>\n",
              "      <td>1200.0</td>\n",
              "      <td>/Mês</td>\n",
              "      <td>440.0</td>\n",
              "      <td>0.0</td>\n",
              "      <td>82.0</td>\n",
              "      <td>3.0</td>\n",
              "      <td>1.0</td>\n",
              "      <td>1.0</td>\n",
              "      <td>1.0</td>\n",
              "      <td>RN</td>\n",
              "      <td>Natal</td>\n",
              "      <td>PARNAMIRIM</td>\n",
              "    </tr>\n",
              "    <tr>\n",
              "      <th>714</th>\n",
              "      <td>https://www.vivareal.com.br/imovel/apartamento...</td>\n",
              "      <td>Avenida dos Eucaliptos, 269 - PARNAMIRIM, Parn...</td>\n",
              "      <td>555.0</td>\n",
              "      <td>/Mês</td>\n",
              "      <td>195.0</td>\n",
              "      <td>0.0</td>\n",
              "      <td>55.0</td>\n",
              "      <td>2.0</td>\n",
              "      <td>1.0</td>\n",
              "      <td>0.0</td>\n",
              "      <td>1.0</td>\n",
              "      <td>RN</td>\n",
              "      <td>Parnamirim</td>\n",
              "      <td>PARNAMIRIM</td>\n",
              "    </tr>\n",
              "    <tr>\n",
              "      <th>729</th>\n",
              "      <td>https://www.vivareal.com.br/imovel/apartamento...</td>\n",
              "      <td>PARNAMIRIM, Natal - RN</td>\n",
              "      <td>670.0</td>\n",
              "      <td>/Mês</td>\n",
              "      <td>260.0</td>\n",
              "      <td>0.0</td>\n",
              "      <td>100.0</td>\n",
              "      <td>3.0</td>\n",
              "      <td>2.0</td>\n",
              "      <td>1.0</td>\n",
              "      <td>1.0</td>\n",
              "      <td>RN</td>\n",
              "      <td>Natal</td>\n",
              "      <td>PARNAMIRIM</td>\n",
              "    </tr>\n",
              "    <tr>\n",
              "      <th>1135</th>\n",
              "      <td>https://www.vivareal.com.br/imovel/apartamento...</td>\n",
              "      <td>PARNAMIRIM, Natal - RN</td>\n",
              "      <td>1400.0</td>\n",
              "      <td>/Mês</td>\n",
              "      <td>0.0</td>\n",
              "      <td>0.0</td>\n",
              "      <td>80.0</td>\n",
              "      <td>3.0</td>\n",
              "      <td>2.0</td>\n",
              "      <td>1.0</td>\n",
              "      <td>1.0</td>\n",
              "      <td>RN</td>\n",
              "      <td>Natal</td>\n",
              "      <td>PARNAMIRIM</td>\n",
              "    </tr>\n",
              "  </tbody>\n",
              "</table>\n",
              "</div>"
            ],
            "text/plain": [
              "                                                  links  ...      bairro\n",
              "332   https://www.vivareal.com.br/imovel/apartamento...  ...  PARNAMIRIM\n",
              "552   https://www.vivareal.com.br/imovel/apartamento...  ...  PARNAMIRIM\n",
              "703   https://www.vivareal.com.br/imovel/apartamento...  ...  PARNAMIRIM\n",
              "714   https://www.vivareal.com.br/imovel/apartamento...  ...  PARNAMIRIM\n",
              "729   https://www.vivareal.com.br/imovel/apartamento...  ...  PARNAMIRIM\n",
              "1135  https://www.vivareal.com.br/imovel/apartamento...  ...  PARNAMIRIM\n",
              "\n",
              "[6 rows x 14 columns]"
            ]
          },
          "metadata": {
            "tags": []
          },
          "execution_count": 33
        }
      ]
    },
    {
      "cell_type": "code",
      "metadata": {
        "id": "5iV8CaEWLLwR",
        "colab_type": "code",
        "colab": {
          "base_uri": "https://localhost:8080/",
          "height": 105
        },
        "outputId": "52915353-8ac6-4e38-8d9d-e5bbacb72c31"
      },
      "source": [
        "#Removendo as instâncias encontradas por não fazer parte da análise\n",
        "df.drop(df.loc[df['bairro'] == 'PARNAMIRIM'].index, inplace=True)"
      ],
      "execution_count": 34,
      "outputs": [
        {
          "output_type": "stream",
          "text": [
            "/usr/local/lib/python3.6/dist-packages/pandas/core/frame.py:3997: SettingWithCopyWarning: \n",
            "A value is trying to be set on a copy of a slice from a DataFrame\n",
            "\n",
            "See the caveats in the documentation: https://pandas.pydata.org/pandas-docs/stable/user_guide/indexing.html#returning-a-view-versus-a-copy\n",
            "  errors=errors,\n"
          ],
          "name": "stderr"
        }
      ]
    },
    {
      "cell_type": "code",
      "metadata": {
        "id": "DiwGOpp2JBm5",
        "colab_type": "code",
        "colab": {
          "base_uri": "https://localhost:8080/",
          "height": 1000
        },
        "outputId": "ab99c3e5-0b6f-4531-ce71-95b33468bd7e"
      },
      "source": [
        "#Criando um DataFrame com a quantidade e média de aluguel de apartamentos por bairro\n",
        "contagem_bairro = pd.DataFrame(df.groupby(\"bairro\")['aluguel'].count())\n",
        "media_bairro = pd.DataFrame(data = df.groupby(\"bairro\")['aluguel'].mean())\n",
        "df_qtd_media = pd.merge(contagem_bairro, media_bairro, on='bairro')\n",
        "df_qtd_media.columns = ['quantidade', 'media']\n",
        "df_qtd_media.sort_values(by='quantidade', ascending=False)"
      ],
      "execution_count": 35,
      "outputs": [
        {
          "output_type": "execute_result",
          "data": {
            "text/html": [
              "<div>\n",
              "<style scoped>\n",
              "    .dataframe tbody tr th:only-of-type {\n",
              "        vertical-align: middle;\n",
              "    }\n",
              "\n",
              "    .dataframe tbody tr th {\n",
              "        vertical-align: top;\n",
              "    }\n",
              "\n",
              "    .dataframe thead th {\n",
              "        text-align: right;\n",
              "    }\n",
              "</style>\n",
              "<table border=\"1\" class=\"dataframe\">\n",
              "  <thead>\n",
              "    <tr style=\"text-align: right;\">\n",
              "      <th></th>\n",
              "      <th>quantidade</th>\n",
              "      <th>media</th>\n",
              "    </tr>\n",
              "    <tr>\n",
              "      <th>bairro</th>\n",
              "      <th></th>\n",
              "      <th></th>\n",
              "    </tr>\n",
              "  </thead>\n",
              "  <tbody>\n",
              "    <tr>\n",
              "      <th>Ponta Negra</th>\n",
              "      <td>509</td>\n",
              "      <td>1897.310413</td>\n",
              "    </tr>\n",
              "    <tr>\n",
              "      <th>Capim Macio</th>\n",
              "      <td>234</td>\n",
              "      <td>1697.209402</td>\n",
              "    </tr>\n",
              "    <tr>\n",
              "      <th>Lagoa Nova</th>\n",
              "      <td>180</td>\n",
              "      <td>1792.255556</td>\n",
              "    </tr>\n",
              "    <tr>\n",
              "      <th>Tirol</th>\n",
              "      <td>121</td>\n",
              "      <td>1896.570248</td>\n",
              "    </tr>\n",
              "    <tr>\n",
              "      <th>Candelária</th>\n",
              "      <td>89</td>\n",
              "      <td>1729.471910</td>\n",
              "    </tr>\n",
              "    <tr>\n",
              "      <th>Pitimbu</th>\n",
              "      <td>59</td>\n",
              "      <td>1095.932203</td>\n",
              "    </tr>\n",
              "    <tr>\n",
              "      <th>Petrópolis</th>\n",
              "      <td>55</td>\n",
              "      <td>1758.490909</td>\n",
              "    </tr>\n",
              "    <tr>\n",
              "      <th>Neópolis</th>\n",
              "      <td>46</td>\n",
              "      <td>1444.260870</td>\n",
              "    </tr>\n",
              "    <tr>\n",
              "      <th>Barro Vermelho</th>\n",
              "      <td>29</td>\n",
              "      <td>1545.517241</td>\n",
              "    </tr>\n",
              "    <tr>\n",
              "      <th>Alecrim</th>\n",
              "      <td>27</td>\n",
              "      <td>1133.333333</td>\n",
              "    </tr>\n",
              "    <tr>\n",
              "      <th>sept Rosado</th>\n",
              "      <td>27</td>\n",
              "      <td>1037.333333</td>\n",
              "    </tr>\n",
              "    <tr>\n",
              "      <th>Areia Preta</th>\n",
              "      <td>17</td>\n",
              "      <td>2027.058824</td>\n",
              "    </tr>\n",
              "    <tr>\n",
              "      <th>Cidade da Esperança</th>\n",
              "      <td>12</td>\n",
              "      <td>1064.666667</td>\n",
              "    </tr>\n",
              "    <tr>\n",
              "      <th>Cidade Alta</th>\n",
              "      <td>10</td>\n",
              "      <td>1343.500000</td>\n",
              "    </tr>\n",
              "    <tr>\n",
              "      <th>Nossa Senhora de Nazaré</th>\n",
              "      <td>8</td>\n",
              "      <td>1396.875000</td>\n",
              "    </tr>\n",
              "    <tr>\n",
              "      <th>Ribeira</th>\n",
              "      <td>6</td>\n",
              "      <td>1408.333333</td>\n",
              "    </tr>\n",
              "    <tr>\n",
              "      <th>Lagoa Seca</th>\n",
              "      <td>6</td>\n",
              "      <td>1497.333333</td>\n",
              "    </tr>\n",
              "    <tr>\n",
              "      <th>Planalto</th>\n",
              "      <td>6</td>\n",
              "      <td>620.000000</td>\n",
              "    </tr>\n",
              "    <tr>\n",
              "      <th>Cidade Satelite</th>\n",
              "      <td>5</td>\n",
              "      <td>800.000000</td>\n",
              "    </tr>\n",
              "    <tr>\n",
              "      <th>Igapó</th>\n",
              "      <td>5</td>\n",
              "      <td>340.000000</td>\n",
              "    </tr>\n",
              "    <tr>\n",
              "      <th>Rocas</th>\n",
              "      <td>5</td>\n",
              "      <td>1400.000000</td>\n",
              "    </tr>\n",
              "    <tr>\n",
              "      <th>Morro Branco</th>\n",
              "      <td>5</td>\n",
              "      <td>970.000000</td>\n",
              "    </tr>\n",
              "    <tr>\n",
              "      <th>Vila de Ponta Negra</th>\n",
              "      <td>5</td>\n",
              "      <td>1856.000000</td>\n",
              "    </tr>\n",
              "    <tr>\n",
              "      <th>Bom Pastor</th>\n",
              "      <td>3</td>\n",
              "      <td>1150.000000</td>\n",
              "    </tr>\n",
              "    <tr>\n",
              "      <th>Nova Descoberta</th>\n",
              "      <td>3</td>\n",
              "      <td>1466.666667</td>\n",
              "    </tr>\n",
              "    <tr>\n",
              "      <th>Cidade Jardim</th>\n",
              "      <td>2</td>\n",
              "      <td>3225.000000</td>\n",
              "    </tr>\n",
              "    <tr>\n",
              "      <th>Praia do Meio</th>\n",
              "      <td>2</td>\n",
              "      <td>1150.000000</td>\n",
              "    </tr>\n",
              "    <tr>\n",
              "      <th>Redinha</th>\n",
              "      <td>2</td>\n",
              "      <td>1100.000000</td>\n",
              "    </tr>\n",
              "    <tr>\n",
              "      <th>Mãe Luíza</th>\n",
              "      <td>2</td>\n",
              "      <td>2900.000000</td>\n",
              "    </tr>\n",
              "    <tr>\n",
              "      <th>Felipe Camarão</th>\n",
              "      <td>1</td>\n",
              "      <td>600.000000</td>\n",
              "    </tr>\n",
              "    <tr>\n",
              "      <th>Conjunto ALAGAMAR</th>\n",
              "      <td>1</td>\n",
              "      <td>1600.000000</td>\n",
              "    </tr>\n",
              "    <tr>\n",
              "      <th>Pirangi</th>\n",
              "      <td>1</td>\n",
              "      <td>4500.000000</td>\n",
              "    </tr>\n",
              "  </tbody>\n",
              "</table>\n",
              "</div>"
            ],
            "text/plain": [
              "                         quantidade        media\n",
              "bairro                                          \n",
              "Ponta Negra                     509  1897.310413\n",
              "Capim Macio                     234  1697.209402\n",
              "Lagoa Nova                      180  1792.255556\n",
              "Tirol                           121  1896.570248\n",
              "Candelária                       89  1729.471910\n",
              "Pitimbu                          59  1095.932203\n",
              "Petrópolis                       55  1758.490909\n",
              "Neópolis                         46  1444.260870\n",
              "Barro Vermelho                   29  1545.517241\n",
              "Alecrim                          27  1133.333333\n",
              "sept Rosado                      27  1037.333333\n",
              "Areia Preta                      17  2027.058824\n",
              "Cidade da Esperança              12  1064.666667\n",
              "Cidade Alta                      10  1343.500000\n",
              "Nossa Senhora de Nazaré           8  1396.875000\n",
              "Ribeira                           6  1408.333333\n",
              "Lagoa Seca                        6  1497.333333\n",
              "Planalto                          6   620.000000\n",
              "Cidade Satelite                   5   800.000000\n",
              "Igapó                             5   340.000000\n",
              "Rocas                             5  1400.000000\n",
              "Morro Branco                      5   970.000000\n",
              "Vila de Ponta Negra               5  1856.000000\n",
              "Bom Pastor                        3  1150.000000\n",
              "Nova Descoberta                   3  1466.666667\n",
              "Cidade Jardim                     2  3225.000000\n",
              "Praia do Meio                     2  1150.000000\n",
              "Redinha                           2  1100.000000\n",
              "Mãe Luíza                         2  2900.000000\n",
              "Felipe Camarão                    1   600.000000\n",
              "Conjunto ALAGAMAR                 1  1600.000000\n",
              "Pirangi                           1  4500.000000"
            ]
          },
          "metadata": {
            "tags": []
          },
          "execution_count": 35
        }
      ]
    },
    {
      "cell_type": "markdown",
      "metadata": {
        "id": "NTXGW9Mxckru",
        "colab_type": "text"
      },
      "source": [
        "Através do dataframe criado com a quantidade de ocorrências e média de aluguel por bairro, podemos inferir que os bairros que possuem maiores ocorrências representam um valor mais adequado para a média."
      ]
    },
    {
      "cell_type": "code",
      "metadata": {
        "id": "4qJFDD_hzUAo",
        "colab_type": "code",
        "colab": {}
      },
      "source": [
        "# Rotulando os bairros com valores numéricos para o treinamento do modelo de previsão.\n",
        "encode = preprocessing.LabelEncoder()"
      ],
      "execution_count": 36,
      "outputs": []
    },
    {
      "cell_type": "code",
      "metadata": {
        "id": "UOpY_hUBzpFd",
        "colab_type": "code",
        "colab": {
          "base_uri": "https://localhost:8080/",
          "height": 34
        },
        "outputId": "80a90c52-5ccd-439d-9426-61f34a3325da"
      },
      "source": [
        "encode.fit(df['bairro'])"
      ],
      "execution_count": 37,
      "outputs": [
        {
          "output_type": "execute_result",
          "data": {
            "text/plain": [
              "LabelEncoder()"
            ]
          },
          "metadata": {
            "tags": []
          },
          "execution_count": 37
        }
      ]
    },
    {
      "cell_type": "code",
      "metadata": {
        "id": "pi8YR8CszuHc",
        "colab_type": "code",
        "colab": {
          "base_uri": "https://localhost:8080/",
          "height": 178
        },
        "outputId": "a65bf0b0-2e91-486e-9ef5-ca703508e213"
      },
      "source": [
        "df['bairro_encoded'] = encode.transform(df[['bairro']])"
      ],
      "execution_count": 38,
      "outputs": [
        {
          "output_type": "stream",
          "text": [
            "/usr/local/lib/python3.6/dist-packages/sklearn/preprocessing/_label.py:268: DataConversionWarning: A column-vector y was passed when a 1d array was expected. Please change the shape of y to (n_samples, ), for example using ravel().\n",
            "  y = column_or_1d(y, warn=True)\n",
            "/usr/local/lib/python3.6/dist-packages/ipykernel_launcher.py:1: SettingWithCopyWarning: \n",
            "A value is trying to be set on a copy of a slice from a DataFrame.\n",
            "Try using .loc[row_indexer,col_indexer] = value instead\n",
            "\n",
            "See the caveats in the documentation: https://pandas.pydata.org/pandas-docs/stable/user_guide/indexing.html#returning-a-view-versus-a-copy\n",
            "  \"\"\"Entry point for launching an IPython kernel.\n"
          ],
          "name": "stderr"
        }
      ]
    },
    {
      "cell_type": "code",
      "metadata": {
        "id": "NkHGjejd4q3i",
        "colab_type": "code",
        "colab": {
          "base_uri": "https://localhost:8080/",
          "height": 354
        },
        "outputId": "1354ccb8-7199-48fa-c02a-a32fa543790f"
      },
      "source": [
        "#verificando as correlações entre as variáveis, para a escolha de quais irão ser utilizadas para o treinamento do modelo\n",
        "sns.heatmap(df.corr(), annot=True)"
      ],
      "execution_count": 39,
      "outputs": [
        {
          "output_type": "execute_result",
          "data": {
            "text/plain": [
              "<matplotlib.axes._subplots.AxesSubplot at 0x7f7a2f323630>"
            ]
          },
          "metadata": {
            "tags": []
          },
          "execution_count": 39
        },
        {
          "output_type": "display_data",
          "data": {
            "image/png": "[encoded data removed]",
            "text/plain": [
              "<Figure size 432x288 with 2 Axes>"
            ]
          },
          "metadata": {
            "tags": [],
            "needs_background": "light"
          }
        }
      ]
    },
    {
      "cell_type": "markdown",
      "metadata": {
        "id": "yGqjhYJPzNRK",
        "colab_type": "text"
      },
      "source": [
        "#Escolha do modelo de Machine Learning"
      ]
    },
    {
      "cell_type": "code",
      "metadata": {
        "id": "bi2Rq94A1FUX",
        "colab_type": "code",
        "colab": {}
      },
      "source": [
        "# Padronizando os valores das colunas para a mesma escala\n",
        "scaler = StandardScaler()\n",
        "X = scaler.fit_transform(df[['bairro_encoded', 'condominio', 'area','quartos', 'banheiros', 'suite', 'vagas']])"
      ],
      "execution_count": 40,
      "outputs": []
    },
    {
      "cell_type": "code",
      "metadata": {
        "id": "7Xnk_-epJamJ",
        "colab_type": "code",
        "colab": {}
      },
      "source": [
        "y = scaler.fit_transform(df[['aluguel']])"
      ],
      "execution_count": 41,
      "outputs": []
    },
    {
      "cell_type": "code",
      "metadata": {
        "id": "pYETMlu_zRCo",
        "colab_type": "code",
        "colab": {}
      },
      "source": [
        "# Separando 80% dos dados para treino e 20% para teste\n",
        "X_train, X_test, y_train, y_test = train_test_split(X, y, test_size = 0.20, random_state = 10)"
      ],
      "execution_count": 42,
      "outputs": []
    },
    {
      "cell_type": "code",
      "metadata": {
        "id": "-RREi6jq10ZD",
        "colab_type": "code",
        "colab": {
          "base_uri": "https://localhost:8080/",
          "height": 34
        },
        "outputId": "6127d3a5-0f84-45af-a21f-8b3e468064d6"
      },
      "source": [
        "#Verificando a quantidade de linhas e colunas dos dados de treino e teste\n",
        "print(X_train.shape, X_test.shape, y_train.shape, y_test.shape)"
      ],
      "execution_count": 43,
      "outputs": [
        {
          "output_type": "stream",
          "text": [
            "(1186, 7) (297, 7) (1186, 1) (297, 1)\n"
          ],
          "name": "stdout"
        }
      ]
    },
    {
      "cell_type": "code",
      "metadata": {
        "id": "qtFQKhyG2COa",
        "colab_type": "code",
        "colab": {}
      },
      "source": [
        "# Instanciando o modelo de Regressão Linear\n",
        "model_LR = LinearRegression()"
      ],
      "execution_count": 44,
      "outputs": []
    },
    {
      "cell_type": "code",
      "metadata": {
        "id": "2TRBcgK12E_p",
        "colab_type": "code",
        "colab": {
          "base_uri": "https://localhost:8080/",
          "height": 34
        },
        "outputId": "8e622a96-ef1c-4a05-f931-7e3fcb4673de"
      },
      "source": [
        "# Treinando o modelo com os dados de treino\n",
        "model_LR.fit(X_train, y_train)"
      ],
      "execution_count": 45,
      "outputs": [
        {
          "output_type": "execute_result",
          "data": {
            "text/plain": [
              "LinearRegression(copy_X=True, fit_intercept=True, n_jobs=None, normalize=False)"
            ]
          },
          "metadata": {
            "tags": []
          },
          "execution_count": 45
        }
      ]
    },
    {
      "cell_type": "code",
      "metadata": {
        "id": "d5Su8cWy2NR4",
        "colab_type": "code",
        "colab": {}
      },
      "source": [
        "# Atribuindo a predição a \"y_predict_LR\" a partir dos dados de teste\n",
        "y_predict_LR = model_LR.predict(X_test)"
      ],
      "execution_count": 46,
      "outputs": []
    },
    {
      "cell_type": "code",
      "metadata": {
        "id": "4QemgeRa2VuI",
        "colab_type": "code",
        "colab": {
          "base_uri": "https://localhost:8080/",
          "height": 52
        },
        "outputId": "d1699f14-6b81-4efe-c73c-a61f13b5e626"
      },
      "source": [
        "# Verificando a métrica de score (Coeficiente de Determinação) e RMSE (Raiz do erro médio quadrático)\n",
        "score_LR = model_LR.score(X_test, y_test)\n",
        "RMSE_LR = sqrt(mean_squared_error(y_test, y_predict_LR))\n",
        "print(f\"O score do modelo de Regressão Linear é: {score_LR}\")\n",
        "print(f\"O RMSE do modelo de Regressão Linear é: {RMSE_LR}\")"
      ],
      "execution_count": 47,
      "outputs": [
        {
          "output_type": "stream",
          "text": [
            "O score do modelo de Regressão Linear é: 0.4969762280136643\n",
            "O RMSE do modelo de Regressão Linear é: 0.6697847924595648\n"
          ],
          "name": "stdout"
        }
      ]
    },
    {
      "cell_type": "markdown",
      "metadata": {
        "id": "P4cL6lW_e5Du",
        "colab_type": "text"
      },
      "source": [
        "Quanto maior o score, melhor as variáveis explicam o resultado da variável alvo\n",
        "\n",
        "Quanto menor o RMSE, menor o erro do algoritmo em relação aos valores reais"
      ]
    },
    {
      "cell_type": "code",
      "metadata": {
        "id": "ICuPeuGNK-UW",
        "colab_type": "code",
        "colab": {}
      },
      "source": [
        "# Criando um DataFrame com os valores reais e preditos\n",
        "predicoes = []"
      ],
      "execution_count": 48,
      "outputs": []
    },
    {
      "cell_type": "code",
      "metadata": {
        "id": "vI4hevzh5JDO",
        "colab_type": "code",
        "colab": {
          "base_uri": "https://localhost:8080/",
          "height": 402
        },
        "outputId": "51e3cf4c-2349-4453-e1ca-3df28a8446a2"
      },
      "source": [
        "predicoes = scaler.inverse_transform(y_test)\n",
        "predicoes = pd.DataFrame(predicoes, columns=['Real'])\n",
        "y_predict_LR = scaler.inverse_transform(y_predict_LR)\n",
        "predicoes['Predict_LR'] = [\"%.2f\" % y for y in y_predict_LR]\n",
        "predicoes"
      ],
      "execution_count": 49,
      "outputs": [
        {
          "output_type": "execute_result",
          "data": {
            "text/html": [
              "<div>\n",
              "<style scoped>\n",
              "    .dataframe tbody tr th:only-of-type {\n",
              "        vertical-align: middle;\n",
              "    }\n",
              "\n",
              "    .dataframe tbody tr th {\n",
              "        vertical-align: top;\n",
              "    }\n",
              "\n",
              "    .dataframe thead th {\n",
              "        text-align: right;\n",
              "    }\n",
              "</style>\n",
              "<table border=\"1\" class=\"dataframe\">\n",
              "  <thead>\n",
              "    <tr style=\"text-align: right;\">\n",
              "      <th></th>\n",
              "      <th>Real</th>\n",
              "      <th>Predict_LR</th>\n",
              "    </tr>\n",
              "  </thead>\n",
              "  <tbody>\n",
              "    <tr>\n",
              "      <th>0</th>\n",
              "      <td>1400.0</td>\n",
              "      <td>1767.55</td>\n",
              "    </tr>\n",
              "    <tr>\n",
              "      <th>1</th>\n",
              "      <td>1650.0</td>\n",
              "      <td>1822.77</td>\n",
              "    </tr>\n",
              "    <tr>\n",
              "      <th>2</th>\n",
              "      <td>2800.0</td>\n",
              "      <td>3007.07</td>\n",
              "    </tr>\n",
              "    <tr>\n",
              "      <th>3</th>\n",
              "      <td>1800.0</td>\n",
              "      <td>2104.49</td>\n",
              "    </tr>\n",
              "    <tr>\n",
              "      <th>4</th>\n",
              "      <td>2700.0</td>\n",
              "      <td>1778.56</td>\n",
              "    </tr>\n",
              "    <tr>\n",
              "      <th>...</th>\n",
              "      <td>...</td>\n",
              "      <td>...</td>\n",
              "    </tr>\n",
              "    <tr>\n",
              "      <th>292</th>\n",
              "      <td>1700.0</td>\n",
              "      <td>1399.68</td>\n",
              "    </tr>\n",
              "    <tr>\n",
              "      <th>293</th>\n",
              "      <td>1500.0</td>\n",
              "      <td>1755.23</td>\n",
              "    </tr>\n",
              "    <tr>\n",
              "      <th>294</th>\n",
              "      <td>2700.0</td>\n",
              "      <td>2917.92</td>\n",
              "    </tr>\n",
              "    <tr>\n",
              "      <th>295</th>\n",
              "      <td>1500.0</td>\n",
              "      <td>1796.11</td>\n",
              "    </tr>\n",
              "    <tr>\n",
              "      <th>296</th>\n",
              "      <td>2400.0</td>\n",
              "      <td>1718.84</td>\n",
              "    </tr>\n",
              "  </tbody>\n",
              "</table>\n",
              "<p>297 rows × 2 columns</p>\n",
              "</div>"
            ],
            "text/plain": [
              "       Real Predict_LR\n",
              "0    1400.0    1767.55\n",
              "1    1650.0    1822.77\n",
              "2    2800.0    3007.07\n",
              "3    1800.0    2104.49\n",
              "4    2700.0    1778.56\n",
              "..      ...        ...\n",
              "292  1700.0    1399.68\n",
              "293  1500.0    1755.23\n",
              "294  2700.0    2917.92\n",
              "295  1500.0    1796.11\n",
              "296  2400.0    1718.84\n",
              "\n",
              "[297 rows x 2 columns]"
            ]
          },
          "metadata": {
            "tags": []
          },
          "execution_count": 49
        }
      ]
    },
    {
      "cell_type": "code",
      "metadata": {
        "id": "pU7fBn10lHDT",
        "colab_type": "code",
        "colab": {}
      },
      "source": [
        "# Importando biblioteca para a plotagem dos graficos comparativos entre o valore real e predito\n",
        "import plotly.graph_objects as go"
      ],
      "execution_count": 50,
      "outputs": []
    },
    {
      "cell_type": "code",
      "metadata": {
        "id": "POo-sKFnlM0W",
        "colab_type": "code",
        "colab": {
          "base_uri": "https://localhost:8080/",
          "height": 542
        },
        "outputId": "a3c5d9d1-6efe-47f2-9f8d-909eb04e602c"
      },
      "source": [
        "fig = go.Figure()\n",
        "fig.add_trace(go.Scatter(x=predicoes.index, y=predicoes['Real'], mode='lines+markers', name='Valor Real'))\n",
        "fig.add_trace(go.Scatter(x=predicoes.index, y=predicoes['Predict_LR'], mode='lines+markers', name='Modelo Regressão Linear'))\n",
        "fig.show()\n"
      ],
      "execution_count": 51,
      "outputs": [
        {
          "output_type": "display_data",
          "data": {
            "text/html": [
              "<html>\n",
              "<head><meta charset=\"utf-8\" /></head>\n",
              "<body>\n",
              "    <div>\n",
              "            <script src=\"https://cdnjs.cloudflare.com/ajax/libs/mathjax/2.7.5/MathJax.js?config=TeX-AMS-MML_SVG\"></script><script type=\"text/javascript\">if (window.MathJax) {MathJax.Hub.Config({SVG: {font: \"STIX-Web\"}});}</script>\n",
              "                <script type=\"text/javascript\">window.PlotlyConfig = {MathJaxConfig: 'local'};</script>\n",
              "        <script src=\"https://cdn.plot.ly/plotly-latest.min.js\"></script>    \n",
              "            <div id=\"0190f250-1dc3-4921-b5f6-d1ad5f29d293\" class=\"plotly-graph-div\" style=\"height:525px; width:100%;\"></div>\n",
              "            <script type=\"text/javascript\">\n",
              "                \n",
              "                    window.PLOTLYENV=window.PLOTLYENV || {};\n",
              "                    \n",
              "                if (document.getElementById(\"0190f250-1dc3-4921-b5f6-d1ad5f29d293\")) {\n",
              "                    Plotly.newPlot(\n",
              "                        '0190f250-1dc3-4921-b5f6-d1ad5f29d293',\n",
              "                        [{\"mode\": \"lines+markers\", \"name\": \"Valor Real\", \"type\": \"scatter\", \"x\": [0, 1, 2, 3, 4, 5, 6, 7, 8, 9, 10, 11, 12, 13, 14, 15, 16, 17, 18, 19, 20, 21, 22, 23, 24, 25, 26, 27, 28, 29, 30, 31, 32, 33, 34, 35, 36, 37, 38, 39, 40, 41, 42, 43, 44, 45, 46, 47, 48, 49, 50, 51, 52, 53, 54, 55, 56, 57, 58, 59, 60, 61, 62, 63, 64, 65, 66, 67, 68, 69, 70, 71, 72, 73, 74, 75, 76, 77, 78, 79, 80, 81, 82, 83, 84, 85, 86, 87, 88, 89, 90, 91, 92, 93, 94, 95, 96, 97, 98, 99, 100, 101, 102, 103, 104, 105, 106, 107, 108, 109, 110, 111, 112, 113, 114, 115, 116, 117, 118, 119, 120, 121, 122, 123, 124, 125, 126, 127, 128, 129, 130, 131, 132, 133, 134, 135, 136, 137, 138, 139, 140, 141, 142, 143, 144, 145, 146, 147, 148, 149, 150, 151, 152, 153, 154, 155, 156, 157, 158, 159, 160, 161, 162, 163, 164, 165, 166, 167, 168, 169, 170, 171, 172, 173, 174, 175, 176, 177, 178, 179, 180, 181, 182, 183, 184, 185, 186, 187, 188, 189, 190, 191, 192, 193, 194, 195, 196, 197, 198, 199, 200, 201, 202, 203, 204, 205, 206, 207, 208, 209, 210, 211, 212, 213, 214, 215, 216, 217, 218, 219, 220, 221, 222, 223, 224, 225, 226, 227, 228, 229, 230, 231, 232, 233, 234, 235, 236, 237, 238, 239, 240, 241, 242, 243, 244, 245, 246, 247, 248, 249, 250, 251, 252, 253, 254, 255, 256, 257, 258, 259, 260, 261, 262, 263, 264, 265, 266, 267, 268, 269, 270, 271, 272, 273, 274, 275, 276, 277, 278, 279, 280, 281, 282, 283, 284, 285, 286, 287, 288, 289, 290, 291, 292, 293, 294, 295, 296], \"y\": [1400.0, 1650.0, 2800.0, 1800.0, 2700.0, 3500.0, 900.0, 600.0, 1800.0, 2000.0, 1800.0, 2100.0, 1500.0, 2500.0, 1600.0, 900.0, 3000.0, 2500.0, 1350.0, 1350.0, 1650.0, 450.0, 550.0, 2900.0, 1150.0, 2550.0, 1007.0, 1215.0, 1450.0, 1650.0, 1300.0, 1100.0, 1600.0, 1300.0, 909.9999999999999, 1400.0, 2300.0, 1200.0, 3000.0, 2000.0, 330.0, 2300.0, 480.0, 2200.0, 1800.0, 800.0000000000001, 2000.0, 1200.0, 2400.0, 3500.0, 1200.0, 2300.0, 2871.0, 2500.0, 2230.0, 2200.0, 2500.0, 1500.0, 1400.0, 1800.0, 1400.0, 1500.0, 2400.0, 2000.0, 1800.0, 1700.0, 1300.0, 1400.0, 1500.0, 1450.0, 2500.0, 1300.0, 2000.0, 919.9999999999999, 1200.0, 2500.0, 1750.0, 2300.0, 1200.0, 1400.0, 1399.0, 1200.0, 1200.0, 2000.0, 1700.0, 1600.0, 890.0, 1800.0, 2700.0, 1300.0, 3000.0, 2200.0, 3000.0, 2800.0, 821.0, 1500.0, 2000.0, 3000.0, 2180.0, 1400.0, 1200.0, 1400.0, 1700.0, 3000.0, 1700.0, 1800.0, 2250.0, 2000.0, 900.0, 2800.0, 1500.0, 2400.0, 850.0, 1600.0, 1000.0, 1375.0, 600.0, 1400.0, 2000.0, 1200.0, 1500.0, 2000.0, 1550.0, 2250.0, 1700.0, 1300.0, 1500.0, 1200.0, 1250.0, 1100.0, 1000.0, 1050.0, 2200.0, 1500.0, 550.0, 2500.0, 2200.0, 1005.0, 1755.0, 1800.0, 2000.0, 1300.0, 1400.0, 1550.0, 1400.0, 950.0, 1400.0, 1800.0, 1300.0, 1200.0, 2500.0, 2700.0, 1700.0, 1553.0, 950.0, 600.0, 2800.0, 1500.0, 900.0, 1600.0, 2500.0, 330.0, 650.0, 1600.0, 1000.0, 1000.0, 1300.0, 800.0000000000001, 1600.0, 1006.0, 2900.0, 2900.0, 700.0, 2200.0, 650.0, 2600.0, 1000.0, 1000.0, 2300.0, 1320.0, 2200.0, 2600.0, 1750.0, 3200.0, 1300.0, 3000.0, 2500.0, 3300.0, 750.0, 950.0, 1700.0, 2000.0, 2300.0, 1450.0, 1050.0, 2050.0, 1400.0, 750.0, 1300.0, 1300.0, 1600.0, 1700.0, 1300.0, 1400.0, 1400.0, 1900.0, 2200.0, 1700.0, 1600.0, 2500.0, 1100.0, 2000.0, 2500.0, 2300.0, 2000.0, 1000.0, 2700.0, 3100.0, 1900.0, 2300.0, 1400.0, 950.0, 1400.0, 2500.0, 1300.0, 1300.0, 2600.0, 2700.0, 2200.0, 1400.0, 2200.0, 3500.0, 1007.0, 750.0, 1000.0, 1800.0, 1000.0, 1900.0, 2200.0, 1005.0, 1800.0, 1800.0, 2800.0, 1600.0, 2750.0, 1000.0, 1100.0, 1700.0, 2200.0, 2000.0, 1950.0, 1250.0, 3000.0, 1800.0, 1500.0, 1500.0, 1005.0, 480.0, 2600.0, 1500.0, 650.0, 1300.0, 3700.0, 1500.0, 2300.0, 1300.0, 2500.0, 3000.0, 2800.0, 1800.0, 2500.0, 800.0000000000001, 1300.0, 1900.0, 1800.0, 2500.0, 850.0, 1800.0, 850.0, 2200.0, 1100.0, 2500.0, 1500.0, 2900.0, 1250.0, 1100.0, 550.0, 870.0, 2200.0, 480.0, 2500.0, 1200.0, 1700.0, 1500.0, 2700.0, 1500.0, 2400.0]}, {\"mode\": \"lines+markers\", \"name\": \"Modelo Regress\\u00e3o Linear\", \"type\": \"scatter\", \"x\": [0, 1, 2, 3, 4, 5, 6, 7, 8, 9, 10, 11, 12, 13, 14, 15, 16, 17, 18, 19, 20, 21, 22, 23, 24, 25, 26, 27, 28, 29, 30, 31, 32, 33, 34, 35, 36, 37, 38, 39, 40, 41, 42, 43, 44, 45, 46, 47, 48, 49, 50, 51, 52, 53, 54, 55, 56, 57, 58, 59, 60, 61, 62, 63, 64, 65, 66, 67, 68, 69, 70, 71, 72, 73, 74, 75, 76, 77, 78, 79, 80, 81, 82, 83, 84, 85, 86, 87, 88, 89, 90, 91, 92, 93, 94, 95, 96, 97, 98, 99, 100, 101, 102, 103, 104, 105, 106, 107, 108, 109, 110, 111, 112, 113, 114, 115, 116, 117, 118, 119, 120, 121, 122, 123, 124, 125, 126, 127, 128, 129, 130, 131, 132, 133, 134, 135, 136, 137, 138, 139, 140, 141, 142, 143, 144, 145, 146, 147, 148, 149, 150, 151, 152, 153, 154, 155, 156, 157, 158, 159, 160, 161, 162, 163, 164, 165, 166, 167, 168, 169, 170, 171, 172, 173, 174, 175, 176, 177, 178, 179, 180, 181, 182, 183, 184, 185, 186, 187, 188, 189, 190, 191, 192, 193, 194, 195, 196, 197, 198, 199, 200, 201, 202, 203, 204, 205, 206, 207, 208, 209, 210, 211, 212, 213, 214, 215, 216, 217, 218, 219, 220, 221, 222, 223, 224, 225, 226, 227, 228, 229, 230, 231, 232, 233, 234, 235, 236, 237, 238, 239, 240, 241, 242, 243, 244, 245, 246, 247, 248, 249, 250, 251, 252, 253, 254, 255, 256, 257, 258, 259, 260, 261, 262, 263, 264, 265, 266, 267, 268, 269, 270, 271, 272, 273, 274, 275, 276, 277, 278, 279, 280, 281, 282, 283, 284, 285, 286, 287, 288, 289, 290, 291, 292, 293, 294, 295, 296], \"y\": [\"1767.55\", \"1822.77\", \"3007.07\", \"2104.49\", \"1778.56\", \"1784.10\", \"1297.52\", \"1206.17\", \"1640.41\", \"899.19\", \"2316.60\", \"1783.37\", \"1561.71\", \"2676.21\", \"1834.13\", \"1459.62\", \"2941.13\", \"3065.79\", \"1185.30\", \"1773.75\", \"2195.06\", \"885.18\", \"995.71\", \"2319.42\", \"830.99\", \"2162.29\", \"1528.85\", \"1937.25\", \"1787.17\", \"1420.38\", \"1638.26\", \"1715.00\", \"1793.00\", \"1258.91\", \"1535.76\", \"1841.71\", \"395.58\", \"1187.90\", \"2314.61\", \"1704.41\", \"1066.01\", \"2062.59\", \"625.00\", \"1987.81\", \"1998.78\", \"771.14\", \"2130.55\", \"1756.63\", \"2083.33\", \"3262.80\", \"1451.66\", \"2217.13\", \"1840.55\", \"2432.66\", \"2092.95\", \"2484.75\", \"2158.34\", \"1372.39\", \"1609.45\", \"1540.42\", \"1531.52\", \"1301.64\", \"1802.62\", \"1918.28\", \"1447.32\", \"1704.41\", \"1256.40\", \"1832.08\", \"1493.39\", \"941.03\", \"1702.69\", \"1386.70\", \"2009.73\", \"1303.27\", \"1381.89\", \"2314.61\", \"1561.71\", \"2323.82\", \"1393.87\", \"1013.57\", \"1699.79\", \"1783.37\", \"1228.60\", \"2027.46\", \"1752.28\", \"1534.46\", \"1268.84\", \"2237.63\", \"2239.27\", \"1542.94\", \"1201.01\", \"1783.37\", \"2067.40\", \"2838.96\", \"1596.39\", \"1751.14\", \"884.64\", \"2442.28\", \"3050.22\", \"997.45\", \"1619.44\", \"1561.71\", \"1783.37\", \"2266.50\", \"1783.37\", \"2242.44\", \"1826.67\", \"1783.37\", \"1212.51\", \"3026.89\", \"1685.17\", \"1764.13\", \"1862.63\", \"1545.96\", \"1988.34\", \"1525.77\", \"1305.23\", \"941.03\", \"1550.05\", \"1453.39\", \"1514.73\", \"1586.86\", \"1718.19\", \"1586.24\", \"1566.52\", \"1415.57\", \"2028.78\", \"1323.57\", \"1562.29\", \"1235.88\", \"1562.29\", \"1533.42\", \"1856.44\", \"1580.89\", \"995.71\", \"2170.94\", \"1802.62\", \"1528.85\", \"1907.53\", \"2316.60\", \"2162.22\", \"1764.85\", \"1846.82\", \"1753.49\", \"1221.35\", \"1651.85\", \"1593.95\", \"1778.56\", \"1430.00\", \"1108.38\", \"2330.37\", \"2936.32\", \"1875.38\", \"1368.80\", \"1051.27\", \"1576.34\", \"2319.42\", \"1659.85\", \"1287.93\", \"1864.99\", \"2290.55\", \"1265.95\", \"918.04\", \"1557.68\", \"1346.26\", \"1899.56\", \"1826.67\", \"1845.10\", \"1213.15\", \"1528.85\", \"2379.87\", \"2201.26\", \"1142.47\", \"2177.81\", \"696.44\", \"1201.18\", \"1657.93\", \"1522.25\", \"1704.41\", \"1657.04\", \"2242.44\", \"2917.92\", \"2401.51\", \"1975.50\", \"2207.42\", \"2018.74\", \"2403.79\", \"3001.75\", \"1472.90\", \"1167.52\", \"2193.18\", \"1778.56\", \"1889.92\", \"1561.71\", \"1307.28\", \"1469.03\", \"1754.51\", \"1025.83\", \"1794.56\", \"1660.16\", \"1793.00\", \"1841.71\", \"1692.09\", \"1736.71\", \"1448.23\", \"1449.80\", \"2363.32\", \"1861.20\", \"1566.52\", \"2115.49\", \"1783.37\", \"1199.08\", \"1783.37\", \"2221.04\", \"1802.62\", \"1320.98\", \"1826.67\", \"2282.38\", \"1945.06\", \"2871.79\", \"1550.05\", \"1169.85\", \"1729.43\", \"2383.95\", \"1430.00\", \"2151.40\", \"2202.70\", \"1778.56\", \"1699.60\", \"1439.62\", \"2067.40\", \"3274.11\", \"1528.85\", \"1660.29\", \"1227.65\", \"1447.75\", \"1449.77\", \"1580.89\", \"1865.09\", \"1528.85\", \"1533.32\", \"1778.56\", \"2838.96\", \"1566.52\", \"2279.68\", \"1761.07\", \"1636.04\", \"1783.37\", \"1708.56\", \"1797.81\", \"1247.85\", \"1331.48\", \"1783.37\", \"1949.64\", \"1391.51\", \"1947.01\", \"1528.85\", \"666.74\", \"1783.37\", \"1778.56\", \"939.53\", \"1740.07\", \"3214.39\", \"1377.08\", \"1778.56\", \"1381.89\", \"1783.37\", \"2693.87\", \"2331.87\", \"2127.10\", \"2871.79\", \"1493.39\", \"1964.79\", \"1673.07\", \"1520.35\", \"2059.20\", \"963.64\", \"1664.67\", \"938.78\", \"1783.37\", \"1496.35\", \"1773.75\", \"1471.08\", \"2270.29\", \"1973.69\", \"1169.85\", \"1197.25\", \"1344.06\", \"2336.01\", \"666.74\", \"2123.74\", \"1572.49\", \"1399.68\", \"1755.23\", \"2917.92\", \"1796.11\", \"1718.84\"]}],\n",
              "                        {\"template\": {\"data\": {\"bar\": [{\"error_x\": {\"color\": \"#2a3f5f\"}, \"error_y\": {\"color\": \"#2a3f5f\"}, \"marker\": {\"line\": {\"color\": \"#E5ECF6\", \"width\": 0.5}}, \"type\": \"bar\"}], \"barpolar\": [{\"marker\": {\"line\": {\"color\": \"#E5ECF6\", \"width\": 0.5}}, \"type\": \"barpolar\"}], \"carpet\": [{\"aaxis\": {\"endlinecolor\": \"#2a3f5f\", \"gridcolor\": \"white\", \"linecolor\": \"white\", \"minorgridcolor\": \"white\", \"startlinecolor\": \"#2a3f5f\"}, \"baxis\": {\"endlinecolor\": \"#2a3f5f\", \"gridcolor\": \"white\", \"linecolor\": \"white\", \"minorgridcolor\": \"white\", \"startlinecolor\": \"#2a3f5f\"}, \"type\": \"carpet\"}], \"choropleth\": [{\"colorbar\": {\"outlinewidth\": 0, \"ticks\": \"\"}, \"type\": \"choropleth\"}], \"contour\": [{\"colorbar\": {\"outlinewidth\": 0, \"ticks\": \"\"}, \"colorscale\": [[0.0, \"#0d0887\"], [0.1111111111111111, \"#46039f\"], [0.2222222222222222, \"#7201a8\"], [0.3333333333333333, \"#9c179e\"], [0.4444444444444444, \"#bd3786\"], [0.5555555555555556, \"#d8576b\"], [0.6666666666666666, \"#ed7953\"], [0.7777777777777778, \"#fb9f3a\"], [0.8888888888888888, \"#fdca26\"], [1.0, \"#f0f921\"]], \"type\": \"contour\"}], \"contourcarpet\": [{\"colorbar\": {\"outlinewidth\": 0, \"ticks\": \"\"}, \"type\": \"contourcarpet\"}], \"heatmap\": [{\"colorbar\": {\"outlinewidth\": 0, \"ticks\": \"\"}, \"colorscale\": [[0.0, \"#0d0887\"], [0.1111111111111111, \"#46039f\"], [0.2222222222222222, \"#7201a8\"], [0.3333333333333333, \"#9c179e\"], [0.4444444444444444, \"#bd3786\"], [0.5555555555555556, \"#d8576b\"], [0.6666666666666666, \"#ed7953\"], [0.7777777777777778, \"#fb9f3a\"], [0.8888888888888888, \"#fdca26\"], [1.0, \"#f0f921\"]], \"type\": \"heatmap\"}], \"heatmapgl\": [{\"colorbar\": {\"outlinewidth\": 0, \"ticks\": \"\"}, \"colorscale\": [[0.0, \"#0d0887\"], [0.1111111111111111, \"#46039f\"], [0.2222222222222222, \"#7201a8\"], [0.3333333333333333, \"#9c179e\"], [0.4444444444444444, \"#bd3786\"], [0.5555555555555556, \"#d8576b\"], [0.6666666666666666, \"#ed7953\"], [0.7777777777777778, \"#fb9f3a\"], [0.8888888888888888, \"#fdca26\"], [1.0, \"#f0f921\"]], \"type\": \"heatmapgl\"}], \"histogram\": [{\"marker\": {\"colorbar\": {\"outlinewidth\": 0, \"ticks\": \"\"}}, \"type\": \"histogram\"}], \"histogram2d\": [{\"colorbar\": {\"outlinewidth\": 0, \"ticks\": \"\"}, \"colorscale\": [[0.0, \"#0d0887\"], [0.1111111111111111, \"#46039f\"], [0.2222222222222222, \"#7201a8\"], [0.3333333333333333, \"#9c179e\"], [0.4444444444444444, \"#bd3786\"], [0.5555555555555556, \"#d8576b\"], [0.6666666666666666, \"#ed7953\"], [0.7777777777777778, \"#fb9f3a\"], [0.8888888888888888, \"#fdca26\"], [1.0, \"#f0f921\"]], \"type\": \"histogram2d\"}], \"histogram2dcontour\": [{\"colorbar\": {\"outlinewidth\": 0, \"ticks\": \"\"}, \"colorscale\": [[0.0, \"#0d0887\"], [0.1111111111111111, \"#46039f\"], [0.2222222222222222, \"#7201a8\"], [0.3333333333333333, \"#9c179e\"], [0.4444444444444444, \"#bd3786\"], [0.5555555555555556, \"#d8576b\"], [0.6666666666666666, \"#ed7953\"], [0.7777777777777778, \"#fb9f3a\"], [0.8888888888888888, \"#fdca26\"], [1.0, \"#f0f921\"]], \"type\": \"histogram2dcontour\"}], \"mesh3d\": [{\"colorbar\": {\"outlinewidth\": 0, \"ticks\": \"\"}, \"type\": \"mesh3d\"}], \"parcoords\": [{\"line\": {\"colorbar\": {\"outlinewidth\": 0, \"ticks\": \"\"}}, \"type\": \"parcoords\"}], \"pie\": [{\"automargin\": true, \"type\": \"pie\"}], \"scatter\": [{\"marker\": {\"colorbar\": {\"outlinewidth\": 0, \"ticks\": \"\"}}, \"type\": \"scatter\"}], \"scatter3d\": [{\"line\": {\"colorbar\": {\"outlinewidth\": 0, \"ticks\": \"\"}}, \"marker\": {\"colorbar\": {\"outlinewidth\": 0, \"ticks\": \"\"}}, \"type\": \"scatter3d\"}], \"scattercarpet\": [{\"marker\": {\"colorbar\": {\"outlinewidth\": 0, \"ticks\": \"\"}}, \"type\": \"scattercarpet\"}], \"scattergeo\": [{\"marker\": {\"colorbar\": {\"outlinewidth\": 0, \"ticks\": \"\"}}, \"type\": \"scattergeo\"}], \"scattergl\": [{\"marker\": {\"colorbar\": {\"outlinewidth\": 0, \"ticks\": \"\"}}, \"type\": \"scattergl\"}], \"scattermapbox\": [{\"marker\": {\"colorbar\": {\"outlinewidth\": 0, \"ticks\": \"\"}}, \"type\": \"scattermapbox\"}], \"scatterpolar\": [{\"marker\": {\"colorbar\": {\"outlinewidth\": 0, \"ticks\": \"\"}}, \"type\": \"scatterpolar\"}], \"scatterpolargl\": [{\"marker\": {\"colorbar\": {\"outlinewidth\": 0, \"ticks\": \"\"}}, \"type\": \"scatterpolargl\"}], \"scatterternary\": [{\"marker\": {\"colorbar\": {\"outlinewidth\": 0, \"ticks\": \"\"}}, \"type\": \"scatterternary\"}], \"surface\": [{\"colorbar\": {\"outlinewidth\": 0, \"ticks\": \"\"}, \"colorscale\": [[0.0, \"#0d0887\"], [0.1111111111111111, \"#46039f\"], [0.2222222222222222, \"#7201a8\"], [0.3333333333333333, \"#9c179e\"], [0.4444444444444444, \"#bd3786\"], [0.5555555555555556, \"#d8576b\"], [0.6666666666666666, \"#ed7953\"], [0.7777777777777778, \"#fb9f3a\"], [0.8888888888888888, \"#fdca26\"], [1.0, \"#f0f921\"]], \"type\": \"surface\"}], \"table\": [{\"cells\": {\"fill\": {\"color\": \"#EBF0F8\"}, \"line\": {\"color\": \"white\"}}, \"header\": {\"fill\": {\"color\": \"#C8D4E3\"}, \"line\": {\"color\": \"white\"}}, \"type\": \"table\"}]}, \"layout\": {\"annotationdefaults\": {\"arrowcolor\": \"#2a3f5f\", \"arrowhead\": 0, \"arrowwidth\": 1}, \"coloraxis\": {\"colorbar\": {\"outlinewidth\": 0, \"ticks\": \"\"}}, \"colorscale\": {\"diverging\": [[0, \"#8e0152\"], [0.1, \"#c51b7d\"], [0.2, \"#de77ae\"], [0.3, \"#f1b6da\"], [0.4, \"#fde0ef\"], [0.5, \"#f7f7f7\"], [0.6, \"#e6f5d0\"], [0.7, \"#b8e186\"], [0.8, \"#7fbc41\"], [0.9, \"#4d9221\"], [1, \"#276419\"]], \"sequential\": [[0.0, \"#0d0887\"], [0.1111111111111111, \"#46039f\"], [0.2222222222222222, \"#7201a8\"], [0.3333333333333333, \"#9c179e\"], [0.4444444444444444, \"#bd3786\"], [0.5555555555555556, \"#d8576b\"], [0.6666666666666666, \"#ed7953\"], [0.7777777777777778, \"#fb9f3a\"], [0.8888888888888888, \"#fdca26\"], [1.0, \"#f0f921\"]], \"sequentialminus\": [[0.0, \"#0d0887\"], [0.1111111111111111, \"#46039f\"], [0.2222222222222222, \"#7201a8\"], [0.3333333333333333, \"#9c179e\"], [0.4444444444444444, \"#bd3786\"], [0.5555555555555556, \"#d8576b\"], [0.6666666666666666, \"#ed7953\"], [0.7777777777777778, \"#fb9f3a\"], [0.8888888888888888, \"#fdca26\"], [1.0, \"#f0f921\"]]}, \"colorway\": [\"#636efa\", \"#EF553B\", \"#00cc96\", \"#ab63fa\", \"#FFA15A\", \"#19d3f3\", \"#FF6692\", \"#B6E880\", \"#FF97FF\", \"#FECB52\"], \"font\": {\"color\": \"#2a3f5f\"}, \"geo\": {\"bgcolor\": \"white\", \"lakecolor\": \"white\", \"landcolor\": \"#E5ECF6\", \"showlakes\": true, \"showland\": true, \"subunitcolor\": \"white\"}, \"hoverlabel\": {\"align\": \"left\"}, \"hovermode\": \"closest\", \"mapbox\": {\"style\": \"light\"}, \"paper_bgcolor\": \"white\", \"plot_bgcolor\": \"#E5ECF6\", \"polar\": {\"angularaxis\": {\"gridcolor\": \"white\", \"linecolor\": \"white\", \"ticks\": \"\"}, \"bgcolor\": \"#E5ECF6\", \"radialaxis\": {\"gridcolor\": \"white\", \"linecolor\": \"white\", \"ticks\": \"\"}}, \"scene\": {\"xaxis\": {\"backgroundcolor\": \"#E5ECF6\", \"gridcolor\": \"white\", \"gridwidth\": 2, \"linecolor\": \"white\", \"showbackground\": true, \"ticks\": \"\", \"zerolinecolor\": \"white\"}, \"yaxis\": {\"backgroundcolor\": \"#E5ECF6\", \"gridcolor\": \"white\", \"gridwidth\": 2, \"linecolor\": \"white\", \"showbackground\": true, \"ticks\": \"\", \"zerolinecolor\": \"white\"}, \"zaxis\": {\"backgroundcolor\": \"#E5ECF6\", \"gridcolor\": \"white\", \"gridwidth\": 2, \"linecolor\": \"white\", \"showbackground\": true, \"ticks\": \"\", \"zerolinecolor\": \"white\"}}, \"shapedefaults\": {\"line\": {\"color\": \"#2a3f5f\"}}, \"ternary\": {\"aaxis\": {\"gridcolor\": \"white\", \"linecolor\": \"white\", \"ticks\": \"\"}, \"baxis\": {\"gridcolor\": \"white\", \"linecolor\": \"white\", \"ticks\": \"\"}, \"bgcolor\": \"#E5ECF6\", \"caxis\": {\"gridcolor\": \"white\", \"linecolor\": \"white\", \"ticks\": \"\"}}, \"title\": {\"x\": 0.05}, \"xaxis\": {\"automargin\": true, \"gridcolor\": \"white\", \"linecolor\": \"white\", \"ticks\": \"\", \"title\": {\"standoff\": 15}, \"zerolinecolor\": \"white\", \"zerolinewidth\": 2}, \"yaxis\": {\"automargin\": true, \"gridcolor\": \"white\", \"linecolor\": \"white\", \"ticks\": \"\", \"title\": {\"standoff\": 15}, \"zerolinecolor\": \"white\", \"zerolinewidth\": 2}}}},\n",
              "                        {\"responsive\": true}\n",
              "                    ).then(function(){\n",
              "                            \n",
              "var gd = document.getElementById('0190f250-1dc3-4921-b5f6-d1ad5f29d293');\n",
              "var x = new MutationObserver(function (mutations, observer) {{\n",
              "        var display = window.getComputedStyle(gd).display;\n",
              "        if (!display || display === 'none') {{\n",
              "            console.log([gd, 'removed!']);\n",
              "            Plotly.purge(gd);\n",
              "            observer.disconnect();\n",
              "        }}\n",
              "}});\n",
              "\n",
              "// Listen for the removal of the full notebook cells\n",
              "var notebookContainer = gd.closest('#notebook-container');\n",
              "if (notebookContainer) {{\n",
              "    x.observe(notebookContainer, {childList: true});\n",
              "}}\n",
              "\n",
              "// Listen for the clearing of the current output cell\n",
              "var outputEl = gd.closest('.output');\n",
              "if (outputEl) {{\n",
              "    x.observe(outputEl, {childList: true});\n",
              "}}\n",
              "\n",
              "                        })\n",
              "                };\n",
              "                \n",
              "            </script>\n",
              "        </div>\n",
              "</body>\n",
              "</html>"
            ]
          },
          "metadata": {
            "tags": []
          }
        }
      ]
    },
    {
      "cell_type": "code",
      "metadata": {
        "id": "ZoFa1id-X71q",
        "colab_type": "code",
        "colab": {}
      },
      "source": [
        "# Fazendo o mesmo processo com outro algoritmo de Regressão (Support Vector Regression)\n",
        "from sklearn.svm import SVR"
      ],
      "execution_count": 52,
      "outputs": []
    },
    {
      "cell_type": "code",
      "metadata": {
        "id": "soVbI0B6YaUM",
        "colab_type": "code",
        "colab": {}
      },
      "source": [
        "model_svr = SVR()"
      ],
      "execution_count": 53,
      "outputs": []
    },
    {
      "cell_type": "code",
      "metadata": {
        "id": "ZS_JNio6YfqZ",
        "colab_type": "code",
        "colab": {
          "base_uri": "https://localhost:8080/",
          "height": 122
        },
        "outputId": "fba39199-92f3-4ac0-dac3-916d3bbf28d9"
      },
      "source": [
        "model_svr.fit(X_train, y_train)"
      ],
      "execution_count": 54,
      "outputs": [
        {
          "output_type": "stream",
          "text": [
            "/usr/local/lib/python3.6/dist-packages/sklearn/utils/validation.py:760: DataConversionWarning:\n",
            "\n",
            "A column-vector y was passed when a 1d array was expected. Please change the shape of y to (n_samples, ), for example using ravel().\n",
            "\n"
          ],
          "name": "stderr"
        },
        {
          "output_type": "execute_result",
          "data": {
            "text/plain": [
              "SVR(C=1.0, cache_size=200, coef0=0.0, degree=3, epsilon=0.1, gamma='scale',\n",
              "    kernel='rbf', max_iter=-1, shrinking=True, tol=0.001, verbose=False)"
            ]
          },
          "metadata": {
            "tags": []
          },
          "execution_count": 54
        }
      ]
    },
    {
      "cell_type": "code",
      "metadata": {
        "id": "axnEJjlRYvao",
        "colab_type": "code",
        "colab": {}
      },
      "source": [
        "y_predict_SVR = model_svr.predict(X_test)"
      ],
      "execution_count": 55,
      "outputs": []
    },
    {
      "cell_type": "code",
      "metadata": {
        "id": "jcIiwXsgZh7R",
        "colab_type": "code",
        "colab": {
          "base_uri": "https://localhost:8080/",
          "height": 52
        },
        "outputId": "8f9a8afb-b725-42b3-a7cb-103f2632b53d"
      },
      "source": [
        "score_svr = model_svr.score(X_test, y_test)\n",
        "RMSE_svr = sqrt(mean_squared_error(y_test, y_predict_SVR))\n",
        "print(f\"O score do modelo SVR é: {score_svr}\")\n",
        "print(f\"O RMSE do modelo SVR é: {RMSE_svr}\")"
      ],
      "execution_count": 56,
      "outputs": [
        {
          "output_type": "stream",
          "text": [
            "O score do modelo SVR é: 0.5761694553383812\n",
            "O RMSE do modelo SVR é: 0.6148046647557309\n"
          ],
          "name": "stdout"
        }
      ]
    },
    {
      "cell_type": "code",
      "metadata": {
        "id": "yqARyf52Y4Zg",
        "colab_type": "code",
        "colab": {}
      },
      "source": [
        "y_predict_SVR = scaler.inverse_transform(y_predict_SVR)"
      ],
      "execution_count": 57,
      "outputs": []
    },
    {
      "cell_type": "code",
      "metadata": {
        "id": "kEM7QGLjereP",
        "colab_type": "code",
        "colab": {
          "base_uri": "https://localhost:8080/",
          "height": 402
        },
        "outputId": "37a29141-ed67-460e-a43e-d6933b59695a"
      },
      "source": [
        "predicoes['Predict_SVR'] = [\"%.2f\" % y for y in y_predict_SVR]\n",
        "predicoes"
      ],
      "execution_count": 58,
      "outputs": [
        {
          "output_type": "execute_result",
          "data": {
            "text/html": [
              "<div>\n",
              "<style scoped>\n",
              "    .dataframe tbody tr th:only-of-type {\n",
              "        vertical-align: middle;\n",
              "    }\n",
              "\n",
              "    .dataframe tbody tr th {\n",
              "        vertical-align: top;\n",
              "    }\n",
              "\n",
              "    .dataframe thead th {\n",
              "        text-align: right;\n",
              "    }\n",
              "</style>\n",
              "<table border=\"1\" class=\"dataframe\">\n",
              "  <thead>\n",
              "    <tr style=\"text-align: right;\">\n",
              "      <th></th>\n",
              "      <th>Real</th>\n",
              "      <th>Predict_LR</th>\n",
              "      <th>Predict_SVR</th>\n",
              "    </tr>\n",
              "  </thead>\n",
              "  <tbody>\n",
              "    <tr>\n",
              "      <th>0</th>\n",
              "      <td>1400.0</td>\n",
              "      <td>1767.55</td>\n",
              "      <td>1820.92</td>\n",
              "    </tr>\n",
              "    <tr>\n",
              "      <th>1</th>\n",
              "      <td>1650.0</td>\n",
              "      <td>1822.77</td>\n",
              "      <td>1517.09</td>\n",
              "    </tr>\n",
              "    <tr>\n",
              "      <th>2</th>\n",
              "      <td>2800.0</td>\n",
              "      <td>3007.07</td>\n",
              "      <td>1949.24</td>\n",
              "    </tr>\n",
              "    <tr>\n",
              "      <th>3</th>\n",
              "      <td>1800.0</td>\n",
              "      <td>2104.49</td>\n",
              "      <td>1951.68</td>\n",
              "    </tr>\n",
              "    <tr>\n",
              "      <th>4</th>\n",
              "      <td>2700.0</td>\n",
              "      <td>1778.56</td>\n",
              "      <td>1684.92</td>\n",
              "    </tr>\n",
              "    <tr>\n",
              "      <th>...</th>\n",
              "      <td>...</td>\n",
              "      <td>...</td>\n",
              "      <td>...</td>\n",
              "    </tr>\n",
              "    <tr>\n",
              "      <th>292</th>\n",
              "      <td>1700.0</td>\n",
              "      <td>1399.68</td>\n",
              "      <td>1128.91</td>\n",
              "    </tr>\n",
              "    <tr>\n",
              "      <th>293</th>\n",
              "      <td>1500.0</td>\n",
              "      <td>1755.23</td>\n",
              "      <td>1658.82</td>\n",
              "    </tr>\n",
              "    <tr>\n",
              "      <th>294</th>\n",
              "      <td>2700.0</td>\n",
              "      <td>2917.92</td>\n",
              "      <td>3109.85</td>\n",
              "    </tr>\n",
              "    <tr>\n",
              "      <th>295</th>\n",
              "      <td>1500.0</td>\n",
              "      <td>1796.11</td>\n",
              "      <td>1977.73</td>\n",
              "    </tr>\n",
              "    <tr>\n",
              "      <th>296</th>\n",
              "      <td>2400.0</td>\n",
              "      <td>1718.84</td>\n",
              "      <td>1762.66</td>\n",
              "    </tr>\n",
              "  </tbody>\n",
              "</table>\n",
              "<p>297 rows × 3 columns</p>\n",
              "</div>"
            ],
            "text/plain": [
              "       Real Predict_LR Predict_SVR\n",
              "0    1400.0    1767.55     1820.92\n",
              "1    1650.0    1822.77     1517.09\n",
              "2    2800.0    3007.07     1949.24\n",
              "3    1800.0    2104.49     1951.68\n",
              "4    2700.0    1778.56     1684.92\n",
              "..      ...        ...         ...\n",
              "292  1700.0    1399.68     1128.91\n",
              "293  1500.0    1755.23     1658.82\n",
              "294  2700.0    2917.92     3109.85\n",
              "295  1500.0    1796.11     1977.73\n",
              "296  2400.0    1718.84     1762.66\n",
              "\n",
              "[297 rows x 3 columns]"
            ]
          },
          "metadata": {
            "tags": []
          },
          "execution_count": 58
        }
      ]
    },
    {
      "cell_type": "code",
      "metadata": {
        "id": "idIaD-25mwr_",
        "colab_type": "code",
        "colab": {
          "base_uri": "https://localhost:8080/",
          "height": 542
        },
        "outputId": "db990c1b-9f69-41b7-b4da-b2dceac807da"
      },
      "source": [
        "fig = go.Figure()\n",
        "fig.add_trace(go.Scatter(x=predicoes.index, y=predicoes['Real'], mode='lines+markers', name='Valor Real'))\n",
        "fig.add_trace(go.Scatter(x=predicoes.index, y=predicoes['Predict_SVR'], mode='lines+markers', name='Modelo SVR'))\n",
        "fig.show()"
      ],
      "execution_count": 59,
      "outputs": [
        {
          "output_type": "display_data",
          "data": {
            "text/html": [
              "<html>\n",
              "<head><meta charset=\"utf-8\" /></head>\n",
              "<body>\n",
              "    <div>\n",
              "            <script src=\"https://cdnjs.cloudflare.com/ajax/libs/mathjax/2.7.5/MathJax.js?config=TeX-AMS-MML_SVG\"></script><script type=\"text/javascript\">if (window.MathJax) {MathJax.Hub.Config({SVG: {font: \"STIX-Web\"}});}</script>\n",
              "                <script type=\"text/javascript\">window.PlotlyConfig = {MathJaxConfig: 'local'};</script>\n",
              "        <script src=\"https://cdn.plot.ly/plotly-latest.min.js\"></script>    \n",
              "            <div id=\"e5e6fa33-a952-4ff5-90a0-6db4ac4bd60a\" class=\"plotly-graph-div\" style=\"height:525px; width:100%;\"></div>\n",
              "            <script type=\"text/javascript\">\n",
              "                \n",
              "                    window.PLOTLYENV=window.PLOTLYENV || {};\n",
              "                    \n",
              "                if (document.getElementById(\"e5e6fa33-a952-4ff5-90a0-6db4ac4bd60a\")) {\n",
              "                    Plotly.newPlot(\n",
              "                        'e5e6fa33-a952-4ff5-90a0-6db4ac4bd60a',\n",
              "                        [{\"mode\": \"lines+markers\", \"name\": \"Valor Real\", \"type\": \"scatter\", \"x\": [0, 1, 2, 3, 4, 5, 6, 7, 8, 9, 10, 11, 12, 13, 14, 15, 16, 17, 18, 19, 20, 21, 22, 23, 24, 25, 26, 27, 28, 29, 30, 31, 32, 33, 34, 35, 36, 37, 38, 39, 40, 41, 42, 43, 44, 45, 46, 47, 48, 49, 50, 51, 52, 53, 54, 55, 56, 57, 58, 59, 60, 61, 62, 63, 64, 65, 66, 67, 68, 69, 70, 71, 72, 73, 74, 75, 76, 77, 78, 79, 80, 81, 82, 83, 84, 85, 86, 87, 88, 89, 90, 91, 92, 93, 94, 95, 96, 97, 98, 99, 100, 101, 102, 103, 104, 105, 106, 107, 108, 109, 110, 111, 112, 113, 114, 115, 116, 117, 118, 119, 120, 121, 122, 123, 124, 125, 126, 127, 128, 129, 130, 131, 132, 133, 134, 135, 136, 137, 138, 139, 140, 141, 142, 143, 144, 145, 146, 147, 148, 149, 150, 151, 152, 153, 154, 155, 156, 157, 158, 159, 160, 161, 162, 163, 164, 165, 166, 167, 168, 169, 170, 171, 172, 173, 174, 175, 176, 177, 178, 179, 180, 181, 182, 183, 184, 185, 186, 187, 188, 189, 190, 191, 192, 193, 194, 195, 196, 197, 198, 199, 200, 201, 202, 203, 204, 205, 206, 207, 208, 209, 210, 211, 212, 213, 214, 215, 216, 217, 218, 219, 220, 221, 222, 223, 224, 225, 226, 227, 228, 229, 230, 231, 232, 233, 234, 235, 236, 237, 238, 239, 240, 241, 242, 243, 244, 245, 246, 247, 248, 249, 250, 251, 252, 253, 254, 255, 256, 257, 258, 259, 260, 261, 262, 263, 264, 265, 266, 267, 268, 269, 270, 271, 272, 273, 274, 275, 276, 277, 278, 279, 280, 281, 282, 283, 284, 285, 286, 287, 288, 289, 290, 291, 292, 293, 294, 295, 296], \"y\": [1400.0, 1650.0, 2800.0, 1800.0, 2700.0, 3500.0, 900.0, 600.0, 1800.0, 2000.0, 1800.0, 2100.0, 1500.0, 2500.0, 1600.0, 900.0, 3000.0, 2500.0, 1350.0, 1350.0, 1650.0, 450.0, 550.0, 2900.0, 1150.0, 2550.0, 1007.0, 1215.0, 1450.0, 1650.0, 1300.0, 1100.0, 1600.0, 1300.0, 909.9999999999999, 1400.0, 2300.0, 1200.0, 3000.0, 2000.0, 330.0, 2300.0, 480.0, 2200.0, 1800.0, 800.0000000000001, 2000.0, 1200.0, 2400.0, 3500.0, 1200.0, 2300.0, 2871.0, 2500.0, 2230.0, 2200.0, 2500.0, 1500.0, 1400.0, 1800.0, 1400.0, 1500.0, 2400.0, 2000.0, 1800.0, 1700.0, 1300.0, 1400.0, 1500.0, 1450.0, 2500.0, 1300.0, 2000.0, 919.9999999999999, 1200.0, 2500.0, 1750.0, 2300.0, 1200.0, 1400.0, 1399.0, 1200.0, 1200.0, 2000.0, 1700.0, 1600.0, 890.0, 1800.0, 2700.0, 1300.0, 3000.0, 2200.0, 3000.0, 2800.0, 821.0, 1500.0, 2000.0, 3000.0, 2180.0, 1400.0, 1200.0, 1400.0, 1700.0, 3000.0, 1700.0, 1800.0, 2250.0, 2000.0, 900.0, 2800.0, 1500.0, 2400.0, 850.0, 1600.0, 1000.0, 1375.0, 600.0, 1400.0, 2000.0, 1200.0, 1500.0, 2000.0, 1550.0, 2250.0, 1700.0, 1300.0, 1500.0, 1200.0, 1250.0, 1100.0, 1000.0, 1050.0, 2200.0, 1500.0, 550.0, 2500.0, 2200.0, 1005.0, 1755.0, 1800.0, 2000.0, 1300.0, 1400.0, 1550.0, 1400.0, 950.0, 1400.0, 1800.0, 1300.0, 1200.0, 2500.0, 2700.0, 1700.0, 1553.0, 950.0, 600.0, 2800.0, 1500.0, 900.0, 1600.0, 2500.0, 330.0, 650.0, 1600.0, 1000.0, 1000.0, 1300.0, 800.0000000000001, 1600.0, 1006.0, 2900.0, 2900.0, 700.0, 2200.0, 650.0, 2600.0, 1000.0, 1000.0, 2300.0, 1320.0, 2200.0, 2600.0, 1750.0, 3200.0, 1300.0, 3000.0, 2500.0, 3300.0, 750.0, 950.0, 1700.0, 2000.0, 2300.0, 1450.0, 1050.0, 2050.0, 1400.0, 750.0, 1300.0, 1300.0, 1600.0, 1700.0, 1300.0, 1400.0, 1400.0, 1900.0, 2200.0, 1700.0, 1600.0, 2500.0, 1100.0, 2000.0, 2500.0, 2300.0, 2000.0, 1000.0, 2700.0, 3100.0, 1900.0, 2300.0, 1400.0, 950.0, 1400.0, 2500.0, 1300.0, 1300.0, 2600.0, 2700.0, 2200.0, 1400.0, 2200.0, 3500.0, 1007.0, 750.0, 1000.0, 1800.0, 1000.0, 1900.0, 2200.0, 1005.0, 1800.0, 1800.0, 2800.0, 1600.0, 2750.0, 1000.0, 1100.0, 1700.0, 2200.0, 2000.0, 1950.0, 1250.0, 3000.0, 1800.0, 1500.0, 1500.0, 1005.0, 480.0, 2600.0, 1500.0, 650.0, 1300.0, 3700.0, 1500.0, 2300.0, 1300.0, 2500.0, 3000.0, 2800.0, 1800.0, 2500.0, 800.0000000000001, 1300.0, 1900.0, 1800.0, 2500.0, 850.0, 1800.0, 850.0, 2200.0, 1100.0, 2500.0, 1500.0, 2900.0, 1250.0, 1100.0, 550.0, 870.0, 2200.0, 480.0, 2500.0, 1200.0, 1700.0, 1500.0, 2700.0, 1500.0, 2400.0]}, {\"mode\": \"lines+markers\", \"name\": \"Modelo SVR\", \"type\": \"scatter\", \"x\": [0, 1, 2, 3, 4, 5, 6, 7, 8, 9, 10, 11, 12, 13, 14, 15, 16, 17, 18, 19, 20, 21, 22, 23, 24, 25, 26, 27, 28, 29, 30, 31, 32, 33, 34, 35, 36, 37, 38, 39, 40, 41, 42, 43, 44, 45, 46, 47, 48, 49, 50, 51, 52, 53, 54, 55, 56, 57, 58, 59, 60, 61, 62, 63, 64, 65, 66, 67, 68, 69, 70, 71, 72, 73, 74, 75, 76, 77, 78, 79, 80, 81, 82, 83, 84, 85, 86, 87, 88, 89, 90, 91, 92, 93, 94, 95, 96, 97, 98, 99, 100, 101, 102, 103, 104, 105, 106, 107, 108, 109, 110, 111, 112, 113, 114, 115, 116, 117, 118, 119, 120, 121, 122, 123, 124, 125, 126, 127, 128, 129, 130, 131, 132, 133, 134, 135, 136, 137, 138, 139, 140, 141, 142, 143, 144, 145, 146, 147, 148, 149, 150, 151, 152, 153, 154, 155, 156, 157, 158, 159, 160, 161, 162, 163, 164, 165, 166, 167, 168, 169, 170, 171, 172, 173, 174, 175, 176, 177, 178, 179, 180, 181, 182, 183, 184, 185, 186, 187, 188, 189, 190, 191, 192, 193, 194, 195, 196, 197, 198, 199, 200, 201, 202, 203, 204, 205, 206, 207, 208, 209, 210, 211, 212, 213, 214, 215, 216, 217, 218, 219, 220, 221, 222, 223, 224, 225, 226, 227, 228, 229, 230, 231, 232, 233, 234, 235, 236, 237, 238, 239, 240, 241, 242, 243, 244, 245, 246, 247, 248, 249, 250, 251, 252, 253, 254, 255, 256, 257, 258, 259, 260, 261, 262, 263, 264, 265, 266, 267, 268, 269, 270, 271, 272, 273, 274, 275, 276, 277, 278, 279, 280, 281, 282, 283, 284, 285, 286, 287, 288, 289, 290, 291, 292, 293, 294, 295, 296], \"y\": [\"1820.92\", \"1517.09\", \"1949.24\", \"1951.68\", \"1684.92\", \"1858.01\", \"1405.56\", \"997.35\", \"1515.52\", \"1220.34\", \"2333.20\", \"1693.11\", \"1457.38\", \"2453.43\", \"1662.33\", \"1179.89\", \"2887.48\", \"2675.30\", \"1287.52\", \"1677.00\", \"1927.76\", \"403.48\", \"623.42\", \"2492.47\", \"606.57\", \"2527.13\", \"1030.39\", \"1452.98\", \"1524.89\", \"1467.72\", \"1542.00\", \"1408.95\", \"1710.21\", \"1314.53\", \"1137.99\", \"1699.00\", \"1336.24\", \"1092.56\", \"2469.64\", \"1732.14\", \"1084.29\", \"1858.41\", \"491.66\", \"1673.57\", \"1985.66\", \"603.34\", \"1876.29\", \"1724.10\", \"2387.01\", \"3237.89\", \"1318.39\", \"2393.56\", \"1458.98\", \"2565.21\", \"2421.88\", \"2451.11\", \"1613.45\", \"1118.90\", \"1718.56\", \"1461.99\", \"1521.37\", \"1180.14\", \"1728.14\", \"1903.30\", \"1082.70\", \"1732.14\", \"1214.32\", \"1684.12\", \"1472.94\", \"929.04\", \"1561.49\", \"1429.65\", \"2201.61\", \"1284.87\", \"1425.62\", \"2469.64\", \"1457.38\", \"2606.43\", \"1096.10\", \"1374.45\", \"1539.68\", \"1693.11\", \"1325.37\", \"1888.01\", \"1772.01\", \"1212.14\", \"911.35\", \"2056.33\", \"2677.57\", \"1579.70\", \"932.83\", \"1693.11\", \"1865.80\", \"2681.61\", \"1331.27\", \"1655.54\", \"1553.47\", \"2601.06\", \"2670.94\", \"1084.23\", \"1516.01\", \"1457.38\", \"1693.11\", \"2217.94\", \"1693.11\", \"2083.34\", \"1775.39\", \"1693.11\", \"849.22\", \"2366.76\", \"1695.23\", \"1662.04\", \"1760.78\", \"1536.26\", \"2176.80\", \"1030.78\", \"1027.01\", \"929.04\", \"1472.99\", \"1472.95\", \"1199.27\", \"1717.14\", \"1595.15\", \"1706.41\", \"1462.91\", \"1461.39\", \"1549.39\", \"1399.35\", \"1172.10\", \"1305.87\", \"1172.10\", \"1176.72\", \"1590.82\", \"1439.75\", \"623.42\", \"2426.50\", \"1728.14\", \"1030.39\", \"1424.72\", \"2333.20\", \"2271.65\", \"1675.37\", \"1567.96\", \"1463.15\", \"1468.02\", \"1662.76\", \"1419.67\", \"1684.92\", \"1481.06\", \"1134.57\", \"2885.24\", \"2866.52\", \"1759.48\", \"1002.93\", \"1051.35\", \"1002.35\", \"2492.47\", \"1488.54\", \"1149.55\", \"1577.53\", \"2348.26\", \"1025.46\", \"1316.76\", \"1445.21\", \"1184.98\", \"1916.52\", \"1775.39\", \"1631.86\", \"1148.34\", \"1030.39\", \"2391.31\", \"2435.66\", \"1128.00\", \"2334.92\", \"537.03\", \"1168.76\", \"1538.59\", \"1531.12\", \"1732.14\", \"1720.73\", \"2083.34\", \"3109.85\", \"1886.19\", \"2183.99\", \"2015.71\", \"2181.12\", \"2450.59\", \"3223.35\", \"1071.42\", \"1276.82\", \"1913.54\", \"1684.92\", \"1577.48\", \"1457.38\", \"983.66\", \"1656.10\", \"1648.40\", \"681.02\", \"1649.44\", \"1888.11\", \"1710.21\", \"1699.00\", \"1549.64\", \"1630.42\", \"1029.97\", \"1109.37\", \"2414.82\", \"1761.25\", \"1462.91\", \"2133.46\", \"1693.11\", \"1674.46\", \"1693.11\", \"2501.18\", \"1728.14\", \"1169.73\", \"1775.39\", \"2511.39\", \"2121.19\", \"2477.95\", \"1472.99\", \"1116.59\", \"1426.71\", \"2632.45\", \"1481.06\", \"1663.97\", \"2325.98\", \"1684.92\", \"1722.46\", \"1495.14\", \"1865.80\", \"3088.03\", \"1030.39\", \"1385.71\", \"1102.59\", \"1502.83\", \"1077.40\", \"1439.75\", \"1637.28\", \"1030.39\", \"1550.32\", \"1684.92\", \"2681.61\", \"1462.91\", \"2644.26\", \"1501.88\", \"1406.20\", \"1693.11\", \"1579.50\", \"1719.08\", \"1357.32\", \"1036.90\", \"1693.11\", \"1553.76\", \"1434.08\", \"1839.50\", \"1030.39\", \"553.28\", \"1693.11\", \"1684.92\", \"583.18\", \"1630.73\", \"2935.13\", \"1422.00\", \"1684.92\", \"1425.62\", \"1693.11\", \"2790.53\", \"1848.64\", \"1823.58\", \"2477.95\", \"1472.94\", \"1646.49\", \"1436.72\", \"1566.01\", \"2067.28\", \"765.36\", \"1495.56\", \"1598.46\", \"1693.11\", \"1096.95\", \"1677.00\", \"1446.95\", \"2739.42\", \"1623.73\", \"1116.59\", \"921.16\", \"1083.49\", \"2310.60\", \"553.28\", \"2061.40\", \"1444.20\", \"1128.91\", \"1658.82\", \"3109.85\", \"1977.73\", \"1762.66\"]}],\n",
              "                        {\"template\": {\"data\": {\"bar\": [{\"error_x\": {\"color\": \"#2a3f5f\"}, \"error_y\": {\"color\": \"#2a3f5f\"}, \"marker\": {\"line\": {\"color\": \"#E5ECF6\", \"width\": 0.5}}, \"type\": \"bar\"}], \"barpolar\": [{\"marker\": {\"line\": {\"color\": \"#E5ECF6\", \"width\": 0.5}}, \"type\": \"barpolar\"}], \"carpet\": [{\"aaxis\": {\"endlinecolor\": \"#2a3f5f\", \"gridcolor\": \"white\", \"linecolor\": \"white\", \"minorgridcolor\": \"white\", \"startlinecolor\": \"#2a3f5f\"}, \"baxis\": {\"endlinecolor\": \"#2a3f5f\", \"gridcolor\": \"white\", \"linecolor\": \"white\", \"minorgridcolor\": \"white\", \"startlinecolor\": \"#2a3f5f\"}, \"type\": \"carpet\"}], \"choropleth\": [{\"colorbar\": {\"outlinewidth\": 0, \"ticks\": \"\"}, \"type\": \"choropleth\"}], \"contour\": [{\"colorbar\": {\"outlinewidth\": 0, \"ticks\": \"\"}, \"colorscale\": [[0.0, \"#0d0887\"], [0.1111111111111111, \"#46039f\"], [0.2222222222222222, \"#7201a8\"], [0.3333333333333333, \"#9c179e\"], [0.4444444444444444, \"#bd3786\"], [0.5555555555555556, \"#d8576b\"], [0.6666666666666666, \"#ed7953\"], [0.7777777777777778, \"#fb9f3a\"], [0.8888888888888888, \"#fdca26\"], [1.0, \"#f0f921\"]], \"type\": \"contour\"}], \"contourcarpet\": [{\"colorbar\": {\"outlinewidth\": 0, \"ticks\": \"\"}, \"type\": \"contourcarpet\"}], \"heatmap\": [{\"colorbar\": {\"outlinewidth\": 0, \"ticks\": \"\"}, \"colorscale\": [[0.0, \"#0d0887\"], [0.1111111111111111, \"#46039f\"], [0.2222222222222222, \"#7201a8\"], [0.3333333333333333, \"#9c179e\"], [0.4444444444444444, \"#bd3786\"], [0.5555555555555556, \"#d8576b\"], [0.6666666666666666, \"#ed7953\"], [0.7777777777777778, \"#fb9f3a\"], [0.8888888888888888, \"#fdca26\"], [1.0, \"#f0f921\"]], \"type\": \"heatmap\"}], \"heatmapgl\": [{\"colorbar\": {\"outlinewidth\": 0, \"ticks\": \"\"}, \"colorscale\": [[0.0, \"#0d0887\"], [0.1111111111111111, \"#46039f\"], [0.2222222222222222, \"#7201a8\"], [0.3333333333333333, \"#9c179e\"], [0.4444444444444444, \"#bd3786\"], [0.5555555555555556, \"#d8576b\"], [0.6666666666666666, \"#ed7953\"], [0.7777777777777778, \"#fb9f3a\"], [0.8888888888888888, \"#fdca26\"], [1.0, \"#f0f921\"]], \"type\": \"heatmapgl\"}], \"histogram\": [{\"marker\": {\"colorbar\": {\"outlinewidth\": 0, \"ticks\": \"\"}}, \"type\": \"histogram\"}], \"histogram2d\": [{\"colorbar\": {\"outlinewidth\": 0, \"ticks\": \"\"}, \"colorscale\": [[0.0, \"#0d0887\"], [0.1111111111111111, \"#46039f\"], [0.2222222222222222, \"#7201a8\"], [0.3333333333333333, \"#9c179e\"], [0.4444444444444444, \"#bd3786\"], [0.5555555555555556, \"#d8576b\"], [0.6666666666666666, \"#ed7953\"], [0.7777777777777778, \"#fb9f3a\"], [0.8888888888888888, \"#fdca26\"], [1.0, \"#f0f921\"]], \"type\": \"histogram2d\"}], \"histogram2dcontour\": [{\"colorbar\": {\"outlinewidth\": 0, \"ticks\": \"\"}, \"colorscale\": [[0.0, \"#0d0887\"], [0.1111111111111111, \"#46039f\"], [0.2222222222222222, \"#7201a8\"], [0.3333333333333333, \"#9c179e\"], [0.4444444444444444, \"#bd3786\"], [0.5555555555555556, \"#d8576b\"], [0.6666666666666666, \"#ed7953\"], [0.7777777777777778, \"#fb9f3a\"], [0.8888888888888888, \"#fdca26\"], [1.0, \"#f0f921\"]], \"type\": \"histogram2dcontour\"}], \"mesh3d\": [{\"colorbar\": {\"outlinewidth\": 0, \"ticks\": \"\"}, \"type\": \"mesh3d\"}], \"parcoords\": [{\"line\": {\"colorbar\": {\"outlinewidth\": 0, \"ticks\": \"\"}}, \"type\": \"parcoords\"}], \"pie\": [{\"automargin\": true, \"type\": \"pie\"}], \"scatter\": [{\"marker\": {\"colorbar\": {\"outlinewidth\": 0, \"ticks\": \"\"}}, \"type\": \"scatter\"}], \"scatter3d\": [{\"line\": {\"colorbar\": {\"outlinewidth\": 0, \"ticks\": \"\"}}, \"marker\": {\"colorbar\": {\"outlinewidth\": 0, \"ticks\": \"\"}}, \"type\": \"scatter3d\"}], \"scattercarpet\": [{\"marker\": {\"colorbar\": {\"outlinewidth\": 0, \"ticks\": \"\"}}, \"type\": \"scattercarpet\"}], \"scattergeo\": [{\"marker\": {\"colorbar\": {\"outlinewidth\": 0, \"ticks\": \"\"}}, \"type\": \"scattergeo\"}], \"scattergl\": [{\"marker\": {\"colorbar\": {\"outlinewidth\": 0, \"ticks\": \"\"}}, \"type\": \"scattergl\"}], \"scattermapbox\": [{\"marker\": {\"colorbar\": {\"outlinewidth\": 0, \"ticks\": \"\"}}, \"type\": \"scattermapbox\"}], \"scatterpolar\": [{\"marker\": {\"colorbar\": {\"outlinewidth\": 0, \"ticks\": \"\"}}, \"type\": \"scatterpolar\"}], \"scatterpolargl\": [{\"marker\": {\"colorbar\": {\"outlinewidth\": 0, \"ticks\": \"\"}}, \"type\": \"scatterpolargl\"}], \"scatterternary\": [{\"marker\": {\"colorbar\": {\"outlinewidth\": 0, \"ticks\": \"\"}}, \"type\": \"scatterternary\"}], \"surface\": [{\"colorbar\": {\"outlinewidth\": 0, \"ticks\": \"\"}, \"colorscale\": [[0.0, \"#0d0887\"], [0.1111111111111111, \"#46039f\"], [0.2222222222222222, \"#7201a8\"], [0.3333333333333333, \"#9c179e\"], [0.4444444444444444, \"#bd3786\"], [0.5555555555555556, \"#d8576b\"], [0.6666666666666666, \"#ed7953\"], [0.7777777777777778, \"#fb9f3a\"], [0.8888888888888888, \"#fdca26\"], [1.0, \"#f0f921\"]], \"type\": \"surface\"}], \"table\": [{\"cells\": {\"fill\": {\"color\": \"#EBF0F8\"}, \"line\": {\"color\": \"white\"}}, \"header\": {\"fill\": {\"color\": \"#C8D4E3\"}, \"line\": {\"color\": \"white\"}}, \"type\": \"table\"}]}, \"layout\": {\"annotationdefaults\": {\"arrowcolor\": \"#2a3f5f\", \"arrowhead\": 0, \"arrowwidth\": 1}, \"coloraxis\": {\"colorbar\": {\"outlinewidth\": 0, \"ticks\": \"\"}}, \"colorscale\": {\"diverging\": [[0, \"#8e0152\"], [0.1, \"#c51b7d\"], [0.2, \"#de77ae\"], [0.3, \"#f1b6da\"], [0.4, \"#fde0ef\"], [0.5, \"#f7f7f7\"], [0.6, \"#e6f5d0\"], [0.7, \"#b8e186\"], [0.8, \"#7fbc41\"], [0.9, \"#4d9221\"], [1, \"#276419\"]], \"sequential\": [[0.0, \"#0d0887\"], [0.1111111111111111, \"#46039f\"], [0.2222222222222222, \"#7201a8\"], [0.3333333333333333, \"#9c179e\"], [0.4444444444444444, \"#bd3786\"], [0.5555555555555556, \"#d8576b\"], [0.6666666666666666, \"#ed7953\"], [0.7777777777777778, \"#fb9f3a\"], [0.8888888888888888, \"#fdca26\"], [1.0, \"#f0f921\"]], \"sequentialminus\": [[0.0, \"#0d0887\"], [0.1111111111111111, \"#46039f\"], [0.2222222222222222, \"#7201a8\"], [0.3333333333333333, \"#9c179e\"], [0.4444444444444444, \"#bd3786\"], [0.5555555555555556, \"#d8576b\"], [0.6666666666666666, \"#ed7953\"], [0.7777777777777778, \"#fb9f3a\"], [0.8888888888888888, \"#fdca26\"], [1.0, \"#f0f921\"]]}, \"colorway\": [\"#636efa\", \"#EF553B\", \"#00cc96\", \"#ab63fa\", \"#FFA15A\", \"#19d3f3\", \"#FF6692\", \"#B6E880\", \"#FF97FF\", \"#FECB52\"], \"font\": {\"color\": \"#2a3f5f\"}, \"geo\": {\"bgcolor\": \"white\", \"lakecolor\": \"white\", \"landcolor\": \"#E5ECF6\", \"showlakes\": true, \"showland\": true, \"subunitcolor\": \"white\"}, \"hoverlabel\": {\"align\": \"left\"}, \"hovermode\": \"closest\", \"mapbox\": {\"style\": \"light\"}, \"paper_bgcolor\": \"white\", \"plot_bgcolor\": \"#E5ECF6\", \"polar\": {\"angularaxis\": {\"gridcolor\": \"white\", \"linecolor\": \"white\", \"ticks\": \"\"}, \"bgcolor\": \"#E5ECF6\", \"radialaxis\": {\"gridcolor\": \"white\", \"linecolor\": \"white\", \"ticks\": \"\"}}, \"scene\": {\"xaxis\": {\"backgroundcolor\": \"#E5ECF6\", \"gridcolor\": \"white\", \"gridwidth\": 2, \"linecolor\": \"white\", \"showbackground\": true, \"ticks\": \"\", \"zerolinecolor\": \"white\"}, \"yaxis\": {\"backgroundcolor\": \"#E5ECF6\", \"gridcolor\": \"white\", \"gridwidth\": 2, \"linecolor\": \"white\", \"showbackground\": true, \"ticks\": \"\", \"zerolinecolor\": \"white\"}, \"zaxis\": {\"backgroundcolor\": \"#E5ECF6\", \"gridcolor\": \"white\", \"gridwidth\": 2, \"linecolor\": \"white\", \"showbackground\": true, \"ticks\": \"\", \"zerolinecolor\": \"white\"}}, \"shapedefaults\": {\"line\": {\"color\": \"#2a3f5f\"}}, \"ternary\": {\"aaxis\": {\"gridcolor\": \"white\", \"linecolor\": \"white\", \"ticks\": \"\"}, \"baxis\": {\"gridcolor\": \"white\", \"linecolor\": \"white\", \"ticks\": \"\"}, \"bgcolor\": \"#E5ECF6\", \"caxis\": {\"gridcolor\": \"white\", \"linecolor\": \"white\", \"ticks\": \"\"}}, \"title\": {\"x\": 0.05}, \"xaxis\": {\"automargin\": true, \"gridcolor\": \"white\", \"linecolor\": \"white\", \"ticks\": \"\", \"title\": {\"standoff\": 15}, \"zerolinecolor\": \"white\", \"zerolinewidth\": 2}, \"yaxis\": {\"automargin\": true, \"gridcolor\": \"white\", \"linecolor\": \"white\", \"ticks\": \"\", \"title\": {\"standoff\": 15}, \"zerolinecolor\": \"white\", \"zerolinewidth\": 2}}}},\n",
              "                        {\"responsive\": true}\n",
              "                    ).then(function(){\n",
              "                            \n",
              "var gd = document.getElementById('e5e6fa33-a952-4ff5-90a0-6db4ac4bd60a');\n",
              "var x = new MutationObserver(function (mutations, observer) {{\n",
              "        var display = window.getComputedStyle(gd).display;\n",
              "        if (!display || display === 'none') {{\n",
              "            console.log([gd, 'removed!']);\n",
              "            Plotly.purge(gd);\n",
              "            observer.disconnect();\n",
              "        }}\n",
              "}});\n",
              "\n",
              "// Listen for the removal of the full notebook cells\n",
              "var notebookContainer = gd.closest('#notebook-container');\n",
              "if (notebookContainer) {{\n",
              "    x.observe(notebookContainer, {childList: true});\n",
              "}}\n",
              "\n",
              "// Listen for the clearing of the current output cell\n",
              "var outputEl = gd.closest('.output');\n",
              "if (outputEl) {{\n",
              "    x.observe(outputEl, {childList: true});\n",
              "}}\n",
              "\n",
              "                        })\n",
              "                };\n",
              "                \n",
              "            </script>\n",
              "        </div>\n",
              "</body>\n",
              "</html>"
            ]
          },
          "metadata": {
            "tags": []
          }
        }
      ]
    },
    {
      "cell_type": "code",
      "metadata": {
        "id": "H321zaAVZavQ",
        "colab_type": "code",
        "colab": {}
      },
      "source": [
        "# Realizando o mesmo processo com o algorítimo de Árvore de Decisão para Regressão\n",
        "from sklearn.tree import DecisionTreeRegressor"
      ],
      "execution_count": 60,
      "outputs": []
    },
    {
      "cell_type": "code",
      "metadata": {
        "id": "C-9gsm4ghZ9q",
        "colab_type": "code",
        "colab": {}
      },
      "source": [
        "model_tree = DecisionTreeRegressor()"
      ],
      "execution_count": 61,
      "outputs": []
    },
    {
      "cell_type": "code",
      "metadata": {
        "id": "4R7-li_0hc_o",
        "colab_type": "code",
        "colab": {
          "base_uri": "https://localhost:8080/",
          "height": 122
        },
        "outputId": "69e3430b-96d1-44f2-e41f-b205b239e4de"
      },
      "source": [
        "model_tree.fit(X_train, y_train)"
      ],
      "execution_count": 62,
      "outputs": [
        {
          "output_type": "execute_result",
          "data": {
            "text/plain": [
              "DecisionTreeRegressor(ccp_alpha=0.0, criterion='mse', max_depth=None,\n",
              "                      max_features=None, max_leaf_nodes=None,\n",
              "                      min_impurity_decrease=0.0, min_impurity_split=None,\n",
              "                      min_samples_leaf=1, min_samples_split=2,\n",
              "                      min_weight_fraction_leaf=0.0, presort='deprecated',\n",
              "                      random_state=None, splitter='best')"
            ]
          },
          "metadata": {
            "tags": []
          },
          "execution_count": 62
        }
      ]
    },
    {
      "cell_type": "code",
      "metadata": {
        "id": "nXAUqx6MgYxP",
        "colab_type": "code",
        "colab": {}
      },
      "source": [
        "y_predict_DT = model_tree.predict(X_test)"
      ],
      "execution_count": 63,
      "outputs": []
    },
    {
      "cell_type": "code",
      "metadata": {
        "id": "CLU41nP4hlv_",
        "colab_type": "code",
        "colab": {
          "base_uri": "https://localhost:8080/",
          "height": 52
        },
        "outputId": "74367825-77a9-402d-c8d1-b343a713c8c5"
      },
      "source": [
        "score_DT = model_tree.score(X_test, y_test)\n",
        "RMSE_DT = sqrt(mean_squared_error(y_test, y_predict_DT))\n",
        "print(f\"O score do modelo DT é: {score_DT}\")\n",
        "print(f\"O RMSE do modelo DT é: {RMSE_DT}\")"
      ],
      "execution_count": 64,
      "outputs": [
        {
          "output_type": "stream",
          "text": [
            "O score do modelo DT é: 0.3663275714217382\n",
            "O RMSE do modelo DT é: 0.7517499942207319\n"
          ],
          "name": "stdout"
        }
      ]
    },
    {
      "cell_type": "code",
      "metadata": {
        "id": "TEPDf09Eg1fC",
        "colab_type": "code",
        "colab": {}
      },
      "source": [
        "y_predict_DT = scaler.inverse_transform(y_predict_DT)"
      ],
      "execution_count": 65,
      "outputs": []
    },
    {
      "cell_type": "code",
      "metadata": {
        "id": "O-rjdF4Mh8ZY",
        "colab_type": "code",
        "colab": {
          "base_uri": "https://localhost:8080/",
          "height": 402
        },
        "outputId": "370b4f18-5984-45c5-c852-02f849acd2cc"
      },
      "source": [
        "predicoes['Predict_DT'] = ['%.2f' % y for y in y_predict_DT] \n",
        "predicoes"
      ],
      "execution_count": 66,
      "outputs": [
        {
          "output_type": "execute_result",
          "data": {
            "text/html": [
              "<div>\n",
              "<style scoped>\n",
              "    .dataframe tbody tr th:only-of-type {\n",
              "        vertical-align: middle;\n",
              "    }\n",
              "\n",
              "    .dataframe tbody tr th {\n",
              "        vertical-align: top;\n",
              "    }\n",
              "\n",
              "    .dataframe thead th {\n",
              "        text-align: right;\n",
              "    }\n",
              "</style>\n",
              "<table border=\"1\" class=\"dataframe\">\n",
              "  <thead>\n",
              "    <tr style=\"text-align: right;\">\n",
              "      <th></th>\n",
              "      <th>Real</th>\n",
              "      <th>Predict_LR</th>\n",
              "      <th>Predict_SVR</th>\n",
              "      <th>Predict_DT</th>\n",
              "    </tr>\n",
              "  </thead>\n",
              "  <tbody>\n",
              "    <tr>\n",
              "      <th>0</th>\n",
              "      <td>1400.0</td>\n",
              "      <td>1767.55</td>\n",
              "      <td>1820.92</td>\n",
              "      <td>2700.00</td>\n",
              "    </tr>\n",
              "    <tr>\n",
              "      <th>1</th>\n",
              "      <td>1650.0</td>\n",
              "      <td>1822.77</td>\n",
              "      <td>1517.09</td>\n",
              "      <td>1600.00</td>\n",
              "    </tr>\n",
              "    <tr>\n",
              "      <th>2</th>\n",
              "      <td>2800.0</td>\n",
              "      <td>3007.07</td>\n",
              "      <td>1949.24</td>\n",
              "      <td>2500.00</td>\n",
              "    </tr>\n",
              "    <tr>\n",
              "      <th>3</th>\n",
              "      <td>1800.0</td>\n",
              "      <td>2104.49</td>\n",
              "      <td>1951.68</td>\n",
              "      <td>1800.00</td>\n",
              "    </tr>\n",
              "    <tr>\n",
              "      <th>4</th>\n",
              "      <td>2700.0</td>\n",
              "      <td>1778.56</td>\n",
              "      <td>1684.92</td>\n",
              "      <td>1918.33</td>\n",
              "    </tr>\n",
              "    <tr>\n",
              "      <th>...</th>\n",
              "      <td>...</td>\n",
              "      <td>...</td>\n",
              "      <td>...</td>\n",
              "      <td>...</td>\n",
              "    </tr>\n",
              "    <tr>\n",
              "      <th>292</th>\n",
              "      <td>1700.0</td>\n",
              "      <td>1399.68</td>\n",
              "      <td>1128.91</td>\n",
              "      <td>1300.00</td>\n",
              "    </tr>\n",
              "    <tr>\n",
              "      <th>293</th>\n",
              "      <td>1500.0</td>\n",
              "      <td>1755.23</td>\n",
              "      <td>1658.82</td>\n",
              "      <td>1483.33</td>\n",
              "    </tr>\n",
              "    <tr>\n",
              "      <th>294</th>\n",
              "      <td>2700.0</td>\n",
              "      <td>2917.92</td>\n",
              "      <td>3109.85</td>\n",
              "      <td>2650.00</td>\n",
              "    </tr>\n",
              "    <tr>\n",
              "      <th>295</th>\n",
              "      <td>1500.0</td>\n",
              "      <td>1796.11</td>\n",
              "      <td>1977.73</td>\n",
              "      <td>1960.00</td>\n",
              "    </tr>\n",
              "    <tr>\n",
              "      <th>296</th>\n",
              "      <td>2400.0</td>\n",
              "      <td>1718.84</td>\n",
              "      <td>1762.66</td>\n",
              "      <td>2150.00</td>\n",
              "    </tr>\n",
              "  </tbody>\n",
              "</table>\n",
              "<p>297 rows × 4 columns</p>\n",
              "</div>"
            ],
            "text/plain": [
              "       Real Predict_LR Predict_SVR Predict_DT\n",
              "0    1400.0    1767.55     1820.92    2700.00\n",
              "1    1650.0    1822.77     1517.09    1600.00\n",
              "2    2800.0    3007.07     1949.24    2500.00\n",
              "3    1800.0    2104.49     1951.68    1800.00\n",
              "4    2700.0    1778.56     1684.92    1918.33\n",
              "..      ...        ...         ...        ...\n",
              "292  1700.0    1399.68     1128.91    1300.00\n",
              "293  1500.0    1755.23     1658.82    1483.33\n",
              "294  2700.0    2917.92     3109.85    2650.00\n",
              "295  1500.0    1796.11     1977.73    1960.00\n",
              "296  2400.0    1718.84     1762.66    2150.00\n",
              "\n",
              "[297 rows x 4 columns]"
            ]
          },
          "metadata": {
            "tags": []
          },
          "execution_count": 66
        }
      ]
    },
    {
      "cell_type": "code",
      "metadata": {
        "id": "zvIqf5L2nHHB",
        "colab_type": "code",
        "colab": {
          "base_uri": "https://localhost:8080/",
          "height": 542
        },
        "outputId": "a7774d33-ab38-439d-8832-05339b81f08a"
      },
      "source": [
        "fig = go.Figure()\n",
        "fig.add_trace(go.Scatter(x=predicoes.index, y=predicoes['Real'], mode='lines+markers', name='Valor Real'))\n",
        "fig.add_trace(go.Scatter(x=predicoes.index, y=predicoes['Predict_DT'], mode='lines+markers', name='Modelo Decision Tree'))\n",
        "fig.show()"
      ],
      "execution_count": 67,
      "outputs": [
        {
          "output_type": "display_data",
          "data": {
            "text/html": [
              "<html>\n",
              "<head><meta charset=\"utf-8\" /></head>\n",
              "<body>\n",
              "    <div>\n",
              "            <script src=\"https://cdnjs.cloudflare.com/ajax/libs/mathjax/2.7.5/MathJax.js?config=TeX-AMS-MML_SVG\"></script><script type=\"text/javascript\">if (window.MathJax) {MathJax.Hub.Config({SVG: {font: \"STIX-Web\"}});}</script>\n",
              "                <script type=\"text/javascript\">window.PlotlyConfig = {MathJaxConfig: 'local'};</script>\n",
              "        <script src=\"https://cdn.plot.ly/plotly-latest.min.js\"></script>    \n",
              "            <div id=\"b519935a-4ebd-4cdc-afb9-1c1353eb31e7\" class=\"plotly-graph-div\" style=\"height:525px; width:100%;\"></div>\n",
              "            <script type=\"text/javascript\">\n",
              "                \n",
              "                    window.PLOTLYENV=window.PLOTLYENV || {};\n",
              "                    \n",
              "                if (document.getElementById(\"b519935a-4ebd-4cdc-afb9-1c1353eb31e7\")) {\n",
              "                    Plotly.newPlot(\n",
              "                        'b519935a-4ebd-4cdc-afb9-1c1353eb31e7',\n",
              "                        [{\"mode\": \"lines+markers\", \"name\": \"Valor Real\", \"type\": \"scatter\", \"x\": [0, 1, 2, 3, 4, 5, 6, 7, 8, 9, 10, 11, 12, 13, 14, 15, 16, 17, 18, 19, 20, 21, 22, 23, 24, 25, 26, 27, 28, 29, 30, 31, 32, 33, 34, 35, 36, 37, 38, 39, 40, 41, 42, 43, 44, 45, 46, 47, 48, 49, 50, 51, 52, 53, 54, 55, 56, 57, 58, 59, 60, 61, 62, 63, 64, 65, 66, 67, 68, 69, 70, 71, 72, 73, 74, 75, 76, 77, 78, 79, 80, 81, 82, 83, 84, 85, 86, 87, 88, 89, 90, 91, 92, 93, 94, 95, 96, 97, 98, 99, 100, 101, 102, 103, 104, 105, 106, 107, 108, 109, 110, 111, 112, 113, 114, 115, 116, 117, 118, 119, 120, 121, 122, 123, 124, 125, 126, 127, 128, 129, 130, 131, 132, 133, 134, 135, 136, 137, 138, 139, 140, 141, 142, 143, 144, 145, 146, 147, 148, 149, 150, 151, 152, 153, 154, 155, 156, 157, 158, 159, 160, 161, 162, 163, 164, 165, 166, 167, 168, 169, 170, 171, 172, 173, 174, 175, 176, 177, 178, 179, 180, 181, 182, 183, 184, 185, 186, 187, 188, 189, 190, 191, 192, 193, 194, 195, 196, 197, 198, 199, 200, 201, 202, 203, 204, 205, 206, 207, 208, 209, 210, 211, 212, 213, 214, 215, 216, 217, 218, 219, 220, 221, 222, 223, 224, 225, 226, 227, 228, 229, 230, 231, 232, 233, 234, 235, 236, 237, 238, 239, 240, 241, 242, 243, 244, 245, 246, 247, 248, 249, 250, 251, 252, 253, 254, 255, 256, 257, 258, 259, 260, 261, 262, 263, 264, 265, 266, 267, 268, 269, 270, 271, 272, 273, 274, 275, 276, 277, 278, 279, 280, 281, 282, 283, 284, 285, 286, 287, 288, 289, 290, 291, 292, 293, 294, 295, 296], \"y\": [1400.0, 1650.0, 2800.0, 1800.0, 2700.0, 3500.0, 900.0, 600.0, 1800.0, 2000.0, 1800.0, 2100.0, 1500.0, 2500.0, 1600.0, 900.0, 3000.0, 2500.0, 1350.0, 1350.0, 1650.0, 450.0, 550.0, 2900.0, 1150.0, 2550.0, 1007.0, 1215.0, 1450.0, 1650.0, 1300.0, 1100.0, 1600.0, 1300.0, 909.9999999999999, 1400.0, 2300.0, 1200.0, 3000.0, 2000.0, 330.0, 2300.0, 480.0, 2200.0, 1800.0, 800.0000000000001, 2000.0, 1200.0, 2400.0, 3500.0, 1200.0, 2300.0, 2871.0, 2500.0, 2230.0, 2200.0, 2500.0, 1500.0, 1400.0, 1800.0, 1400.0, 1500.0, 2400.0, 2000.0, 1800.0, 1700.0, 1300.0, 1400.0, 1500.0, 1450.0, 2500.0, 1300.0, 2000.0, 919.9999999999999, 1200.0, 2500.0, 1750.0, 2300.0, 1200.0, 1400.0, 1399.0, 1200.0, 1200.0, 2000.0, 1700.0, 1600.0, 890.0, 1800.0, 2700.0, 1300.0, 3000.0, 2200.0, 3000.0, 2800.0, 821.0, 1500.0, 2000.0, 3000.0, 2180.0, 1400.0, 1200.0, 1400.0, 1700.0, 3000.0, 1700.0, 1800.0, 2250.0, 2000.0, 900.0, 2800.0, 1500.0, 2400.0, 850.0, 1600.0, 1000.0, 1375.0, 600.0, 1400.0, 2000.0, 1200.0, 1500.0, 2000.0, 1550.0, 2250.0, 1700.0, 1300.0, 1500.0, 1200.0, 1250.0, 1100.0, 1000.0, 1050.0, 2200.0, 1500.0, 550.0, 2500.0, 2200.0, 1005.0, 1755.0, 1800.0, 2000.0, 1300.0, 1400.0, 1550.0, 1400.0, 950.0, 1400.0, 1800.0, 1300.0, 1200.0, 2500.0, 2700.0, 1700.0, 1553.0, 950.0, 600.0, 2800.0, 1500.0, 900.0, 1600.0, 2500.0, 330.0, 650.0, 1600.0, 1000.0, 1000.0, 1300.0, 800.0000000000001, 1600.0, 1006.0, 2900.0, 2900.0, 700.0, 2200.0, 650.0, 2600.0, 1000.0, 1000.0, 2300.0, 1320.0, 2200.0, 2600.0, 1750.0, 3200.0, 1300.0, 3000.0, 2500.0, 3300.0, 750.0, 950.0, 1700.0, 2000.0, 2300.0, 1450.0, 1050.0, 2050.0, 1400.0, 750.0, 1300.0, 1300.0, 1600.0, 1700.0, 1300.0, 1400.0, 1400.0, 1900.0, 2200.0, 1700.0, 1600.0, 2500.0, 1100.0, 2000.0, 2500.0, 2300.0, 2000.0, 1000.0, 2700.0, 3100.0, 1900.0, 2300.0, 1400.0, 950.0, 1400.0, 2500.0, 1300.0, 1300.0, 2600.0, 2700.0, 2200.0, 1400.0, 2200.0, 3500.0, 1007.0, 750.0, 1000.0, 1800.0, 1000.0, 1900.0, 2200.0, 1005.0, 1800.0, 1800.0, 2800.0, 1600.0, 2750.0, 1000.0, 1100.0, 1700.0, 2200.0, 2000.0, 1950.0, 1250.0, 3000.0, 1800.0, 1500.0, 1500.0, 1005.0, 480.0, 2600.0, 1500.0, 650.0, 1300.0, 3700.0, 1500.0, 2300.0, 1300.0, 2500.0, 3000.0, 2800.0, 1800.0, 2500.0, 800.0000000000001, 1300.0, 1900.0, 1800.0, 2500.0, 850.0, 1800.0, 850.0, 2200.0, 1100.0, 2500.0, 1500.0, 2900.0, 1250.0, 1100.0, 550.0, 870.0, 2200.0, 480.0, 2500.0, 1200.0, 1700.0, 1500.0, 2700.0, 1500.0, 2400.0]}, {\"mode\": \"lines+markers\", \"name\": \"Modelo Decision Tree\", \"type\": \"scatter\", \"x\": [0, 1, 2, 3, 4, 5, 6, 7, 8, 9, 10, 11, 12, 13, 14, 15, 16, 17, 18, 19, 20, 21, 22, 23, 24, 25, 26, 27, 28, 29, 30, 31, 32, 33, 34, 35, 36, 37, 38, 39, 40, 41, 42, 43, 44, 45, 46, 47, 48, 49, 50, 51, 52, 53, 54, 55, 56, 57, 58, 59, 60, 61, 62, 63, 64, 65, 66, 67, 68, 69, 70, 71, 72, 73, 74, 75, 76, 77, 78, 79, 80, 81, 82, 83, 84, 85, 86, 87, 88, 89, 90, 91, 92, 93, 94, 95, 96, 97, 98, 99, 100, 101, 102, 103, 104, 105, 106, 107, 108, 109, 110, 111, 112, 113, 114, 115, 116, 117, 118, 119, 120, 121, 122, 123, 124, 125, 126, 127, 128, 129, 130, 131, 132, 133, 134, 135, 136, 137, 138, 139, 140, 141, 142, 143, 144, 145, 146, 147, 148, 149, 150, 151, 152, 153, 154, 155, 156, 157, 158, 159, 160, 161, 162, 163, 164, 165, 166, 167, 168, 169, 170, 171, 172, 173, 174, 175, 176, 177, 178, 179, 180, 181, 182, 183, 184, 185, 186, 187, 188, 189, 190, 191, 192, 193, 194, 195, 196, 197, 198, 199, 200, 201, 202, 203, 204, 205, 206, 207, 208, 209, 210, 211, 212, 213, 214, 215, 216, 217, 218, 219, 220, 221, 222, 223, 224, 225, 226, 227, 228, 229, 230, 231, 232, 233, 234, 235, 236, 237, 238, 239, 240, 241, 242, 243, 244, 245, 246, 247, 248, 249, 250, 251, 252, 253, 254, 255, 256, 257, 258, 259, 260, 261, 262, 263, 264, 265, 266, 267, 268, 269, 270, 271, 272, 273, 274, 275, 276, 277, 278, 279, 280, 281, 282, 283, 284, 285, 286, 287, 288, 289, 290, 291, 292, 293, 294, 295, 296], \"y\": [\"2700.00\", \"1600.00\", \"2500.00\", \"1800.00\", \"1918.33\", \"1400.00\", \"1100.00\", \"330.00\", \"1300.00\", \"2300.00\", \"1600.00\", \"1892.31\", \"1640.00\", \"2100.00\", \"1200.00\", \"750.00\", \"2600.00\", \"3500.00\", \"1350.00\", \"2185.71\", \"1400.00\", \"800.00\", \"550.00\", \"2800.00\", \"650.00\", \"2900.00\", \"1063.12\", \"1215.00\", \"1100.00\", \"1675.00\", \"2300.00\", \"1500.00\", \"1833.33\", \"2600.00\", \"650.00\", \"1533.33\", \"1000.00\", \"1000.00\", \"2600.00\", \"2123.75\", \"330.00\", \"2150.00\", \"480.00\", \"1400.00\", \"1800.00\", \"650.00\", \"1550.00\", \"1700.00\", \"2600.00\", \"3500.00\", \"2000.00\", \"1900.00\", \"2500.00\", \"2200.00\", \"2600.00\", \"2000.00\", \"479.00\", \"1200.00\", \"1750.00\", \"1550.00\", \"1350.00\", \"1000.00\", \"1868.75\", \"1150.00\", \"1200.00\", \"2123.75\", \"1505.00\", \"1350.00\", \"1880.00\", \"2300.00\", \"2000.00\", \"1076.67\", \"2500.00\", \"1700.00\", \"1076.67\", \"2600.00\", \"1640.00\", \"2600.00\", \"2500.00\", \"1600.00\", \"1000.00\", \"1892.31\", \"2500.00\", \"3000.00\", \"3200.00\", \"1900.00\", \"600.00\", \"1750.00\", \"2800.00\", \"2000.00\", \"800.00\", \"1892.31\", \"2133.33\", \"2700.00\", \"1500.00\", \"1647.50\", \"720.00\", \"3000.00\", \"2400.00\", \"1650.00\", \"1300.00\", \"1640.00\", \"1892.31\", \"2500.00\", \"1892.31\", \"1750.00\", \"2100.00\", \"1892.31\", \"750.00\", \"2750.00\", \"2300.00\", \"2130.00\", \"2500.00\", \"1600.00\", \"1200.00\", \"1000.00\", \"1100.00\", \"2300.00\", \"1712.00\", \"1300.00\", \"750.00\", \"2100.00\", \"1550.00\", \"2000.00\", \"1625.00\", \"1650.00\", \"1255.00\", \"1000.00\", \"650.00\", \"1100.00\", \"650.00\", \"650.00\", \"1800.00\", \"1900.00\", \"550.00\", \"2500.00\", \"1868.75\", \"1063.12\", \"1255.00\", \"1600.00\", \"2150.00\", \"1220.00\", \"1500.00\", \"1300.00\", \"1900.00\", \"3000.00\", \"1450.00\", \"1918.33\", \"1416.67\", \"1250.00\", \"2900.00\", \"2750.00\", \"1700.00\", \"770.00\", \"1100.00\", \"900.00\", \"2800.00\", \"1460.00\", \"1000.00\", \"1443.75\", \"1600.00\", \"330.00\", \"2500.00\", \"1500.00\", \"1000.00\", \"2500.00\", \"2100.00\", \"550.00\", \"1560.00\", \"1063.12\", \"2270.00\", \"2900.00\", \"800.00\", \"2120.00\", \"650.00\", \"2600.00\", \"2500.00\", \"1500.00\", \"2123.75\", \"1000.00\", \"1750.00\", \"2650.00\", \"1750.00\", \"2300.00\", \"2000.00\", \"2500.00\", \"2500.00\", \"3400.00\", \"1000.00\", \"1350.00\", \"3200.00\", \"1918.33\", \"1710.00\", \"1640.00\", \"2150.00\", \"1200.00\", \"1250.00\", \"770.00\", \"2500.00\", \"1800.00\", \"1833.33\", \"1533.33\", \"1025.00\", \"1800.00\", \"1400.00\", \"1350.00\", \"2100.00\", \"1400.00\", \"1625.00\", \"2150.00\", \"1892.31\", \"1566.67\", \"1892.31\", \"2500.00\", \"1868.75\", \"950.00\", \"2100.00\", \"2520.00\", \"1900.00\", \"2500.00\", \"1712.00\", \"1275.00\", \"1500.00\", \"2850.00\", \"1416.67\", \"2000.00\", \"3250.00\", \"1918.33\", \"2171.43\", \"1416.67\", \"2133.33\", \"3500.00\", \"1063.12\", \"1400.00\", \"1330.00\", \"1300.00\", \"1000.00\", \"1900.00\", \"1900.00\", \"1063.12\", \"2000.00\", \"1918.33\", \"2700.00\", \"1625.00\", \"2825.00\", \"1700.00\", \"1600.00\", \"1892.31\", \"1025.00\", \"2200.00\", \"1076.67\", \"900.00\", \"1892.31\", \"1400.00\", \"1400.00\", \"1400.00\", \"1063.12\", \"480.00\", \"1892.31\", \"1918.33\", \"400.00\", \"1300.00\", \"3300.00\", \"1275.00\", \"1918.33\", \"1076.67\", \"1892.31\", \"2540.00\", \"2540.00\", \"1750.00\", \"2500.00\", \"1880.00\", \"1000.00\", \"1766.67\", \"2500.00\", \"2000.00\", \"700.00\", \"2000.00\", \"1700.00\", \"1892.31\", \"1100.00\", \"2185.71\", \"1712.00\", \"2520.00\", \"1250.00\", \"1275.00\", \"750.00\", \"1000.00\", \"1600.00\", \"480.00\", \"1500.00\", \"1500.00\", \"1300.00\", \"1483.33\", \"2650.00\", \"1960.00\", \"2150.00\"]}],\n",
              "                        {\"template\": {\"data\": {\"bar\": [{\"error_x\": {\"color\": \"#2a3f5f\"}, \"error_y\": {\"color\": \"#2a3f5f\"}, \"marker\": {\"line\": {\"color\": \"#E5ECF6\", \"width\": 0.5}}, \"type\": \"bar\"}], \"barpolar\": [{\"marker\": {\"line\": {\"color\": \"#E5ECF6\", \"width\": 0.5}}, \"type\": \"barpolar\"}], \"carpet\": [{\"aaxis\": {\"endlinecolor\": \"#2a3f5f\", \"gridcolor\": \"white\", \"linecolor\": \"white\", \"minorgridcolor\": \"white\", \"startlinecolor\": \"#2a3f5f\"}, \"baxis\": {\"endlinecolor\": \"#2a3f5f\", \"gridcolor\": \"white\", \"linecolor\": \"white\", \"minorgridcolor\": \"white\", \"startlinecolor\": \"#2a3f5f\"}, \"type\": \"carpet\"}], \"choropleth\": [{\"colorbar\": {\"outlinewidth\": 0, \"ticks\": \"\"}, \"type\": \"choropleth\"}], \"contour\": [{\"colorbar\": {\"outlinewidth\": 0, \"ticks\": \"\"}, \"colorscale\": [[0.0, \"#0d0887\"], [0.1111111111111111, \"#46039f\"], [0.2222222222222222, \"#7201a8\"], [0.3333333333333333, \"#9c179e\"], [0.4444444444444444, \"#bd3786\"], [0.5555555555555556, \"#d8576b\"], [0.6666666666666666, \"#ed7953\"], [0.7777777777777778, \"#fb9f3a\"], [0.8888888888888888, \"#fdca26\"], [1.0, \"#f0f921\"]], \"type\": \"contour\"}], \"contourcarpet\": [{\"colorbar\": {\"outlinewidth\": 0, \"ticks\": \"\"}, \"type\": \"contourcarpet\"}], \"heatmap\": [{\"colorbar\": {\"outlinewidth\": 0, \"ticks\": \"\"}, \"colorscale\": [[0.0, \"#0d0887\"], [0.1111111111111111, \"#46039f\"], [0.2222222222222222, \"#7201a8\"], [0.3333333333333333, \"#9c179e\"], [0.4444444444444444, \"#bd3786\"], [0.5555555555555556, \"#d8576b\"], [0.6666666666666666, \"#ed7953\"], [0.7777777777777778, \"#fb9f3a\"], [0.8888888888888888, \"#fdca26\"], [1.0, \"#f0f921\"]], \"type\": \"heatmap\"}], \"heatmapgl\": [{\"colorbar\": {\"outlinewidth\": 0, \"ticks\": \"\"}, \"colorscale\": [[0.0, \"#0d0887\"], [0.1111111111111111, \"#46039f\"], [0.2222222222222222, \"#7201a8\"], [0.3333333333333333, \"#9c179e\"], [0.4444444444444444, \"#bd3786\"], [0.5555555555555556, \"#d8576b\"], [0.6666666666666666, \"#ed7953\"], [0.7777777777777778, \"#fb9f3a\"], [0.8888888888888888, \"#fdca26\"], [1.0, \"#f0f921\"]], \"type\": \"heatmapgl\"}], \"histogram\": [{\"marker\": {\"colorbar\": {\"outlinewidth\": 0, \"ticks\": \"\"}}, \"type\": \"histogram\"}], \"histogram2d\": [{\"colorbar\": {\"outlinewidth\": 0, \"ticks\": \"\"}, \"colorscale\": [[0.0, \"#0d0887\"], [0.1111111111111111, \"#46039f\"], [0.2222222222222222, \"#7201a8\"], [0.3333333333333333, \"#9c179e\"], [0.4444444444444444, \"#bd3786\"], [0.5555555555555556, \"#d8576b\"], [0.6666666666666666, \"#ed7953\"], [0.7777777777777778, \"#fb9f3a\"], [0.8888888888888888, \"#fdca26\"], [1.0, \"#f0f921\"]], \"type\": \"histogram2d\"}], \"histogram2dcontour\": [{\"colorbar\": {\"outlinewidth\": 0, \"ticks\": \"\"}, \"colorscale\": [[0.0, \"#0d0887\"], [0.1111111111111111, \"#46039f\"], [0.2222222222222222, \"#7201a8\"], [0.3333333333333333, \"#9c179e\"], [0.4444444444444444, \"#bd3786\"], [0.5555555555555556, \"#d8576b\"], [0.6666666666666666, \"#ed7953\"], [0.7777777777777778, \"#fb9f3a\"], [0.8888888888888888, \"#fdca26\"], [1.0, \"#f0f921\"]], \"type\": \"histogram2dcontour\"}], \"mesh3d\": [{\"colorbar\": {\"outlinewidth\": 0, \"ticks\": \"\"}, \"type\": \"mesh3d\"}], \"parcoords\": [{\"line\": {\"colorbar\": {\"outlinewidth\": 0, \"ticks\": \"\"}}, \"type\": \"parcoords\"}], \"pie\": [{\"automargin\": true, \"type\": \"pie\"}], \"scatter\": [{\"marker\": {\"colorbar\": {\"outlinewidth\": 0, \"ticks\": \"\"}}, \"type\": \"scatter\"}], \"scatter3d\": [{\"line\": {\"colorbar\": {\"outlinewidth\": 0, \"ticks\": \"\"}}, \"marker\": {\"colorbar\": {\"outlinewidth\": 0, \"ticks\": \"\"}}, \"type\": \"scatter3d\"}], \"scattercarpet\": [{\"marker\": {\"colorbar\": {\"outlinewidth\": 0, \"ticks\": \"\"}}, \"type\": \"scattercarpet\"}], \"scattergeo\": [{\"marker\": {\"colorbar\": {\"outlinewidth\": 0, \"ticks\": \"\"}}, \"type\": \"scattergeo\"}], \"scattergl\": [{\"marker\": {\"colorbar\": {\"outlinewidth\": 0, \"ticks\": \"\"}}, \"type\": \"scattergl\"}], \"scattermapbox\": [{\"marker\": {\"colorbar\": {\"outlinewidth\": 0, \"ticks\": \"\"}}, \"type\": \"scattermapbox\"}], \"scatterpolar\": [{\"marker\": {\"colorbar\": {\"outlinewidth\": 0, \"ticks\": \"\"}}, \"type\": \"scatterpolar\"}], \"scatterpolargl\": [{\"marker\": {\"colorbar\": {\"outlinewidth\": 0, \"ticks\": \"\"}}, \"type\": \"scatterpolargl\"}], \"scatterternary\": [{\"marker\": {\"colorbar\": {\"outlinewidth\": 0, \"ticks\": \"\"}}, \"type\": \"scatterternary\"}], \"surface\": [{\"colorbar\": {\"outlinewidth\": 0, \"ticks\": \"\"}, \"colorscale\": [[0.0, \"#0d0887\"], [0.1111111111111111, \"#46039f\"], [0.2222222222222222, \"#7201a8\"], [0.3333333333333333, \"#9c179e\"], [0.4444444444444444, \"#bd3786\"], [0.5555555555555556, \"#d8576b\"], [0.6666666666666666, \"#ed7953\"], [0.7777777777777778, \"#fb9f3a\"], [0.8888888888888888, \"#fdca26\"], [1.0, \"#f0f921\"]], \"type\": \"surface\"}], \"table\": [{\"cells\": {\"fill\": {\"color\": \"#EBF0F8\"}, \"line\": {\"color\": \"white\"}}, \"header\": {\"fill\": {\"color\": \"#C8D4E3\"}, \"line\": {\"color\": \"white\"}}, \"type\": \"table\"}]}, \"layout\": {\"annotationdefaults\": {\"arrowcolor\": \"#2a3f5f\", \"arrowhead\": 0, \"arrowwidth\": 1}, \"coloraxis\": {\"colorbar\": {\"outlinewidth\": 0, \"ticks\": \"\"}}, \"colorscale\": {\"diverging\": [[0, \"#8e0152\"], [0.1, \"#c51b7d\"], [0.2, \"#de77ae\"], [0.3, \"#f1b6da\"], [0.4, \"#fde0ef\"], [0.5, \"#f7f7f7\"], [0.6, \"#e6f5d0\"], [0.7, \"#b8e186\"], [0.8, \"#7fbc41\"], [0.9, \"#4d9221\"], [1, \"#276419\"]], \"sequential\": [[0.0, \"#0d0887\"], [0.1111111111111111, \"#46039f\"], [0.2222222222222222, \"#7201a8\"], [0.3333333333333333, \"#9c179e\"], [0.4444444444444444, \"#bd3786\"], [0.5555555555555556, \"#d8576b\"], [0.6666666666666666, \"#ed7953\"], [0.7777777777777778, \"#fb9f3a\"], [0.8888888888888888, \"#fdca26\"], [1.0, \"#f0f921\"]], \"sequentialminus\": [[0.0, \"#0d0887\"], [0.1111111111111111, \"#46039f\"], [0.2222222222222222, \"#7201a8\"], [0.3333333333333333, \"#9c179e\"], [0.4444444444444444, \"#bd3786\"], [0.5555555555555556, \"#d8576b\"], [0.6666666666666666, \"#ed7953\"], [0.7777777777777778, \"#fb9f3a\"], [0.8888888888888888, \"#fdca26\"], [1.0, \"#f0f921\"]]}, \"colorway\": [\"#636efa\", \"#EF553B\", \"#00cc96\", \"#ab63fa\", \"#FFA15A\", \"#19d3f3\", \"#FF6692\", \"#B6E880\", \"#FF97FF\", \"#FECB52\"], \"font\": {\"color\": \"#2a3f5f\"}, \"geo\": {\"bgcolor\": \"white\", \"lakecolor\": \"white\", \"landcolor\": \"#E5ECF6\", \"showlakes\": true, \"showland\": true, \"subunitcolor\": \"white\"}, \"hoverlabel\": {\"align\": \"left\"}, \"hovermode\": \"closest\", \"mapbox\": {\"style\": \"light\"}, \"paper_bgcolor\": \"white\", \"plot_bgcolor\": \"#E5ECF6\", \"polar\": {\"angularaxis\": {\"gridcolor\": \"white\", \"linecolor\": \"white\", \"ticks\": \"\"}, \"bgcolor\": \"#E5ECF6\", \"radialaxis\": {\"gridcolor\": \"white\", \"linecolor\": \"white\", \"ticks\": \"\"}}, \"scene\": {\"xaxis\": {\"backgroundcolor\": \"#E5ECF6\", \"gridcolor\": \"white\", \"gridwidth\": 2, \"linecolor\": \"white\", \"showbackground\": true, \"ticks\": \"\", \"zerolinecolor\": \"white\"}, \"yaxis\": {\"backgroundcolor\": \"#E5ECF6\", \"gridcolor\": \"white\", \"gridwidth\": 2, \"linecolor\": \"white\", \"showbackground\": true, \"ticks\": \"\", \"zerolinecolor\": \"white\"}, \"zaxis\": {\"backgroundcolor\": \"#E5ECF6\", \"gridcolor\": \"white\", \"gridwidth\": 2, \"linecolor\": \"white\", \"showbackground\": true, \"ticks\": \"\", \"zerolinecolor\": \"white\"}}, \"shapedefaults\": {\"line\": {\"color\": \"#2a3f5f\"}}, \"ternary\": {\"aaxis\": {\"gridcolor\": \"white\", \"linecolor\": \"white\", \"ticks\": \"\"}, \"baxis\": {\"gridcolor\": \"white\", \"linecolor\": \"white\", \"ticks\": \"\"}, \"bgcolor\": \"#E5ECF6\", \"caxis\": {\"gridcolor\": \"white\", \"linecolor\": \"white\", \"ticks\": \"\"}}, \"title\": {\"x\": 0.05}, \"xaxis\": {\"automargin\": true, \"gridcolor\": \"white\", \"linecolor\": \"white\", \"ticks\": \"\", \"title\": {\"standoff\": 15}, \"zerolinecolor\": \"white\", \"zerolinewidth\": 2}, \"yaxis\": {\"automargin\": true, \"gridcolor\": \"white\", \"linecolor\": \"white\", \"ticks\": \"\", \"title\": {\"standoff\": 15}, \"zerolinecolor\": \"white\", \"zerolinewidth\": 2}}}},\n",
              "                        {\"responsive\": true}\n",
              "                    ).then(function(){\n",
              "                            \n",
              "var gd = document.getElementById('b519935a-4ebd-4cdc-afb9-1c1353eb31e7');\n",
              "var x = new MutationObserver(function (mutations, observer) {{\n",
              "        var display = window.getComputedStyle(gd).display;\n",
              "        if (!display || display === 'none') {{\n",
              "            console.log([gd, 'removed!']);\n",
              "            Plotly.purge(gd);\n",
              "            observer.disconnect();\n",
              "        }}\n",
              "}});\n",
              "\n",
              "// Listen for the removal of the full notebook cells\n",
              "var notebookContainer = gd.closest('#notebook-container');\n",
              "if (notebookContainer) {{\n",
              "    x.observe(notebookContainer, {childList: true});\n",
              "}}\n",
              "\n",
              "// Listen for the clearing of the current output cell\n",
              "var outputEl = gd.closest('.output');\n",
              "if (outputEl) {{\n",
              "    x.observe(outputEl, {childList: true});\n",
              "}}\n",
              "\n",
              "                        })\n",
              "                };\n",
              "                \n",
              "            </script>\n",
              "        </div>\n",
              "</body>\n",
              "</html>"
            ]
          },
          "metadata": {
            "tags": []
          }
        }
      ]
    },
    {
      "cell_type": "code",
      "metadata": {
        "id": "9710dDrBhKS0",
        "colab_type": "code",
        "colab": {}
      },
      "source": [
        "# Realizando o mesmo processo com o algorítmo de Floresta Randomica para Regressão\n",
        "from sklearn.ensemble import RandomForestRegressor"
      ],
      "execution_count": 68,
      "outputs": []
    },
    {
      "cell_type": "code",
      "metadata": {
        "id": "yy0ggrKChfwl",
        "colab_type": "code",
        "colab": {}
      },
      "source": [
        "model_RF = RandomForestRegressor(max_features=3, max_depth=10, random_state=10)"
      ],
      "execution_count": 69,
      "outputs": []
    },
    {
      "cell_type": "code",
      "metadata": {
        "id": "_AVzVXGLhkZK",
        "colab_type": "code",
        "colab": {
          "base_uri": "https://localhost:8080/",
          "height": 210
        },
        "outputId": "133e31b6-25c9-45ad-9088-1da50b4fa4b7"
      },
      "source": [
        "model_RF.fit(X_train, y_train)"
      ],
      "execution_count": 70,
      "outputs": [
        {
          "output_type": "stream",
          "text": [
            "/usr/local/lib/python3.6/dist-packages/ipykernel_launcher.py:1: DataConversionWarning:\n",
            "\n",
            "A column-vector y was passed when a 1d array was expected. Please change the shape of y to (n_samples,), for example using ravel().\n",
            "\n"
          ],
          "name": "stderr"
        },
        {
          "output_type": "execute_result",
          "data": {
            "text/plain": [
              "RandomForestRegressor(bootstrap=True, ccp_alpha=0.0, criterion='mse',\n",
              "                      max_depth=10, max_features=3, max_leaf_nodes=None,\n",
              "                      max_samples=None, min_impurity_decrease=0.0,\n",
              "                      min_impurity_split=None, min_samples_leaf=1,\n",
              "                      min_samples_split=2, min_weight_fraction_leaf=0.0,\n",
              "                      n_estimators=100, n_jobs=None, oob_score=False,\n",
              "                      random_state=10, verbose=0, warm_start=False)"
            ]
          },
          "metadata": {
            "tags": []
          },
          "execution_count": 70
        }
      ]
    },
    {
      "cell_type": "code",
      "metadata": {
        "id": "l5OjfBC1h271",
        "colab_type": "code",
        "colab": {}
      },
      "source": [
        "y_predict_RF = model_RF.predict(X_test)"
      ],
      "execution_count": 71,
      "outputs": []
    },
    {
      "cell_type": "code",
      "metadata": {
        "id": "A2OIM5HahrEr",
        "colab_type": "code",
        "colab": {
          "base_uri": "https://localhost:8080/",
          "height": 52
        },
        "outputId": "cf40faf5-e0b9-4c84-8fd3-64dad59866d2"
      },
      "source": [
        "score_RF = model_RF.score(X_test, y_test)\n",
        "RMSE_RF = sqrt(mean_squared_error(y_test, y_predict_RF))\n",
        "print(f\"O score do modelo RF é: {score_RF}\")\n",
        "print(f\"O RMSE do modelo RF é: {RMSE_RF}\")"
      ],
      "execution_count": 72,
      "outputs": [
        {
          "output_type": "stream",
          "text": [
            "O score do modelo RF é: 0.6320889677659751\n",
            "O RMSE do modelo RF é: 0.572812429616228\n"
          ],
          "name": "stdout"
        }
      ]
    },
    {
      "cell_type": "code",
      "metadata": {
        "id": "Dz0mEzRriJCB",
        "colab_type": "code",
        "colab": {}
      },
      "source": [
        "y_predict_RF = scaler.inverse_transform(y_predict_RF)"
      ],
      "execution_count": 73,
      "outputs": []
    },
    {
      "cell_type": "code",
      "metadata": {
        "id": "ysteIaOBiP6c",
        "colab_type": "code",
        "colab": {
          "base_uri": "https://localhost:8080/",
          "height": 402
        },
        "outputId": "68228026-544a-4889-8cb8-a814ed2ef9f0"
      },
      "source": [
        "predicoes['Predict_RF'] = [\"%.2f\" % y for y in y_predict_RF]\n",
        "predicoes"
      ],
      "execution_count": 74,
      "outputs": [
        {
          "output_type": "execute_result",
          "data": {
            "text/html": [
              "<div>\n",
              "<style scoped>\n",
              "    .dataframe tbody tr th:only-of-type {\n",
              "        vertical-align: middle;\n",
              "    }\n",
              "\n",
              "    .dataframe tbody tr th {\n",
              "        vertical-align: top;\n",
              "    }\n",
              "\n",
              "    .dataframe thead th {\n",
              "        text-align: right;\n",
              "    }\n",
              "</style>\n",
              "<table border=\"1\" class=\"dataframe\">\n",
              "  <thead>\n",
              "    <tr style=\"text-align: right;\">\n",
              "      <th></th>\n",
              "      <th>Real</th>\n",
              "      <th>Predict_LR</th>\n",
              "      <th>Predict_SVR</th>\n",
              "      <th>Predict_DT</th>\n",
              "      <th>Predict_RF</th>\n",
              "    </tr>\n",
              "  </thead>\n",
              "  <tbody>\n",
              "    <tr>\n",
              "      <th>0</th>\n",
              "      <td>1400.0</td>\n",
              "      <td>1767.55</td>\n",
              "      <td>1820.92</td>\n",
              "      <td>2700.00</td>\n",
              "      <td>1970.23</td>\n",
              "    </tr>\n",
              "    <tr>\n",
              "      <th>1</th>\n",
              "      <td>1650.0</td>\n",
              "      <td>1822.77</td>\n",
              "      <td>1517.09</td>\n",
              "      <td>1600.00</td>\n",
              "      <td>1537.77</td>\n",
              "    </tr>\n",
              "    <tr>\n",
              "      <th>2</th>\n",
              "      <td>2800.0</td>\n",
              "      <td>3007.07</td>\n",
              "      <td>1949.24</td>\n",
              "      <td>2500.00</td>\n",
              "      <td>2134.65</td>\n",
              "    </tr>\n",
              "    <tr>\n",
              "      <th>3</th>\n",
              "      <td>1800.0</td>\n",
              "      <td>2104.49</td>\n",
              "      <td>1951.68</td>\n",
              "      <td>1800.00</td>\n",
              "      <td>1971.87</td>\n",
              "    </tr>\n",
              "    <tr>\n",
              "      <th>4</th>\n",
              "      <td>2700.0</td>\n",
              "      <td>1778.56</td>\n",
              "      <td>1684.92</td>\n",
              "      <td>1918.33</td>\n",
              "      <td>1942.21</td>\n",
              "    </tr>\n",
              "    <tr>\n",
              "      <th>...</th>\n",
              "      <td>...</td>\n",
              "      <td>...</td>\n",
              "      <td>...</td>\n",
              "      <td>...</td>\n",
              "      <td>...</td>\n",
              "    </tr>\n",
              "    <tr>\n",
              "      <th>292</th>\n",
              "      <td>1700.0</td>\n",
              "      <td>1399.68</td>\n",
              "      <td>1128.91</td>\n",
              "      <td>1300.00</td>\n",
              "      <td>1021.73</td>\n",
              "    </tr>\n",
              "    <tr>\n",
              "      <th>293</th>\n",
              "      <td>1500.0</td>\n",
              "      <td>1755.23</td>\n",
              "      <td>1658.82</td>\n",
              "      <td>1483.33</td>\n",
              "      <td>1366.05</td>\n",
              "    </tr>\n",
              "    <tr>\n",
              "      <th>294</th>\n",
              "      <td>2700.0</td>\n",
              "      <td>2917.92</td>\n",
              "      <td>3109.85</td>\n",
              "      <td>2650.00</td>\n",
              "      <td>2767.30</td>\n",
              "    </tr>\n",
              "    <tr>\n",
              "      <th>295</th>\n",
              "      <td>1500.0</td>\n",
              "      <td>1796.11</td>\n",
              "      <td>1977.73</td>\n",
              "      <td>1960.00</td>\n",
              "      <td>1904.34</td>\n",
              "    </tr>\n",
              "    <tr>\n",
              "      <th>296</th>\n",
              "      <td>2400.0</td>\n",
              "      <td>1718.84</td>\n",
              "      <td>1762.66</td>\n",
              "      <td>2150.00</td>\n",
              "      <td>2033.54</td>\n",
              "    </tr>\n",
              "  </tbody>\n",
              "</table>\n",
              "<p>297 rows × 5 columns</p>\n",
              "</div>"
            ],
            "text/plain": [
              "       Real Predict_LR Predict_SVR Predict_DT Predict_RF\n",
              "0    1400.0    1767.55     1820.92    2700.00    1970.23\n",
              "1    1650.0    1822.77     1517.09    1600.00    1537.77\n",
              "2    2800.0    3007.07     1949.24    2500.00    2134.65\n",
              "3    1800.0    2104.49     1951.68    1800.00    1971.87\n",
              "4    2700.0    1778.56     1684.92    1918.33    1942.21\n",
              "..      ...        ...         ...        ...        ...\n",
              "292  1700.0    1399.68     1128.91    1300.00    1021.73\n",
              "293  1500.0    1755.23     1658.82    1483.33    1366.05\n",
              "294  2700.0    2917.92     3109.85    2650.00    2767.30\n",
              "295  1500.0    1796.11     1977.73    1960.00    1904.34\n",
              "296  2400.0    1718.84     1762.66    2150.00    2033.54\n",
              "\n",
              "[297 rows x 5 columns]"
            ]
          },
          "metadata": {
            "tags": []
          },
          "execution_count": 74
        }
      ]
    },
    {
      "cell_type": "code",
      "metadata": {
        "id": "K0O0QGm4nXAy",
        "colab_type": "code",
        "colab": {
          "base_uri": "https://localhost:8080/",
          "height": 542
        },
        "outputId": "2809aff4-9f86-4980-cba3-d2e0d6bb3504"
      },
      "source": [
        "fig = go.Figure()\n",
        "fig.add_trace(go.Scatter(x=predicoes.index, y=predicoes['Real'], mode='lines+markers', name='Valor Real'))\n",
        "fig.add_trace(go.Scatter(x=predicoes.index, y=predicoes['Predict_RF'], mode='lines+markers', name='Modelo Random Forest'))\n",
        "fig.show()"
      ],
      "execution_count": 75,
      "outputs": [
        {
          "output_type": "display_data",
          "data": {
            "text/html": [
              "<html>\n",
              "<head><meta charset=\"utf-8\" /></head>\n",
              "<body>\n",
              "    <div>\n",
              "            <script src=\"https://cdnjs.cloudflare.com/ajax/libs/mathjax/2.7.5/MathJax.js?config=TeX-AMS-MML_SVG\"></script><script type=\"text/javascript\">if (window.MathJax) {MathJax.Hub.Config({SVG: {font: \"STIX-Web\"}});}</script>\n",
              "                <script type=\"text/javascript\">window.PlotlyConfig = {MathJaxConfig: 'local'};</script>\n",
              "        <script src=\"https://cdn.plot.ly/plotly-latest.min.js\"></script>    \n",
              "            <div id=\"b079a4ef-23f1-4a8b-b131-4cc8ef1f8880\" class=\"plotly-graph-div\" style=\"height:525px; width:100%;\"></div>\n",
              "            <script type=\"text/javascript\">\n",
              "                \n",
              "                    window.PLOTLYENV=window.PLOTLYENV || {};\n",
              "                    \n",
              "                if (document.getElementById(\"b079a4ef-23f1-4a8b-b131-4cc8ef1f8880\")) {\n",
              "                    Plotly.newPlot(\n",
              "                        'b079a4ef-23f1-4a8b-b131-4cc8ef1f8880',\n",
              "                        [{\"mode\": \"lines+markers\", \"name\": \"Valor Real\", \"type\": \"scatter\", \"x\": [0, 1, 2, 3, 4, 5, 6, 7, 8, 9, 10, 11, 12, 13, 14, 15, 16, 17, 18, 19, 20, 21, 22, 23, 24, 25, 26, 27, 28, 29, 30, 31, 32, 33, 34, 35, 36, 37, 38, 39, 40, 41, 42, 43, 44, 45, 46, 47, 48, 49, 50, 51, 52, 53, 54, 55, 56, 57, 58, 59, 60, 61, 62, 63, 64, 65, 66, 67, 68, 69, 70, 71, 72, 73, 74, 75, 76, 77, 78, 79, 80, 81, 82, 83, 84, 85, 86, 87, 88, 89, 90, 91, 92, 93, 94, 95, 96, 97, 98, 99, 100, 101, 102, 103, 104, 105, 106, 107, 108, 109, 110, 111, 112, 113, 114, 115, 116, 117, 118, 119, 120, 121, 122, 123, 124, 125, 126, 127, 128, 129, 130, 131, 132, 133, 134, 135, 136, 137, 138, 139, 140, 141, 142, 143, 144, 145, 146, 147, 148, 149, 150, 151, 152, 153, 154, 155, 156, 157, 158, 159, 160, 161, 162, 163, 164, 165, 166, 167, 168, 169, 170, 171, 172, 173, 174, 175, 176, 177, 178, 179, 180, 181, 182, 183, 184, 185, 186, 187, 188, 189, 190, 191, 192, 193, 194, 195, 196, 197, 198, 199, 200, 201, 202, 203, 204, 205, 206, 207, 208, 209, 210, 211, 212, 213, 214, 215, 216, 217, 218, 219, 220, 221, 222, 223, 224, 225, 226, 227, 228, 229, 230, 231, 232, 233, 234, 235, 236, 237, 238, 239, 240, 241, 242, 243, 244, 245, 246, 247, 248, 249, 250, 251, 252, 253, 254, 255, 256, 257, 258, 259, 260, 261, 262, 263, 264, 265, 266, 267, 268, 269, 270, 271, 272, 273, 274, 275, 276, 277, 278, 279, 280, 281, 282, 283, 284, 285, 286, 287, 288, 289, 290, 291, 292, 293, 294, 295, 296], \"y\": [1400.0, 1650.0, 2800.0, 1800.0, 2700.0, 3500.0, 900.0, 600.0, 1800.0, 2000.0, 1800.0, 2100.0, 1500.0, 2500.0, 1600.0, 900.0, 3000.0, 2500.0, 1350.0, 1350.0, 1650.0, 450.0, 550.0, 2900.0, 1150.0, 2550.0, 1007.0, 1215.0, 1450.0, 1650.0, 1300.0, 1100.0, 1600.0, 1300.0, 909.9999999999999, 1400.0, 2300.0, 1200.0, 3000.0, 2000.0, 330.0, 2300.0, 480.0, 2200.0, 1800.0, 800.0000000000001, 2000.0, 1200.0, 2400.0, 3500.0, 1200.0, 2300.0, 2871.0, 2500.0, 2230.0, 2200.0, 2500.0, 1500.0, 1400.0, 1800.0, 1400.0, 1500.0, 2400.0, 2000.0, 1800.0, 1700.0, 1300.0, 1400.0, 1500.0, 1450.0, 2500.0, 1300.0, 2000.0, 919.9999999999999, 1200.0, 2500.0, 1750.0, 2300.0, 1200.0, 1400.0, 1399.0, 1200.0, 1200.0, 2000.0, 1700.0, 1600.0, 890.0, 1800.0, 2700.0, 1300.0, 3000.0, 2200.0, 3000.0, 2800.0, 821.0, 1500.0, 2000.0, 3000.0, 2180.0, 1400.0, 1200.0, 1400.0, 1700.0, 3000.0, 1700.0, 1800.0, 2250.0, 2000.0, 900.0, 2800.0, 1500.0, 2400.0, 850.0, 1600.0, 1000.0, 1375.0, 600.0, 1400.0, 2000.0, 1200.0, 1500.0, 2000.0, 1550.0, 2250.0, 1700.0, 1300.0, 1500.0, 1200.0, 1250.0, 1100.0, 1000.0, 1050.0, 2200.0, 1500.0, 550.0, 2500.0, 2200.0, 1005.0, 1755.0, 1800.0, 2000.0, 1300.0, 1400.0, 1550.0, 1400.0, 950.0, 1400.0, 1800.0, 1300.0, 1200.0, 2500.0, 2700.0, 1700.0, 1553.0, 950.0, 600.0, 2800.0, 1500.0, 900.0, 1600.0, 2500.0, 330.0, 650.0, 1600.0, 1000.0, 1000.0, 1300.0, 800.0000000000001, 1600.0, 1006.0, 2900.0, 2900.0, 700.0, 2200.0, 650.0, 2600.0, 1000.0, 1000.0, 2300.0, 1320.0, 2200.0, 2600.0, 1750.0, 3200.0, 1300.0, 3000.0, 2500.0, 3300.0, 750.0, 950.0, 1700.0, 2000.0, 2300.0, 1450.0, 1050.0, 2050.0, 1400.0, 750.0, 1300.0, 1300.0, 1600.0, 1700.0, 1300.0, 1400.0, 1400.0, 1900.0, 2200.0, 1700.0, 1600.0, 2500.0, 1100.0, 2000.0, 2500.0, 2300.0, 2000.0, 1000.0, 2700.0, 3100.0, 1900.0, 2300.0, 1400.0, 950.0, 1400.0, 2500.0, 1300.0, 1300.0, 2600.0, 2700.0, 2200.0, 1400.0, 2200.0, 3500.0, 1007.0, 750.0, 1000.0, 1800.0, 1000.0, 1900.0, 2200.0, 1005.0, 1800.0, 1800.0, 2800.0, 1600.0, 2750.0, 1000.0, 1100.0, 1700.0, 2200.0, 2000.0, 1950.0, 1250.0, 3000.0, 1800.0, 1500.0, 1500.0, 1005.0, 480.0, 2600.0, 1500.0, 650.0, 1300.0, 3700.0, 1500.0, 2300.0, 1300.0, 2500.0, 3000.0, 2800.0, 1800.0, 2500.0, 800.0000000000001, 1300.0, 1900.0, 1800.0, 2500.0, 850.0, 1800.0, 850.0, 2200.0, 1100.0, 2500.0, 1500.0, 2900.0, 1250.0, 1100.0, 550.0, 870.0, 2200.0, 480.0, 2500.0, 1200.0, 1700.0, 1500.0, 2700.0, 1500.0, 2400.0]}, {\"mode\": \"lines+markers\", \"name\": \"Modelo Random Forest\", \"type\": \"scatter\", \"x\": [0, 1, 2, 3, 4, 5, 6, 7, 8, 9, 10, 11, 12, 13, 14, 15, 16, 17, 18, 19, 20, 21, 22, 23, 24, 25, 26, 27, 28, 29, 30, 31, 32, 33, 34, 35, 36, 37, 38, 39, 40, 41, 42, 43, 44, 45, 46, 47, 48, 49, 50, 51, 52, 53, 54, 55, 56, 57, 58, 59, 60, 61, 62, 63, 64, 65, 66, 67, 68, 69, 70, 71, 72, 73, 74, 75, 76, 77, 78, 79, 80, 81, 82, 83, 84, 85, 86, 87, 88, 89, 90, 91, 92, 93, 94, 95, 96, 97, 98, 99, 100, 101, 102, 103, 104, 105, 106, 107, 108, 109, 110, 111, 112, 113, 114, 115, 116, 117, 118, 119, 120, 121, 122, 123, 124, 125, 126, 127, 128, 129, 130, 131, 132, 133, 134, 135, 136, 137, 138, 139, 140, 141, 142, 143, 144, 145, 146, 147, 148, 149, 150, 151, 152, 153, 154, 155, 156, 157, 158, 159, 160, 161, 162, 163, 164, 165, 166, 167, 168, 169, 170, 171, 172, 173, 174, 175, 176, 177, 178, 179, 180, 181, 182, 183, 184, 185, 186, 187, 188, 189, 190, 191, 192, 193, 194, 195, 196, 197, 198, 199, 200, 201, 202, 203, 204, 205, 206, 207, 208, 209, 210, 211, 212, 213, 214, 215, 216, 217, 218, 219, 220, 221, 222, 223, 224, 225, 226, 227, 228, 229, 230, 231, 232, 233, 234, 235, 236, 237, 238, 239, 240, 241, 242, 243, 244, 245, 246, 247, 248, 249, 250, 251, 252, 253, 254, 255, 256, 257, 258, 259, 260, 261, 262, 263, 264, 265, 266, 267, 268, 269, 270, 271, 272, 273, 274, 275, 276, 277, 278, 279, 280, 281, 282, 283, 284, 285, 286, 287, 288, 289, 290, 291, 292, 293, 294, 295, 296], \"y\": [\"1970.23\", \"1537.77\", \"2134.65\", \"1971.87\", \"1942.21\", \"1975.41\", \"1545.09\", \"904.34\", \"1447.15\", \"1400.12\", \"2097.60\", \"1919.64\", \"1509.86\", \"2346.49\", \"1588.60\", \"1277.25\", \"2642.97\", \"3316.28\", \"1344.05\", \"1983.50\", \"1756.05\", \"745.47\", \"552.79\", \"2522.68\", \"678.14\", \"2786.20\", \"1086.25\", \"1457.76\", \"1524.10\", \"1712.47\", \"1844.85\", \"1502.42\", \"1921.03\", \"2087.66\", \"1101.25\", \"1680.52\", \"1525.20\", \"1155.87\", \"2458.87\", \"1997.96\", \"1029.93\", \"2007.39\", \"485.41\", \"1805.97\", \"2165.92\", \"761.32\", \"1676.54\", \"1844.30\", \"2501.25\", \"3055.84\", \"1538.46\", \"2138.90\", \"1714.67\", \"2490.33\", \"2517.33\", \"2371.30\", \"1543.94\", \"1308.93\", \"1601.54\", \"1460.98\", \"1525.76\", \"1364.50\", \"1936.24\", \"2091.95\", \"1350.34\", \"1997.96\", \"1191.03\", \"1700.99\", \"1781.44\", \"2115.17\", \"2023.30\", \"1285.58\", \"2030.06\", \"1214.07\", \"1283.85\", \"2458.87\", \"1509.86\", \"2638.09\", \"1384.11\", \"1586.47\", \"1459.09\", \"1919.64\", \"1689.38\", \"2089.94\", \"2217.44\", \"1631.64\", \"1281.51\", \"1959.16\", \"2509.03\", \"1681.50\", \"1650.59\", \"1919.64\", \"1987.07\", \"2694.19\", \"1342.94\", \"1541.70\", \"1100.06\", \"2616.60\", \"2498.20\", \"1257.24\", \"1460.04\", \"1509.86\", \"1919.64\", \"2097.23\", \"1919.64\", \"1924.37\", \"1950.32\", \"1919.64\", \"996.57\", \"2481.59\", \"1973.06\", \"2010.42\", \"1640.06\", \"1516.01\", \"1446.21\", \"1196.94\", \"1065.16\", \"2115.17\", \"1519.92\", \"1471.74\", \"1036.51\", \"1834.05\", \"1496.03\", \"1649.03\", \"1505.76\", \"1715.84\", \"1724.94\", \"1629.81\", \"1055.58\", \"1246.22\", \"1055.58\", \"1116.26\", \"1532.97\", \"1503.83\", \"552.79\", \"2543.89\", \"1936.24\", \"1086.25\", \"1471.83\", \"2097.60\", \"2294.10\", \"1347.57\", \"1523.72\", \"1481.07\", \"1635.26\", \"2098.23\", \"1453.85\", \"1942.21\", \"1719.00\", \"1169.07\", \"2539.91\", \"2639.84\", \"1693.24\", \"1065.63\", \"1033.63\", \"1232.19\", \"2522.68\", \"1513.11\", \"1082.16\", \"1578.46\", \"2317.78\", \"952.95\", \"1228.30\", \"1418.24\", \"1144.46\", \"1818.91\", \"1950.32\", \"1170.11\", \"1313.50\", \"1086.25\", \"2250.69\", \"2801.66\", \"1029.61\", \"1890.77\", \"646.05\", \"1442.67\", \"1504.57\", \"1593.11\", \"1997.96\", \"1720.15\", \"1924.37\", \"2767.30\", \"1860.26\", \"2327.83\", \"2702.42\", \"2394.20\", \"2295.35\", \"3283.71\", \"1173.31\", \"1586.34\", \"2573.73\", \"1942.21\", \"1898.92\", \"1509.86\", \"1307.64\", \"1526.99\", \"1463.72\", \"974.72\", \"1840.94\", \"1740.62\", \"1921.03\", \"1680.52\", \"1445.91\", \"1534.66\", \"1222.47\", \"1300.66\", \"2240.29\", \"1693.84\", \"1505.76\", \"2065.64\", \"1919.64\", \"1857.86\", \"1919.64\", \"2485.11\", \"1936.24\", \"1091.35\", \"1950.32\", \"2494.35\", \"1838.42\", \"2690.50\", \"1519.92\", \"1130.24\", \"1502.36\", \"2752.33\", \"1719.00\", \"1599.72\", \"2199.15\", \"1942.21\", \"2025.76\", \"1734.96\", \"1987.07\", \"3479.04\", \"1086.25\", \"1467.55\", \"1177.42\", \"1554.12\", \"1134.74\", \"1503.83\", \"2102.00\", \"1086.25\", \"1660.79\", \"1942.21\", \"2694.19\", \"1505.76\", \"2675.30\", \"1508.12\", \"1485.41\", \"1919.64\", \"1463.25\", \"1947.50\", \"1431.57\", \"1094.97\", \"1919.64\", \"1920.95\", \"1414.76\", \"1482.84\", \"1086.25\", \"479.70\", \"1919.64\", \"1942.21\", \"677.76\", \"1457.36\", \"3017.95\", \"1316.59\", \"1942.21\", \"1283.85\", \"1919.64\", \"2938.03\", \"2225.07\", \"1796.45\", \"2690.50\", \"1781.44\", \"1644.43\", \"1539.25\", \"1855.70\", \"2008.93\", \"771.78\", \"1524.86\", \"1359.22\", \"1919.64\", \"1280.30\", \"1983.50\", \"1501.76\", \"2652.06\", \"1872.04\", \"1130.24\", \"737.13\", \"1094.56\", \"2534.37\", \"479.70\", \"2039.61\", \"1412.01\", \"1021.73\", \"1366.05\", \"2767.30\", \"1904.34\", \"2033.54\"]}],\n",
              "                        {\"template\": {\"data\": {\"bar\": [{\"error_x\": {\"color\": \"#2a3f5f\"}, \"error_y\": {\"color\": \"#2a3f5f\"}, \"marker\": {\"line\": {\"color\": \"#E5ECF6\", \"width\": 0.5}}, \"type\": \"bar\"}], \"barpolar\": [{\"marker\": {\"line\": {\"color\": \"#E5ECF6\", \"width\": 0.5}}, \"type\": \"barpolar\"}], \"carpet\": [{\"aaxis\": {\"endlinecolor\": \"#2a3f5f\", \"gridcolor\": \"white\", \"linecolor\": \"white\", \"minorgridcolor\": \"white\", \"startlinecolor\": \"#2a3f5f\"}, \"baxis\": {\"endlinecolor\": \"#2a3f5f\", \"gridcolor\": \"white\", \"linecolor\": \"white\", \"minorgridcolor\": \"white\", \"startlinecolor\": \"#2a3f5f\"}, \"type\": \"carpet\"}], \"choropleth\": [{\"colorbar\": {\"outlinewidth\": 0, \"ticks\": \"\"}, \"type\": \"choropleth\"}], \"contour\": [{\"colorbar\": {\"outlinewidth\": 0, \"ticks\": \"\"}, \"colorscale\": [[0.0, \"#0d0887\"], [0.1111111111111111, \"#46039f\"], [0.2222222222222222, \"#7201a8\"], [0.3333333333333333, \"#9c179e\"], [0.4444444444444444, \"#bd3786\"], [0.5555555555555556, \"#d8576b\"], [0.6666666666666666, \"#ed7953\"], [0.7777777777777778, \"#fb9f3a\"], [0.8888888888888888, \"#fdca26\"], [1.0, \"#f0f921\"]], \"type\": \"contour\"}], \"contourcarpet\": [{\"colorbar\": {\"outlinewidth\": 0, \"ticks\": \"\"}, \"type\": \"contourcarpet\"}], \"heatmap\": [{\"colorbar\": {\"outlinewidth\": 0, \"ticks\": \"\"}, \"colorscale\": [[0.0, \"#0d0887\"], [0.1111111111111111, \"#46039f\"], [0.2222222222222222, \"#7201a8\"], [0.3333333333333333, \"#9c179e\"], [0.4444444444444444, \"#bd3786\"], [0.5555555555555556, \"#d8576b\"], [0.6666666666666666, \"#ed7953\"], [0.7777777777777778, \"#fb9f3a\"], [0.8888888888888888, \"#fdca26\"], [1.0, \"#f0f921\"]], \"type\": \"heatmap\"}], \"heatmapgl\": [{\"colorbar\": {\"outlinewidth\": 0, \"ticks\": \"\"}, \"colorscale\": [[0.0, \"#0d0887\"], [0.1111111111111111, \"#46039f\"], [0.2222222222222222, \"#7201a8\"], [0.3333333333333333, \"#9c179e\"], [0.4444444444444444, \"#bd3786\"], [0.5555555555555556, \"#d8576b\"], [0.6666666666666666, \"#ed7953\"], [0.7777777777777778, \"#fb9f3a\"], [0.8888888888888888, \"#fdca26\"], [1.0, \"#f0f921\"]], \"type\": \"heatmapgl\"}], \"histogram\": [{\"marker\": {\"colorbar\": {\"outlinewidth\": 0, \"ticks\": \"\"}}, \"type\": \"histogram\"}], \"histogram2d\": [{\"colorbar\": {\"outlinewidth\": 0, \"ticks\": \"\"}, \"colorscale\": [[0.0, \"#0d0887\"], [0.1111111111111111, \"#46039f\"], [0.2222222222222222, \"#7201a8\"], [0.3333333333333333, \"#9c179e\"], [0.4444444444444444, \"#bd3786\"], [0.5555555555555556, \"#d8576b\"], [0.6666666666666666, \"#ed7953\"], [0.7777777777777778, \"#fb9f3a\"], [0.8888888888888888, \"#fdca26\"], [1.0, \"#f0f921\"]], \"type\": \"histogram2d\"}], \"histogram2dcontour\": [{\"colorbar\": {\"outlinewidth\": 0, \"ticks\": \"\"}, \"colorscale\": [[0.0, \"#0d0887\"], [0.1111111111111111, \"#46039f\"], [0.2222222222222222, \"#7201a8\"], [0.3333333333333333, \"#9c179e\"], [0.4444444444444444, \"#bd3786\"], [0.5555555555555556, \"#d8576b\"], [0.6666666666666666, \"#ed7953\"], [0.7777777777777778, \"#fb9f3a\"], [0.8888888888888888, \"#fdca26\"], [1.0, \"#f0f921\"]], \"type\": \"histogram2dcontour\"}], \"mesh3d\": [{\"colorbar\": {\"outlinewidth\": 0, \"ticks\": \"\"}, \"type\": \"mesh3d\"}], \"parcoords\": [{\"line\": {\"colorbar\": {\"outlinewidth\": 0, \"ticks\": \"\"}}, \"type\": \"parcoords\"}], \"pie\": [{\"automargin\": true, \"type\": \"pie\"}], \"scatter\": [{\"marker\": {\"colorbar\": {\"outlinewidth\": 0, \"ticks\": \"\"}}, \"type\": \"scatter\"}], \"scatter3d\": [{\"line\": {\"colorbar\": {\"outlinewidth\": 0, \"ticks\": \"\"}}, \"marker\": {\"colorbar\": {\"outlinewidth\": 0, \"ticks\": \"\"}}, \"type\": \"scatter3d\"}], \"scattercarpet\": [{\"marker\": {\"colorbar\": {\"outlinewidth\": 0, \"ticks\": \"\"}}, \"type\": \"scattercarpet\"}], \"scattergeo\": [{\"marker\": {\"colorbar\": {\"outlinewidth\": 0, \"ticks\": \"\"}}, \"type\": \"scattergeo\"}], \"scattergl\": [{\"marker\": {\"colorbar\": {\"outlinewidth\": 0, \"ticks\": \"\"}}, \"type\": \"scattergl\"}], \"scattermapbox\": [{\"marker\": {\"colorbar\": {\"outlinewidth\": 0, \"ticks\": \"\"}}, \"type\": \"scattermapbox\"}], \"scatterpolar\": [{\"marker\": {\"colorbar\": {\"outlinewidth\": 0, \"ticks\": \"\"}}, \"type\": \"scatterpolar\"}], \"scatterpolargl\": [{\"marker\": {\"colorbar\": {\"outlinewidth\": 0, \"ticks\": \"\"}}, \"type\": \"scatterpolargl\"}], \"scatterternary\": [{\"marker\": {\"colorbar\": {\"outlinewidth\": 0, \"ticks\": \"\"}}, \"type\": \"scatterternary\"}], \"surface\": [{\"colorbar\": {\"outlinewidth\": 0, \"ticks\": \"\"}, \"colorscale\": [[0.0, \"#0d0887\"], [0.1111111111111111, \"#46039f\"], [0.2222222222222222, \"#7201a8\"], [0.3333333333333333, \"#9c179e\"], [0.4444444444444444, \"#bd3786\"], [0.5555555555555556, \"#d8576b\"], [0.6666666666666666, \"#ed7953\"], [0.7777777777777778, \"#fb9f3a\"], [0.8888888888888888, \"#fdca26\"], [1.0, \"#f0f921\"]], \"type\": \"surface\"}], \"table\": [{\"cells\": {\"fill\": {\"color\": \"#EBF0F8\"}, \"line\": {\"color\": \"white\"}}, \"header\": {\"fill\": {\"color\": \"#C8D4E3\"}, \"line\": {\"color\": \"white\"}}, \"type\": \"table\"}]}, \"layout\": {\"annotationdefaults\": {\"arrowcolor\": \"#2a3f5f\", \"arrowhead\": 0, \"arrowwidth\": 1}, \"coloraxis\": {\"colorbar\": {\"outlinewidth\": 0, \"ticks\": \"\"}}, \"colorscale\": {\"diverging\": [[0, \"#8e0152\"], [0.1, \"#c51b7d\"], [0.2, \"#de77ae\"], [0.3, \"#f1b6da\"], [0.4, \"#fde0ef\"], [0.5, \"#f7f7f7\"], [0.6, \"#e6f5d0\"], [0.7, \"#b8e186\"], [0.8, \"#7fbc41\"], [0.9, \"#4d9221\"], [1, \"#276419\"]], \"sequential\": [[0.0, \"#0d0887\"], [0.1111111111111111, \"#46039f\"], [0.2222222222222222, \"#7201a8\"], [0.3333333333333333, \"#9c179e\"], [0.4444444444444444, \"#bd3786\"], [0.5555555555555556, \"#d8576b\"], [0.6666666666666666, \"#ed7953\"], [0.7777777777777778, \"#fb9f3a\"], [0.8888888888888888, \"#fdca26\"], [1.0, \"#f0f921\"]], \"sequentialminus\": [[0.0, \"#0d0887\"], [0.1111111111111111, \"#46039f\"], [0.2222222222222222, \"#7201a8\"], [0.3333333333333333, \"#9c179e\"], [0.4444444444444444, \"#bd3786\"], [0.5555555555555556, \"#d8576b\"], [0.6666666666666666, \"#ed7953\"], [0.7777777777777778, \"#fb9f3a\"], [0.8888888888888888, \"#fdca26\"], [1.0, \"#f0f921\"]]}, \"colorway\": [\"#636efa\", \"#EF553B\", \"#00cc96\", \"#ab63fa\", \"#FFA15A\", \"#19d3f3\", \"#FF6692\", \"#B6E880\", \"#FF97FF\", \"#FECB52\"], \"font\": {\"color\": \"#2a3f5f\"}, \"geo\": {\"bgcolor\": \"white\", \"lakecolor\": \"white\", \"landcolor\": \"#E5ECF6\", \"showlakes\": true, \"showland\": true, \"subunitcolor\": \"white\"}, \"hoverlabel\": {\"align\": \"left\"}, \"hovermode\": \"closest\", \"mapbox\": {\"style\": \"light\"}, \"paper_bgcolor\": \"white\", \"plot_bgcolor\": \"#E5ECF6\", \"polar\": {\"angularaxis\": {\"gridcolor\": \"white\", \"linecolor\": \"white\", \"ticks\": \"\"}, \"bgcolor\": \"#E5ECF6\", \"radialaxis\": {\"gridcolor\": \"white\", \"linecolor\": \"white\", \"ticks\": \"\"}}, \"scene\": {\"xaxis\": {\"backgroundcolor\": \"#E5ECF6\", \"gridcolor\": \"white\", \"gridwidth\": 2, \"linecolor\": \"white\", \"showbackground\": true, \"ticks\": \"\", \"zerolinecolor\": \"white\"}, \"yaxis\": {\"backgroundcolor\": \"#E5ECF6\", \"gridcolor\": \"white\", \"gridwidth\": 2, \"linecolor\": \"white\", \"showbackground\": true, \"ticks\": \"\", \"zerolinecolor\": \"white\"}, \"zaxis\": {\"backgroundcolor\": \"#E5ECF6\", \"gridcolor\": \"white\", \"gridwidth\": 2, \"linecolor\": \"white\", \"showbackground\": true, \"ticks\": \"\", \"zerolinecolor\": \"white\"}}, \"shapedefaults\": {\"line\": {\"color\": \"#2a3f5f\"}}, \"ternary\": {\"aaxis\": {\"gridcolor\": \"white\", \"linecolor\": \"white\", \"ticks\": \"\"}, \"baxis\": {\"gridcolor\": \"white\", \"linecolor\": \"white\", \"ticks\": \"\"}, \"bgcolor\": \"#E5ECF6\", \"caxis\": {\"gridcolor\": \"white\", \"linecolor\": \"white\", \"ticks\": \"\"}}, \"title\": {\"x\": 0.05}, \"xaxis\": {\"automargin\": true, \"gridcolor\": \"white\", \"linecolor\": \"white\", \"ticks\": \"\", \"title\": {\"standoff\": 15}, \"zerolinecolor\": \"white\", \"zerolinewidth\": 2}, \"yaxis\": {\"automargin\": true, \"gridcolor\": \"white\", \"linecolor\": \"white\", \"ticks\": \"\", \"title\": {\"standoff\": 15}, \"zerolinecolor\": \"white\", \"zerolinewidth\": 2}}}},\n",
              "                        {\"responsive\": true}\n",
              "                    ).then(function(){\n",
              "                            \n",
              "var gd = document.getElementById('b079a4ef-23f1-4a8b-b131-4cc8ef1f8880');\n",
              "var x = new MutationObserver(function (mutations, observer) {{\n",
              "        var display = window.getComputedStyle(gd).display;\n",
              "        if (!display || display === 'none') {{\n",
              "            console.log([gd, 'removed!']);\n",
              "            Plotly.purge(gd);\n",
              "            observer.disconnect();\n",
              "        }}\n",
              "}});\n",
              "\n",
              "// Listen for the removal of the full notebook cells\n",
              "var notebookContainer = gd.closest('#notebook-container');\n",
              "if (notebookContainer) {{\n",
              "    x.observe(notebookContainer, {childList: true});\n",
              "}}\n",
              "\n",
              "// Listen for the clearing of the current output cell\n",
              "var outputEl = gd.closest('.output');\n",
              "if (outputEl) {{\n",
              "    x.observe(outputEl, {childList: true});\n",
              "}}\n",
              "\n",
              "                        })\n",
              "                };\n",
              "                \n",
              "            </script>\n",
              "        </div>\n",
              "</body>\n",
              "</html>"
            ]
          },
          "metadata": {
            "tags": []
          }
        }
      ]
    },
    {
      "cell_type": "markdown",
      "metadata": {
        "id": "MadrQ32OhuHc",
        "colab_type": "text"
      },
      "source": [
        "Após o teste com quatro algorítmos de Regressão Linear, foi verificado que o que melhor se adequa ao problema foi o Random Forest, que atingiu um score R² de 0.63 e um RMSE de 0.57"
      ]
    },
    {
      "cell_type": "code",
      "metadata": {
        "id": "llOpUCMxEebC",
        "colab_type": "code",
        "colab": {}
      },
      "source": [
        "# Salvando os dados em um arquivo CSV para a entrada no Webapp\n",
        "df[['bairro','bairro_encoded', 'condominio', 'area','quartos', 'banheiros', 'suite', 'vagas', 'aluguel']].to_csv(\"data_features.csv\")"
      ],
      "execution_count": 76,
      "outputs": []
    }
  ]
}